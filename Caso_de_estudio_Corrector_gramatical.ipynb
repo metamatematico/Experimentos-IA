{
  "nbformat": 4,
  "nbformat_minor": 0,
  "metadata": {
    "kernelspec": {
      "display_name": "Python 3",
      "language": "python",
      "name": "python3"
    },
    "language_info": {
      "codemirror_mode": {
        "name": "ipython",
        "version": 3
      },
      "file_extension": ".py",
      "mimetype": "text/x-python",
      "name": "python",
      "nbconvert_exporter": "python",
      "pygments_lexer": "ipython3",
      "version": "3.7.5"
    },
    "colab": {
      "name": "Caso de estudio Corrector gramatical.ipynb",
      "provenance": [],
      "include_colab_link": true
    }
  },
  "cells": [
    {
      "cell_type": "markdown",
      "metadata": {
        "id": "view-in-github",
        "colab_type": "text"
      },
      "source": [
        "<a href=\"https://colab.research.google.com/github/metamatematico/hello-world/blob/master/Caso_de_estudio_Corrector_gramatical.ipynb\" target=\"_parent\"><img src=\"https://colab.research.google.com/assets/colab-badge.svg\" alt=\"Open In Colab\"/></a>"
      ]
    },
    {
      "cell_type": "markdown",
      "metadata": {
        "id": "9iN14lWIG4aO"
      },
      "source": [
        "# Caso de estudio: Corrector gramatical"
      ]
    },
    {
      "cell_type": "code",
      "metadata": {
        "colab": {
          "base_uri": "https://localhost:8080/"
        },
        "id": "xkXlxnCFG4aQ",
        "outputId": "2521a307-0672-4cc8-db38-fad2247205c8"
      },
      "source": [
        "# Importación dela librería de SpaCy\n",
        "from spacy import displacy\n",
        "import spacy.cli\n",
        "spacy.cli.download(\"es_core_news_sm\")\n",
        "pln_es = spacy.load(\"es_core_news_sm\")"
      ],
      "execution_count": null,
      "outputs": [
        {
          "output_type": "stream",
          "text": [
            "\u001b[38;5;2m✔ Download and installation successful\u001b[0m\n",
            "You can now load the model via spacy.load('es_core_news_sm')\n"
          ],
          "name": "stdout"
        }
      ]
    },
    {
      "cell_type": "code",
      "metadata": {
        "id": "ys4sFWTQG4aQ"
      },
      "source": [
        "# Módulo para correguir errores de ortografía comunes\n",
        "# Utilizando un diccionario\n",
        "\n",
        "Diccionario = {'hola' : 'ola',  'favor': 'fabor', 'ver'    : 'ber',\n",
        "               'hacer': 'acer', 'allá' : 'ayá',   'gracias': 'grasias',\n",
        "               'saldo': 'zaldo'}\n",
        "\n",
        "def ERRORES_COMUNES(Texto):\n",
        "    Errores = 0\n",
        "    Texto_PLN = pln_es(Texto)\n",
        "    for token in Texto_PLN:\n",
        "        for error, correcto in zip(Diccionario.values(), Diccionario.keys()):\n",
        "            # Si nos encontramos una palabra mal escrita, la REEMPLAZAMOS\n",
        "            if token.text.lower() == error:\n",
        "                Texto = Texto.replace(error, '[' + correcto + ']')\n",
        "                Errores += 1\n",
        "    print(' * ' + str(Errores) + \" errores de ortografía encontrados\")\n",
        "    return Texto"
      ],
      "execution_count": null,
      "outputs": []
    },
    {
      "cell_type": "code",
      "metadata": {
        "id": "1xJPwBTgG4aR"
      },
      "source": [
        "# Módulo para correguir errores dentre singulares y plurales\n",
        "# (Solo se aplica a nouns)\n",
        "\n",
        "def TIEMPOS_VERBALES(Texto):\n",
        "    Errores = 0\n",
        "    Texto_PLN = pln_es(Texto.replace('[', '').replace(']', ''))\n",
        "    lista = list(Texto_PLN)\n",
        "    for i in range(len(lista)-1):\n",
        "        # Se evalúa solo si el token es un NOUN\n",
        "        if lista[i+1].pos == 'NOUN': \n",
        "            Value1 = lista[i].tag_.find('Number')\n",
        "            Value2 = lista[i+1].tag_.find('Number')\n",
        "            Palabra = lista[i+1].text\n",
        "            if Value1 >= 0 and Value2 >= 0:\n",
        "                # Si la etiqueta de \"Number\" para el token es singular, y la siguiente plural o al revés, es un error\n",
        "                if lista[i].tag_[Value1 + 7 : Value1 + 11] == 'Sing' and lista[i+1].tag_[Value2 + 7 : Value2 + 11] == 'Plur':\n",
        "                    Texto = Texto.replace(Palabra, '[' + Palabra[:len(Palabra)-1] + ']')\n",
        "                    Errores += 1\n",
        "                if lista[i].tag_[Value1 + 7 : Value1 + 11] == 'Plur' and lista[i+1].tag_[Value2 + 7 : Value2 + 11] == 'Sing':\n",
        "                    Texto = Texto.replace(Palabra, '[' + Palabra + 's]')\n",
        "                    Errores += 1\n",
        "    print(' * ' + str(Errores) + \" errores de sing / plur encontrados\")\n",
        "    return Texto"
      ],
      "execution_count": null,
      "outputs": []
    },
    {
      "cell_type": "code",
      "metadata": {
        "id": "tt_vC3WlG4aR"
      },
      "source": [
        "# Módulo para detectar palabras repetidas\n",
        "\n",
        "def PALABRA_REPETIDA(Texto):\n",
        "    Errores = 0\n",
        "    Texto_PLN = pln_es(Texto.replace('[', '').replace(']', ''))\n",
        "    lista = list(Texto_PLN)\n",
        "    for i in range(len(lista)-1):\n",
        "        # Si la palabra es exactamente la misma que la siguioente, se trata de un error\n",
        "        if(lista[i].text == lista[i+1].text):\n",
        "            Texto = Texto.replace(lista[i].text + \" \" + lista[i].text, lista[i].text + ' []')\n",
        "            Errores += 1\n",
        "    print(' * ' + str(Errores) + \" errores de palabras repetidas\")\n",
        "    return Texto"
      ],
      "execution_count": null,
      "outputs": []
    },
    {
      "cell_type": "code",
      "metadata": {
        "id": "ucsrhYfiG4aR"
      },
      "source": [
        "# Módulo para detectar problemas con mayúsculas y minúsculas\n",
        "\n",
        "def MAYUSC_MINUSC(Texto):\n",
        "    Errores = 0\n",
        "    Texto_PLN = pln_es(Texto)\n",
        "    lista = list(Texto_PLN)\n",
        "    for i in range(len(lista)):\n",
        "        # Si las mayúsculas y minúsculas están mezcladas\n",
        "        if str(lista[i].shape_).count(\"X\")>1 and str(lista[i].shape_).count(\"x\")>1:\n",
        "            Texto = Texto.replace(lista[i].text, '[' + lista[i].text.lower() + ']')\n",
        "            Errores += 1\n",
        "        # Si hay una mayúscula y antes no hay un punto\n",
        "        if str(lista[i].shape_).count(\"X\")==1 and lista[i-1].text != '.' and i != 0:\n",
        "            Texto = Texto.replace(lista[i].text, '[' + lista[i].text.lower() + ']')\n",
        "            Errores += 1\n",
        "    print(' * ' + str(Errores) + \" errores de palaras con mayusc y minusc\")\n",
        "    return Texto"
      ],
      "execution_count": null,
      "outputs": []
    },
    {
      "cell_type": "code",
      "metadata": {
        "id": "-oOqi8rnG4aR"
      },
      "source": [
        "# Modulo para detectar problemas con verbos auxiliares\n",
        "# Necesitas / Debes / Puedes \n",
        "\n",
        "def VERBOS_AUXILIARES(Texto):\n",
        "    Errores = 0\n",
        "    Texto_PLN = pln_es(Texto.replace('[', '').replace(']', ''))\n",
        "    lista = list(Texto_PLN)\n",
        "    for i in range(len(lista)-1):\n",
        "        # Si nos encontramos un Verbo auxiliar y después un verbo, se puede analizar\n",
        "        if(lista[i].pos_ == 'AUX' and lista[i+1].pos_ == 'VERB'):\n",
        "            Valor = lista[i+1].tag_.find('VerbForm')\n",
        "            # Si el verbo después del auxiiar no está en infinitivo, es un error\n",
        "            if lista[i+1].tag_[Valor + 9 : Valor + 12] != 'Inf':\n",
        "                Texto = Texto.replace(lista[i+1].text, '[' + str(lista[i+1].lemma) + ']')\n",
        "                Errores += 1\n",
        "    print(' * ' + str(Errores) + \" errores con verbos auxiliares\")\n",
        "    return Texto"
      ],
      "execution_count": null,
      "outputs": []
    },
    {
      "cell_type": "code",
      "metadata": {
        "colab": {
          "base_uri": "https://localhost:8080/"
        },
        "id": "XZZbi0vUG4aR",
        "outputId": "246cb7ef-e070-44c8-f548-364127d2e218"
      },
      "source": [
        "# Ingresamos el texto a evaluar y hacemos que sea evaluado\n",
        "# por todos los módulos que ya definimos\n",
        "Entrada = input(\"Texto para revisión: \\n\")\n",
        "print('\\n')\n",
        "\n",
        "Entrada = ERRORES_COMUNES(Entrada)\n",
        "Entrada = TIEMPOS_VERBALES(Entrada)\n",
        "Entrada = PALABRA_REPETIDA(Entrada)\n",
        "Entrada = MAYUSC_MINUSC(Entrada)\n",
        "Entrada = VERBOS_AUXILIARES(Entrada)\n",
        "\n",
        "print('\\nTexto corregido:\\n' + Entrada)"
      ],
      "execution_count": null,
      "outputs": [
        {
          "output_type": "stream",
          "text": [
            "Texto para revisión: \n",
            "# ola señorita, me puede dar mi zaldo por fabor, grasias, lo que pasa pasa es que quiero Comprar una casas en la playa playa para que los niño jueguen en el patio. Mi PeRRo es muy juguetón, por eso me mudo a la CDMX. EL casero mE dijo: \"debes pagado antes del viernes viernes\".\n",
            "\n",
            "\n",
            " * 4 errores de ortografía encontrados\n",
            " * 0 errores de sing / plur encontrados\n",
            " * 3 errores de palabras repetidas\n",
            " * 3 errores de palaras con mayusc y minusc\n",
            " * 0 errores con verbos auxiliares\n",
            "\n",
            "Texto corregido:\n",
            "# [hola] señorita, me puede dar mi [saldo] por [favor], [gracias], lo que pasa [] es que quiero [comprar] una casas en la playa [] para que los niño jueguen en el patio. Mi [perro] es muy juguetón, por eso me mudo a la CDMX. EL casero [me] dijo: \"debes pagado antes del viernes []\".\n"
          ],
          "name": "stdout"
        }
      ]
    },
    {
      "cell_type": "code",
      "metadata": {
        "id": "Ipz7ldebG4aR"
      },
      "source": [
        "# Frases que puedes probar:\n",
        "# ola, me das mi zaldo por fabor, grasias\n",
        "# Quiero una casas en la playa\n",
        "# los niño salieron a jugar al patio\n",
        "# Palabras que se repiten repiten\n",
        "\n",
        "# ola señorita, me puede dar mi zaldo por fabor, grasias, lo que pasa pasa es que quiero Comprar una casas en la playa playa para que los niño jueguen en el patio. Mi PeRRo es muy juguetón, por eso me mudo a la CDMX. EL casero mE dijo: \"debes pagado antes del viernes viernes\"."
      ],
      "execution_count": null,
      "outputs": []
    },
    {
      "cell_type": "code",
      "metadata": {
        "id": "BMwJ4Ci8G4aR"
      },
      "source": [
        "# Se usan en los ejercicios\n",
        "# .text\n",
        "# .pos_\n",
        "# .tag_\n",
        "# .Shape_\n",
        "# .lemma_"
      ],
      "execution_count": null,
      "outputs": []
    }
  ]
}
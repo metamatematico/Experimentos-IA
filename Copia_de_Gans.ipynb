{
  "nbformat": 4,
  "nbformat_minor": 0,
  "metadata": {
    "colab": {
      "name": "Copia de Gans.ipynb",
      "private_outputs": true,
      "provenance": [],
      "authorship_tag": "ABX9TyMg7oM/s7zUtQSvlwTCKgr5",
      "include_colab_link": true
    },
    "kernelspec": {
      "name": "python3",
      "display_name": "Python 3"
    },
    "accelerator": "GPU"
  },
  "cells": [
    {
      "cell_type": "markdown",
      "metadata": {
        "id": "view-in-github",
        "colab_type": "text"
      },
      "source": [
        "<a href=\"https://colab.research.google.com/github/metamatematico/Experimentos-IA/blob/master/Copia_de_Gans.ipynb\" target=\"_parent\"><img src=\"https://colab.research.google.com/assets/colab-badge.svg\" alt=\"Open In Colab\"/></a>"
      ]
    },
    {
      "cell_type": "code",
      "metadata": {
        "id": "nyt_ZxWdzWbE"
      },
      "source": [
        "import numpy as np\n",
        "import pandas as pd\n",
        "import matplotlib.pyplot as plt\n",
        "\n",
        "import torch\n",
        "import torch.nn as nn\n",
        "from torch.autograd import Variable\n",
        "\n",
        "import torchvision\n",
        "import torchvision.transforms as transforms\n",
        "from torch.utils.data import Dataset, DataLoader\n",
        "from sklearn.metrics import confusion_matrix"
      ],
      "execution_count": null,
      "outputs": []
    },
    {
      "cell_type": "code",
      "metadata": {
        "id": "2BSA-isNdTIT"
      },
      "source": [
        "print(torch.__version__)\n"
      ],
      "execution_count": null,
      "outputs": []
    },
    {
      "cell_type": "code",
      "metadata": {
        "id": "8L6j45umtliQ"
      },
      "source": [
        "\n",
        "\n",
        "device = \"cuda\" if torch.cuda.is_available () else \"cpu\"\n",
        "device"
      ],
      "execution_count": null,
      "outputs": []
    },
    {
      "cell_type": "code",
      "metadata": {
        "id": "5n9TC4mJuU6N"
      },
      "source": [
        "trainset = torchvision.datasets.FashionMNIST(root='./data', train=True, download=True)\n",
        "\n",
        "def output_label(label):\n",
        "    output_mapping = {\n",
        "                 0: \"T-shirt/Top\",\n",
        "                 1: \"Trouser\",\n",
        "                 2: \"Pullover\",\n",
        "                 3: \"Dress\",\n",
        "                 4: \"Coat\", \n",
        "                 5: \"Sandal\", \n",
        "                 6: \"Shirt\",\n",
        "                 7: \"Sneaker\",\n",
        "                 8: \"Bag\",\n",
        "                 9: \"Ankle Boot\"\n",
        "                 }\n",
        "    input = (label.item() if type(label) == torch.Tensor else label)\n",
        "    return output_mapping[input]"
      ],
      "execution_count": null,
      "outputs": []
    },
    {
      "cell_type": "code",
      "metadata": {
        "id": "JS6no01Cv3Hu"
      },
      "source": [
        "\n",
        "\n",
        "class Dataset(torch.utils.data.Dataset):\n",
        "  def __init__(self, trainset):\n",
        "    self.imgs = torch.tensor([np.array(i[0]).flatten()/ 255.0 for i in trainset], dtype=torch.float)\n",
        "    self.labels = torch.tensor([i[1]for i in trainset], dtype=torch.long, device=device)\n",
        "\n",
        "  def __len__(self):\n",
        "    return len(self.imgs)\n",
        "\n",
        "  def __getitem__(self, ix):\n",
        "    return self.imgs[ix], self.labels[ix]\n",
        "\n",
        "train = Dataset(trainset)\n",
        "len(train)        "
      ],
      "execution_count": null,
      "outputs": []
    },
    {
      "cell_type": "markdown",
      "metadata": {
        "id": "yAvLOYVG55Ui"
      },
      "source": [
        ""
      ]
    },
    {
      "cell_type": "code",
      "metadata": {
        "id": "CgjaBA_Q6uH_"
      },
      "source": [
        "img, label = train[0]\n",
        "img.shape, img.dtype, img.max(), img.min()"
      ],
      "execution_count": null,
      "outputs": []
    },
    {
      "cell_type": "code",
      "metadata": {
        "id": "C0x9GqyW53WH"
      },
      "source": [
        "dataloader = torch.utils.data.DataLoader(train, batch_size=32, shuffle=True)\n",
        "\n",
        "imgs, labels = next(iter(dataloader))\n",
        "imgs.shape, labels.shape"
      ],
      "execution_count": null,
      "outputs": []
    },
    {
      "cell_type": "code",
      "metadata": {
        "id": "xn2960rx778I"
      },
      "source": [
        "\n",
        "def block(n_in, n_out):\n",
        "  return nn.Sequential(\n",
        "      nn.Linear(n_in, n_out),\n",
        "      nn.ReLU(inplace=True)\n",
        "  )\n",
        "#Esta es la arquitectura de red neuronal que se ocupará para el generador y el discriminador. En este caso es muy sencilla pues apenas son unas capas de perceptrones en  Ganbuena.ipynb ocupo redes convolucionales en ves de capas de perceptrones\n",
        "#jugando con el tamaño de entrada definiremos al discriminador y al generador\n",
        "class MLP(nn.Module):\n",
        "  def __init__(self,input_size, outpout_size):\n",
        "    super().__init__()\n",
        "    self.input_size = input_size\n",
        "    self.fc1 = block(input_size, 150 )\n",
        "    self.fc2 = block(150, 100)\n",
        "    self.fc3 = nn.Linear(100, outpout_size)\n",
        "\n",
        "  def forward(self, x):  #forward es un modelo secuencias sencillo\n",
        "    x = self.fc1(x)\n",
        "    x = self.fc2(x)\n",
        "    x = self.fc3(x)\n",
        "    return x"
      ],
      "execution_count": null,
      "outputs": []
    },
    {
      "cell_type": "code",
      "metadata": {
        "id": "yCwPvmTpbkvR"
      },
      "source": [
        "#Ahora voy a instanciar el generador con la clase MLP\n",
        "\n",
        "n_in, n_out = 30, 28*28\n",
        "generator = MLP(n_in, n_out)"
      ],
      "execution_count": null,
      "outputs": []
    },
    {
      "cell_type": "code",
      "metadata": {
        "id": "lDg8gpctemoJ"
      },
      "source": [
        "output = generator(torch.randn(64, 30))\n",
        "output.shape"
      ],
      "execution_count": null,
      "outputs": []
    },
    {
      "cell_type": "code",
      "metadata": {
        "id": "WuRU0_arfKed"
      },
      "source": [
        "plt.imshow(output[0].reshape(28,28).detach().numpy())\n",
        "plt.show()"
      ],
      "execution_count": null,
      "outputs": []
    }
  ]
}
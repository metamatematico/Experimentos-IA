{
  "nbformat": 4,
  "nbformat_minor": 0,
  "metadata": {
    "colab": {
      "name": "PLN.ipynb",
      "provenance": [],
      "collapsed_sections": [],
      "include_colab_link": true
    },
    "kernelspec": {
      "name": "python3",
      "display_name": "Python 3"
    }
  },
  "cells": [
    {
      "cell_type": "markdown",
      "metadata": {
        "id": "view-in-github",
        "colab_type": "text"
      },
      "source": [
        "<a href=\"https://colab.research.google.com/github/metamatematico/hello-world/blob/master/PLN.ipynb\" target=\"_parent\"><img src=\"https://colab.research.google.com/assets/colab-badge.svg\" alt=\"Open In Colab\"/></a>"
      ]
    },
    {
      "cell_type": "code",
      "metadata": {
        "id": "FA2eBPqR3ySI",
        "colab": {
          "base_uri": "https://localhost:8080/",
          "height": 86
        },
        "outputId": "5c4219ad-4aca-4c7e-82aa-5a52406975de"
      },
      "source": [
        "#Reto1 # Código para probar el ambiente de trabajo en collab\n",
        "from spacy import displacy\n",
        "import spacy.cli\n",
        "spacy.cli.download(\"es_core_news_sm\")\n",
        "pln_es = spacy.load(\"es_core_news_sm\")\n",
        "\n",
        "Texto = pln_es(u\"¡Este es el hola mundo del Procesamiento de Lenguaje Natural. En ACTUMLOGOS te damos la bienvenida!\")\n",
        "displacy.render(Texto, style = 'ent', jupyter = True, options = {'distance': 110})"
      ],
      "execution_count": null,
      "outputs": [
        {
          "output_type": "stream",
          "text": [
            "\u001b[38;5;2m✔ Download and installation successful\u001b[0m\n",
            "You can now load the model via spacy.load('es_core_news_sm')\n"
          ],
          "name": "stdout"
        },
        {
          "output_type": "display_data",
          "data": {
            "text/html": [
              "<span class=\"tex2jax_ignore\"><div class=\"entities\" style=\"line-height: 2.5; direction: ltr\">\n",
              "<mark class=\"entity\" style=\"background: #ddd; padding: 0.45em 0.6em; margin: 0 0.25em; line-height: 1; border-radius: 0.35em;\">\n",
              "    ¡Este\n",
              "    <span style=\"font-size: 0.8em; font-weight: bold; line-height: 1; border-radius: 0.35em; text-transform: uppercase; vertical-align: middle; margin-left: 0.5rem\">MISC</span>\n",
              "</mark>\n",
              " es el hola mundo del \n",
              "<mark class=\"entity\" style=\"background: #ddd; padding: 0.45em 0.6em; margin: 0 0.25em; line-height: 1; border-radius: 0.35em;\">\n",
              "    Procesamiento de Lenguaje Natural\n",
              "    <span style=\"font-size: 0.8em; font-weight: bold; line-height: 1; border-radius: 0.35em; text-transform: uppercase; vertical-align: middle; margin-left: 0.5rem\">MISC</span>\n",
              "</mark>\n",
              ". En \n",
              "<mark class=\"entity\" style=\"background: #ddd; padding: 0.45em 0.6em; margin: 0 0.25em; line-height: 1; border-radius: 0.35em;\">\n",
              "    ACTUMLOGOS\n",
              "    <span style=\"font-size: 0.8em; font-weight: bold; line-height: 1; border-radius: 0.35em; text-transform: uppercase; vertical-align: middle; margin-left: 0.5rem\">MISC</span>\n",
              "</mark>\n",
              " te damos la bienvenida!</div></span>"
            ],
            "text/plain": [
              "<IPython.core.display.HTML object>"
            ]
          },
          "metadata": {
            "tags": []
          }
        }
      ]
    },
    {
      "cell_type": "code",
      "metadata": {
        "colab": {
          "base_uri": "https://localhost:8080/"
        },
        "id": "DvScwkLGCAeA",
        "outputId": "eab96ad2-9362-4c88-e32d-5e3df52bf39a"
      },
      "source": [
        "#Reto1 # Código para probar el ambiente de trabajo en collab 2a opcion\n",
        "!spacy download es_core_news_sm\n"
      ],
      "execution_count": null,
      "outputs": [
        {
          "output_type": "stream",
          "text": [
            "Collecting es_core_news_sm==2.2.5\n",
            "\u001b[?25l  Downloading https://github.com/explosion/spacy-models/releases/download/es_core_news_sm-2.2.5/es_core_news_sm-2.2.5.tar.gz (16.2MB)\n",
            "\u001b[K     |████████████████████████████████| 16.2MB 51.3MB/s \n",
            "\u001b[?25hRequirement already satisfied: spacy>=2.2.2 in /usr/local/lib/python3.6/dist-packages (from es_core_news_sm==2.2.5) (2.2.4)\n",
            "Requirement already satisfied: numpy>=1.15.0 in /usr/local/lib/python3.6/dist-packages (from spacy>=2.2.2->es_core_news_sm==2.2.5) (1.18.5)\n",
            "Requirement already satisfied: tqdm<5.0.0,>=4.38.0 in /usr/local/lib/python3.6/dist-packages (from spacy>=2.2.2->es_core_news_sm==2.2.5) (4.41.1)\n",
            "Requirement already satisfied: requests<3.0.0,>=2.13.0 in /usr/local/lib/python3.6/dist-packages (from spacy>=2.2.2->es_core_news_sm==2.2.5) (2.23.0)\n",
            "Requirement already satisfied: preshed<3.1.0,>=3.0.2 in /usr/local/lib/python3.6/dist-packages (from spacy>=2.2.2->es_core_news_sm==2.2.5) (3.0.4)\n",
            "Requirement already satisfied: wasabi<1.1.0,>=0.4.0 in /usr/local/lib/python3.6/dist-packages (from spacy>=2.2.2->es_core_news_sm==2.2.5) (0.8.0)\n",
            "Requirement already satisfied: murmurhash<1.1.0,>=0.28.0 in /usr/local/lib/python3.6/dist-packages (from spacy>=2.2.2->es_core_news_sm==2.2.5) (1.0.4)\n",
            "Requirement already satisfied: catalogue<1.1.0,>=0.0.7 in /usr/local/lib/python3.6/dist-packages (from spacy>=2.2.2->es_core_news_sm==2.2.5) (1.0.0)\n",
            "Requirement already satisfied: blis<0.5.0,>=0.4.0 in /usr/local/lib/python3.6/dist-packages (from spacy>=2.2.2->es_core_news_sm==2.2.5) (0.4.1)\n",
            "Requirement already satisfied: cymem<2.1.0,>=2.0.2 in /usr/local/lib/python3.6/dist-packages (from spacy>=2.2.2->es_core_news_sm==2.2.5) (2.0.4)\n",
            "Requirement already satisfied: plac<1.2.0,>=0.9.6 in /usr/local/lib/python3.6/dist-packages (from spacy>=2.2.2->es_core_news_sm==2.2.5) (1.1.3)\n",
            "Requirement already satisfied: setuptools in /usr/local/lib/python3.6/dist-packages (from spacy>=2.2.2->es_core_news_sm==2.2.5) (50.3.2)\n",
            "Requirement already satisfied: srsly<1.1.0,>=1.0.2 in /usr/local/lib/python3.6/dist-packages (from spacy>=2.2.2->es_core_news_sm==2.2.5) (1.0.4)\n",
            "Requirement already satisfied: thinc==7.4.0 in /usr/local/lib/python3.6/dist-packages (from spacy>=2.2.2->es_core_news_sm==2.2.5) (7.4.0)\n",
            "Requirement already satisfied: urllib3!=1.25.0,!=1.25.1,<1.26,>=1.21.1 in /usr/local/lib/python3.6/dist-packages (from requests<3.0.0,>=2.13.0->spacy>=2.2.2->es_core_news_sm==2.2.5) (1.24.3)\n",
            "Requirement already satisfied: idna<3,>=2.5 in /usr/local/lib/python3.6/dist-packages (from requests<3.0.0,>=2.13.0->spacy>=2.2.2->es_core_news_sm==2.2.5) (2.10)\n",
            "Requirement already satisfied: chardet<4,>=3.0.2 in /usr/local/lib/python3.6/dist-packages (from requests<3.0.0,>=2.13.0->spacy>=2.2.2->es_core_news_sm==2.2.5) (3.0.4)\n",
            "Requirement already satisfied: certifi>=2017.4.17 in /usr/local/lib/python3.6/dist-packages (from requests<3.0.0,>=2.13.0->spacy>=2.2.2->es_core_news_sm==2.2.5) (2020.11.8)\n",
            "Requirement already satisfied: importlib-metadata>=0.20; python_version < \"3.8\" in /usr/local/lib/python3.6/dist-packages (from catalogue<1.1.0,>=0.0.7->spacy>=2.2.2->es_core_news_sm==2.2.5) (2.0.0)\n",
            "Requirement already satisfied: zipp>=0.5 in /usr/local/lib/python3.6/dist-packages (from importlib-metadata>=0.20; python_version < \"3.8\"->catalogue<1.1.0,>=0.0.7->spacy>=2.2.2->es_core_news_sm==2.2.5) (3.4.0)\n",
            "Building wheels for collected packages: es-core-news-sm\n",
            "  Building wheel for es-core-news-sm (setup.py) ... \u001b[?25l\u001b[?25hdone\n",
            "  Created wheel for es-core-news-sm: filename=es_core_news_sm-2.2.5-cp36-none-any.whl size=16172934 sha256=a6948c386c636835b8020961dd412b38595766b7a2b121db7b8d38e920fe292d\n",
            "  Stored in directory: /tmp/pip-ephem-wheel-cache-adjw7l76/wheels/05/4f/66/9d0c806f86de08e8645d67996798c49e1512f9c3a250d74242\n",
            "Successfully built es-core-news-sm\n",
            "Installing collected packages: es-core-news-sm\n",
            "Successfully installed es-core-news-sm-2.2.5\n",
            "\u001b[38;5;2m✔ Download and installation successful\u001b[0m\n",
            "You can now load the model via spacy.load('es_core_news_sm')\n"
          ],
          "name": "stdout"
        }
      ]
    },
    {
      "cell_type": "code",
      "metadata": {
        "id": "jW8kLehZ9AXu",
        "colab": {
          "base_uri": "https://localhost:8080/"
        },
        "outputId": "8ccbe090-29c2-4d92-de99-4fc46d6f98fd"
      },
      "source": [
        "#Reto1 # Código de prueba para contestarte un saludo\n",
        "Texto1 = \"Hola, ¿Cómo te llamas? Dime tu nombre.\"\n",
        "Texto2 = pln_es(u\"Mi nombre es Leonardo, es un gusto\")\n",
        "if len(Texto2.ents) > 0:\n",
        "    Texto3 = \"Mucho gusto \" + Texto2.ents[0].text + \", te doy la bienvenida\"\n",
        "else:\n",
        "    Texto3 = \"Mucho gusto, aunque parece que tu nombre no me queda claro\"\n",
        "\n",
        "print(Texto1 + \"\\n\" + Texto2.text + \"\\n\" + Texto3)"
      ],
      "execution_count": null,
      "outputs": [
        {
          "output_type": "stream",
          "text": [
            "Hola, ¿Cómo te llamas? Dime tu nombre.\n",
            "Mi nombre es Leonardo, es un gusto\n",
            "Mucho gusto Leonardo, te doy la bienvenida\n"
          ],
          "name": "stdout"
        }
      ]
    },
    {
      "cell_type": "code",
      "metadata": {
        "id": "fFIWxDiH9Dkq"
      },
      "source": [
        "#Reto2 # Importación de librerías\n",
        "import spacy\n",
        "from spacy.attrs import ORTH\n",
        "\n",
        "# Cargamos núcleo de trabajo (Español)\n",
        "pln_es = spacy.load(\"es_core_news_sm\")"
      ],
      "execution_count": null,
      "outputs": []
    },
    {
      "cell_type": "code",
      "metadata": {
        "id": "h46-RxxT9eW0",
        "colab": {
          "base_uri": "https://localhost:8080/"
        },
        "outputId": "56f986fb-4898-468b-9263-0e023123ca61"
      },
      "source": [
        "#Reto2  # Escribimos las frases con el formato Unicode para estandarizar signos de puntuación en una lista\n",
        "Frases = [pln_es(u'Este año, nos vamos a mudar a la CDMX!'),\n",
        "          pln_es(u'Para más información, enviar un correo a la dirección '\n",
        "                'actumlogo@gmail.com o visita la página http://www.sitiogenerico.com!'),\n",
        "          pln_es(u'Viaje de 5km hasta CDMX, Costos de viaje en Uber $125.50'),\n",
        "          pln_es(u'Vamos a visitar Edo. de Veracruz en M.X. el año que sigue')]\n",
        "\n",
        "# Separamos la frase por medio de | (Utilizando el comando end)\n",
        "for Frase in Frases:\n",
        "    for token in Frase:\n",
        "        print(token.text, end='|')\n",
        "    # Imprimimos la cantidad de Tokens (Num) y la cantidad de elementos en el vocabulario (Voc)\n",
        "    print(\"\\n  Num = \" + str(len(Frase)) + \"\\t Voc = \" + str(len(Frase.count_by(ORTH))), end = '\\n\\n')"
      ],
      "execution_count": null,
      "outputs": [
        {
          "output_type": "stream",
          "text": [
            "Este|año|,|nos|vamos|a|mudar|a|la|CDMX|!|\n",
            "  Num = 11\t Voc = 10\n",
            "\n",
            "Para|más|información|,|enviar|un|correo|a|la|dirección|actumlogo@gmail.com|o|visita|la|página|http://www.sitiogenerico.com|!|\n",
            "  Num = 17\t Voc = 16\n",
            "\n",
            "Viaje|de|5|km|hasta|CDMX|,|Costos|de|viaje|en|Uber|$|125.50|\n",
            "  Num = 14\t Voc = 13\n",
            "\n",
            "Vamos|a|visitar|Edo|.|de|Veracruz|en|M.X.|el|año|que|sigue|\n",
            "  Num = 13\t Voc = 13\n",
            "\n"
          ],
          "name": "stdout"
        }
      ]
    },
    {
      "cell_type": "code",
      "metadata": {
        "id": "gI87oIjaRk5A"
      },
      "source": [
        "#Reto3 # Importación de librerías\n",
        "import spacy\n",
        "\n",
        "# Cargamos núcleo de trabajo (Español)\n",
        "pln_es = spacy.load(\"es_core_news_sm\")"
      ],
      "execution_count": null,
      "outputs": []
    },
    {
      "cell_type": "code",
      "metadata": {
        "id": "1SI0kyNYRoBW",
        "colab": {
          "base_uri": "https://localhost:8080/"
        },
        "outputId": "df7f30cc-d066-473a-9d02-d349b1537b62"
      },
      "source": [
        "#Reto3# Escribimos las frases con el formato Unicode\n",
        "Frases = [pln_es(u'Mi celular es 55 12 34 56 78'),\n",
        "          pln_es(u'Mi fecha de nacimiento es en 06/07/1994'),\n",
        "          pln_es(u'Para más información, comunícate al 55 12 23 34 45'),\n",
        "          pln_es(u'La construcción está prevista para el 23/11/2022'),\n",
        "          pln_es(u'El precio del dolar ha aumentado en el año 2019 un 25%'),\n",
        "          pln_es(u'La independencia de México ocurrió el 16/09/1810'),\n",
        "          pln_es(u'EL 5 de Mayo se suele conmemorar la batalla de Puebla'),\n",
        "          pln_es(u'Voy a P. Sherman Calle Wallaby 4-2 Sidney')]\n",
        "\n",
        "# Separamos el token por medio de | (Utilizando el comando end)\n",
        "for Frase in Frases:\n",
        "    for token in Frase:\n",
        "        # Imprimimos la forma de cada token\n",
        "        print(token.shape_, end='|')\n",
        "    print(\"\\n\")"
      ],
      "execution_count": null,
      "outputs": [
        {
          "output_type": "stream",
          "text": [
            "Xx|xxxx|xx|dd|dd|dd|dd|dd|\n",
            "\n",
            "Xx|xxxx|xx|xxxx|xx|xx|dd/dd/dddd|\n",
            "\n",
            "Xxxx|xxx|xxxx|,|xxxx|xx|dd|dd|dd|dd|dd|\n",
            "\n",
            "Xx|xxxx|xxxx|xxxx|xxxx|xx|dd/dd/dddd|\n",
            "\n",
            "Xx|xxxx|xxx|xxxx|xx|xxxx|xx|xx|xxx|dddd|xx|dd|%|\n",
            "\n",
            "Xx|xxxx|xx|Xxxxx|xxxx|xx|dd/dd/dddd|\n",
            "\n",
            "XX|d|xx|Xxxx|xx|xxxx|xxxx|xx|xxxx|xx|Xxxxx|\n",
            "\n",
            "Xxx|x|X.|Xxxxx|Xxxxx|Xxxxx|d|-|d|Xxxxx|\n",
            "\n"
          ],
          "name": "stdout"
        }
      ]
    },
    {
      "cell_type": "code",
      "metadata": {
        "id": "Pqi18JnpRxEo"
      },
      "source": [
        "#Reto3# Método para identificar formatos de fecha válidos \n",
        "def Extractor_Fechas(Utterance):\n",
        "    for Token in Utterance:\n",
        "        # CONTAMOS las veces que aparece el formato\n",
        "        if Token.shape_.count(\"dd/dd/dddd\") == 1:\n",
        "            print(Token.text + \" -> \" + str(Utterance))"
      ],
      "execution_count": null,
      "outputs": []
    },
    {
      "cell_type": "code",
      "metadata": {
        "id": "9NQ1nzQdRz-_",
        "colab": {
          "base_uri": "https://localhost:8080/"
        },
        "outputId": "803760cc-5709-4be9-ee66-769d64395e68"
      },
      "source": [
        "#Reto3 # Impresión de las fechas encontradas\n",
        "print(\"Fechas encontradas:\")\n",
        "for Frase in Frases:\n",
        "    Extractor_Fechas(Frase)"
      ],
      "execution_count": null,
      "outputs": [
        {
          "output_type": "stream",
          "text": [
            "Fechas encontradas:\n",
            "06/07/1994 -> Mi fecha de nacimiento es en 06/07/1994\n",
            "23/11/2022 -> La construcción está prevista para el 23/11/2022\n",
            "16/09/1810 -> La independencia de México ocurrió el 16/09/1810\n"
          ],
          "name": "stdout"
        }
      ]
    },
    {
      "cell_type": "code",
      "metadata": {
        "id": "eYvHrJkD4znr",
        "colab": {
          "base_uri": "https://localhost:8080/"
        },
        "outputId": "f05b85e3-216f-406d-a3a6-f48c102454b0"
      },
      "source": [
        "#Reto4 # Importación de librerías\n",
        "# Cargamos núcleo de trabajo (Español)\n",
        "from spacy import displacy\n",
        "import spacy.cli\n",
        "spacy.cli.download(\"es_core_news_sm\")\n",
        "pln_es = spacy.load(\"es_core_news_sm\")"
      ],
      "execution_count": null,
      "outputs": [
        {
          "output_type": "stream",
          "text": [
            "\u001b[38;5;2m✔ Download and installation successful\u001b[0m\n",
            "You can now load the model via spacy.load('es_core_news_sm')\n"
          ],
          "name": "stdout"
        }
      ]
    },
    {
      "cell_type": "code",
      "metadata": {
        "id": "SZSIOkTX42kH",
        "colab": {
          "base_uri": "https://localhost:8080/"
        },
        "outputId": "7946b1f1-8eb9-490e-8466-2c4f7a615f86"
      },
      "source": [
        "#Reto4 # Escribimos los textos con el formato Unicode dentro de un arreglo\n",
        "Textos = [pln_es(u'Cuando los ordenadores tomen el control, puede que no lo recuperemos. ' \n",
        "                  'Sobreviviremos según su capricho. Con suerte, decidirán mantenernos como mascotas'),\n",
        "          pln_es(u'Las máquinas podrán hacer cualquier cosa que hagan las personas, porque las personas '\n",
        "                  'no son más que máquinas'),\n",
        "          pln_es(u'Hasta la fecha, no se ha diseñado un ordenador que sea consciente de lo que está haciendo; ' \n",
        "                  'pero, la mayor parte del tiempo, nosotros tampoco lo somos'),\n",
        "          pln_es(u'Las leyes del pensamiento no solo dependen de las propiedades de las células cerebrales, ' \n",
        "                  'sino del modo en que están conectadas'),\n",
        "          pln_es(u'Yo amo la inteligencia artificial, algún día quiero ser el amo y señor de los ChatBots. ' \n",
        "                  'Para ello, tengo que estudiar arduamente'),\n",
        "          pln_es(u'El cura me vino a ver a mi casa, me dijo que mi enfermedad no tenía cura, entonces, tomó el ' \n",
        "                  'vino y me lo dió a beber')]\n",
        "\n",
        "# Extraemos la PoS de cada Token de cada texto y las guardamos en una lista\n",
        "PoS = []\n",
        "\n",
        "print(\"Frases tokenizadas con sus respectivas PoS: \\n\")\n",
        "for Texto in Textos:\n",
        "    for token in Texto:\n",
        "        PoS.append(token.pos)\n",
        "        print(token.text, token.pos, end=' | ')\n",
        "    print('\\n')"
      ],
      "execution_count": null,
      "outputs": [
        {
          "output_type": "stream",
          "text": [
            "Frases tokenizadas con sus respectivas PoS: \n",
            "\n",
            "Cuando 98 | los 90 | ordenadores 92 | tomen 100 | el 90 | control 92 | , 97 | puede 100 | que 98 | no 86 | lo 95 | recuperemos 100 | . 97 | Sobreviviremos 100 | según 85 | su 90 | capricho 92 | . 97 | Con 85 | suerte 92 | , 97 | decidirán 100 | mantenernos 92 | como 98 | mascotas 92 | \n",
            "\n",
            "Las 90 | máquinas 92 | podrán 87 | hacer 100 | cualquier 90 | cosa 92 | que 95 | hagan 100 | las 90 | personas 92 | , 97 | porque 98 | las 90 | personas 92 | no 86 | son 87 | más 86 | que 98 | máquinas 92 | \n",
            "\n",
            "Hasta 85 | la 90 | fecha 92 | , 97 | no 86 | se 95 | ha 87 | diseñado 100 | un 90 | ordenador 92 | que 95 | sea 87 | consciente 84 | de 85 | lo 90 | que 95 | está 87 | haciendo 100 | ; 97 | pero 88 | , 97 | la 90 | mayor 84 | parte 92 | del 85 | tiempo 92 | , 97 | nosotros 95 | tampoco 86 | lo 95 | somos 87 | \n",
            "\n",
            "Las 90 | leyes 92 | del 85 | pensamiento 92 | no 94 | solo 92 | dependen 100 | de 85 | las 90 | propiedades 92 | de 85 | las 90 | células 92 | cerebrales 84 | , 97 | sino 88 | del 85 | modo 92 | en 85 | que 95 | están 87 | conectadas 84 | \n",
            "\n",
            "Yo 95 | amo 100 | la 90 | inteligencia 92 | artificial 84 | , 97 | algún 90 | día 92 | quiero 100 | ser 87 | el 90 | amo 92 | y 88 | señor 92 | de 85 | los 90 | ChatBots 96 | . 97 | Para 85 | ello 95 | , 97 | tengo 100 | que 98 | estudiar 100 | arduamente 92 | \n",
            "\n",
            "El 90 | cura 92 | me 95 | vino 87 | a 85 | ver 100 | a 85 | mi 90 | casa 92 | , 97 | me 95 | dijo 100 | que 98 | mi 90 | enfermedad 92 | no 86 | tenía 100 | cura 92 | , 97 | entonces 86 | , 97 | tomó 100 | el 90 | vino 92 | y 88 | me 95 | lo 95 | dió 100 | a 85 | beber 100 | \n",
            "\n"
          ],
          "name": "stdout"
        }
      ]
    },
    {
      "cell_type": "code",
      "metadata": {
        "id": "gMvIwJjq4-H_",
        "colab": {
          "base_uri": "https://localhost:8080/",
          "height": 685
        },
        "outputId": "df55dcd3-ae43-47f8-cec4-70fe301f5066"
      },
      "source": [
        "#Reto4 # Declaramos de librería para manejo de gráficos\n",
        "import matplotlib.pyplot as plt\n",
        "\n",
        "\n",
        "# Definimos un tamaño para la figura que haremos\n",
        "plt.figure(figsize=(30, 8))\n",
        "plt.rcParams.update({'font.size': 22})\n",
        "\n",
        "# Asignamos la cantidad de veces que aparecen en un diccionario\n",
        "PoS_Count = {'Sustantivos'     : PoS.count('NOUN'),\n",
        "             'Pronombres'      : PoS.count('PRON'),\n",
        "             'Verbos'          : PoS.count('VERB'),\n",
        "             'Adjetivos'       : PoS.count('ADJ'),\n",
        "             'Adjetivos'       : PoS.count('ADJ'),\n",
        "             'Adverbios'       : PoS.count('ADV'),\n",
        "             'Preposiciones'   : PoS.count('ADP'),\n",
        "             'Conjunciones'    : PoS.count('CONJ'),\n",
        "             'Interjeccciones' : PoS.count('INTJ'),\n",
        "             'Determinantes'   : PoS.count('DET'),\n",
        "             'Signos'          : PoS.count('PUNCT'),\n",
        "             'Auxiliares'      : PoS.count('AUX')}\n",
        "\n",
        "# Impresión de la gráfica a partir del diccionario (Y el promedio de aparición de cada PoS)\n",
        "plt.bar(PoS_Count.keys(), PoS_Count.values(), color=['red','steelblue','lightslategrey'])\n",
        "plt.axhline(sum(PoS_Count.values())/len(PoS_Count.values()), lw = 3, c='y', xmax=100)\n",
        "plt.xticks(rotation = 90)\n",
        "plt.title('Mi amigo el pitirijas') \n",
        "plt.show()"
      ],
      "execution_count": null,
      "outputs": [
        {
          "output_type": "display_data",
          "data": {
            "image/png": "[encoded data removed]",
            "text/plain": [
              "<Figure size 2160x576 with 1 Axes>"
            ]
          },
          "metadata": {
            "tags": [],
            "needs_background": "light"
          }
        }
      ]
    },
    {
      "cell_type": "code",
      "metadata": {
        "id": "pliMAQ0g5CrA",
        "colab": {
          "base_uri": "https://localhost:8080/"
        },
        "outputId": "996f0f6a-c2dd-4777-e029-08f6dd2f9214"
      },
      "source": [
        "#Reto4 # Creamos el diccionario con todas las PoS\n",
        "PoS_Words = {'NOUN' : [], 'PRON': [], 'VERB' : [], 'ADJ' : [], 'ADV'  : [], \n",
        "             'ADP'  : [], 'CONJ': [], 'PART' : [], 'DET' : [], 'PROPN': [], \n",
        "             'PUNCT': [], 'AUX' : [], 'SCONJ': []}\n",
        "\n",
        "# Recopilamos las palabras correspondientes a cada PoS\n",
        "for Texto in Textos:\n",
        "    for token in Texto:\n",
        "        PoS_Words[token.pos_].append(token.text)\n",
        "\n",
        "# Imprimimos el correspondiente a cada categoría\n",
        "print(\"\\nPalabras para cada PoS:\\n\")\n",
        "for key in PoS_Words.keys():\n",
        "    print(key + \":\\t\" + str(set(PoS_Words[key])))\n",
        "\n",
        "# Encontramos los homógrafos\n",
        "Words = {}\n",
        "print(\"\\nPalabras homógramas:\\n\")\n",
        "for Texto in Textos:\n",
        "    for token in Texto:\n",
        "        if(Words.get(token.text) == None):\n",
        "            Words.setdefault(token.text, [token.pos_])\n",
        "        else:\n",
        "            Words[token.text].append(token.pos_)\n",
        "\n",
        "# Imprimimos las palabras homógrafas\n",
        "for Elemento in Words:\n",
        "    if(len(set(Words[Elemento])) > 1):\n",
        "        print(Elemento + \":\\t\" + str(set(Words[Elemento])))"
      ],
      "execution_count": null,
      "outputs": [
        {
          "output_type": "stream",
          "text": [
            "\n",
            "Palabras para cada PoS:\n",
            "\n",
            "NOUN:\t{'amo', 'personas', 'mascotas', 'tiempo', 'día', 'cosa', 'máquinas', 'cura', 'enfermedad', 'solo', 'vino', 'propiedades', 'ordenador', 'mantenernos', 'señor', 'leyes', 'casa', 'control', 'suerte', 'ordenadores', 'pensamiento', 'fecha', 'modo', 'arduamente', 'parte', 'células', 'inteligencia', 'capricho'}\n",
            "PRON:\t{'se', 'Yo', 'nosotros', 'lo', 'que', 'ello', 'me'}\n",
            "VERB:\t{'amo', 'hacer', 'diseñado', 'tengo', 'haciendo', 'ver', 'dijo', 'tomen', 'tomó', 'estudiar', 'quiero', 'decidirán', 'recuperemos', 'Sobreviviremos', 'hagan', 'dió', 'beber', 'dependen', 'puede', 'tenía'}\n",
            "ADJ:\t{'mayor', 'consciente', 'cerebrales', 'artificial', 'conectadas'}\n",
            "ADV:\t{'entonces', 'no', 'tampoco', 'más'}\n",
            "ADP:\t{'a', 'en', 'según', 'de', 'Para', 'del', 'Hasta', 'Con'}\n",
            "CONJ:\t{'y', 'pero', 'sino'}\n",
            "PART:\t{'no'}\n",
            "DET:\t{'las', 'algún', 'el', 'los', 'la', 'su', 'cualquier', 'lo', 'mi', 'Las', 'El', 'un'}\n",
            "PROPN:\t{'ChatBots'}\n",
            "PUNCT:\t{'.', ';', ','}\n",
            "AUX:\t{'sea', 'están', 'son', 'ser', 'está', 'vino', 'somos', 'ha', 'podrán'}\n",
            "SCONJ:\t{'que', 'porque', 'como', 'Cuando'}\n",
            "\n",
            "Palabras homógramas:\n",
            "\n",
            "que:\t{'SCONJ', 'PRON'}\n",
            "no:\t{'PART', 'ADV'}\n",
            "lo:\t{'PRON', 'DET'}\n",
            "amo:\t{'NOUN', 'VERB'}\n",
            "vino:\t{'AUX', 'NOUN'}\n"
          ],
          "name": "stdout"
        }
      ]
    },
    {
      "cell_type": "code",
      "metadata": {
        "id": "lhUW871ZZjlX"
      },
      "source": [
        "# Importación de la librería principal\n",
        "import spacy\n",
        "\n",
        "# Importación de la librería Gráfica para desplegar \n",
        "# los árboles de relación Sintáctica\n",
        "from spacy import displacy\n",
        "\n",
        "# Cargamos núcleo de trabajo (Español e Inglés)\n",
        "Espanol = spacy.load(\"es_core_news_sm\")\n",
        "English = spacy.load(\"en_core_web_sm\")"
      ],
      "execution_count": null,
      "outputs": []
    },
    {
      "cell_type": "code",
      "metadata": {
        "id": "gmbGSq2FZnyW",
        "colab": {
          "base_uri": "https://localhost:8080/",
          "height": 528
        },
        "outputId": "8b21f52f-a66e-4f52-93e8-af2f57723747"
      },
      "source": [
        "# Ejemplo para generar árboles de relacion sintáctica\n",
        "#FraseEjemplo = Espanol(u\"Amor empieza por desasosiego,solicitud, ardores y desvelos; crece con riesgos, lances y recelos; susténtase de llantos y de ruego.\")\n",
        "FraseEjemplo = Espanol(u\"Pepe Pecas pica papas con un pico con un pico pica papas Pepe Pecas.\")\n",
        "displacy.render(FraseEjemplo, style = 'dep', jupyter = True)"
      ],
      "execution_count": null,
      "outputs": [
        {
          "output_type": "display_data",
          "data": {
            "text/html": [
              "<span class=\"tex2jax_ignore\"><svg xmlns=\"http://www.w3.org/2000/svg\" xmlns:xlink=\"http://www.w3.org/1999/xlink\" xml:lang=\"es\" id=\"3062cdbcbdd44fb7a1e8612aeec1d0f7-0\" class=\"displacy\" width=\"2500\" height=\"487.0\" direction=\"ltr\" style=\"max-width: none; height: 487.0px; color: #000000; background: #ffffff; font-family: Arial; direction: ltr\">\n",
              "<text class=\"displacy-token\" fill=\"currentColor\" text-anchor=\"middle\" y=\"397.0\">\n",
              "    <tspan class=\"displacy-word\" fill=\"currentColor\" x=\"50\">Pepe</tspan>\n",
              "    <tspan class=\"displacy-tag\" dy=\"2em\" fill=\"currentColor\" x=\"50\">PROPN</tspan>\n",
              "</text>\n",
              "\n",
              "<text class=\"displacy-token\" fill=\"currentColor\" text-anchor=\"middle\" y=\"397.0\">\n",
              "    <tspan class=\"displacy-word\" fill=\"currentColor\" x=\"225\">Pecas</tspan>\n",
              "    <tspan class=\"displacy-tag\" dy=\"2em\" fill=\"currentColor\" x=\"225\">PROPN</tspan>\n",
              "</text>\n",
              "\n",
              "<text class=\"displacy-token\" fill=\"currentColor\" text-anchor=\"middle\" y=\"397.0\">\n",
              "    <tspan class=\"displacy-word\" fill=\"currentColor\" x=\"400\">pica</tspan>\n",
              "    <tspan class=\"displacy-tag\" dy=\"2em\" fill=\"currentColor\" x=\"400\">VERB</tspan>\n",
              "</text>\n",
              "\n",
              "<text class=\"displacy-token\" fill=\"currentColor\" text-anchor=\"middle\" y=\"397.0\">\n",
              "    <tspan class=\"displacy-word\" fill=\"currentColor\" x=\"575\">papas</tspan>\n",
              "    <tspan class=\"displacy-tag\" dy=\"2em\" fill=\"currentColor\" x=\"575\">NOUN</tspan>\n",
              "</text>\n",
              "\n",
              "<text class=\"displacy-token\" fill=\"currentColor\" text-anchor=\"middle\" y=\"397.0\">\n",
              "    <tspan class=\"displacy-word\" fill=\"currentColor\" x=\"750\">con</tspan>\n",
              "    <tspan class=\"displacy-tag\" dy=\"2em\" fill=\"currentColor\" x=\"750\">ADP</tspan>\n",
              "</text>\n",
              "\n",
              "<text class=\"displacy-token\" fill=\"currentColor\" text-anchor=\"middle\" y=\"397.0\">\n",
              "    <tspan class=\"displacy-word\" fill=\"currentColor\" x=\"925\">un</tspan>\n",
              "    <tspan class=\"displacy-tag\" dy=\"2em\" fill=\"currentColor\" x=\"925\">DET</tspan>\n",
              "</text>\n",
              "\n",
              "<text class=\"displacy-token\" fill=\"currentColor\" text-anchor=\"middle\" y=\"397.0\">\n",
              "    <tspan class=\"displacy-word\" fill=\"currentColor\" x=\"1100\">pico</tspan>\n",
              "    <tspan class=\"displacy-tag\" dy=\"2em\" fill=\"currentColor\" x=\"1100\">NOUN</tspan>\n",
              "</text>\n",
              "\n",
              "<text class=\"displacy-token\" fill=\"currentColor\" text-anchor=\"middle\" y=\"397.0\">\n",
              "    <tspan class=\"displacy-word\" fill=\"currentColor\" x=\"1275\">con</tspan>\n",
              "    <tspan class=\"displacy-tag\" dy=\"2em\" fill=\"currentColor\" x=\"1275\">ADP</tspan>\n",
              "</text>\n",
              "\n",
              "<text class=\"displacy-token\" fill=\"currentColor\" text-anchor=\"middle\" y=\"397.0\">\n",
              "    <tspan class=\"displacy-word\" fill=\"currentColor\" x=\"1450\">un</tspan>\n",
              "    <tspan class=\"displacy-tag\" dy=\"2em\" fill=\"currentColor\" x=\"1450\">DET</tspan>\n",
              "</text>\n",
              "\n",
              "<text class=\"displacy-token\" fill=\"currentColor\" text-anchor=\"middle\" y=\"397.0\">\n",
              "    <tspan class=\"displacy-word\" fill=\"currentColor\" x=\"1625\">pico</tspan>\n",
              "    <tspan class=\"displacy-tag\" dy=\"2em\" fill=\"currentColor\" x=\"1625\">NOUN</tspan>\n",
              "</text>\n",
              "\n",
              "<text class=\"displacy-token\" fill=\"currentColor\" text-anchor=\"middle\" y=\"397.0\">\n",
              "    <tspan class=\"displacy-word\" fill=\"currentColor\" x=\"1800\">pica</tspan>\n",
              "    <tspan class=\"displacy-tag\" dy=\"2em\" fill=\"currentColor\" x=\"1800\">VERB</tspan>\n",
              "</text>\n",
              "\n",
              "<text class=\"displacy-token\" fill=\"currentColor\" text-anchor=\"middle\" y=\"397.0\">\n",
              "    <tspan class=\"displacy-word\" fill=\"currentColor\" x=\"1975\">papas</tspan>\n",
              "    <tspan class=\"displacy-tag\" dy=\"2em\" fill=\"currentColor\" x=\"1975\">PROPN</tspan>\n",
              "</text>\n",
              "\n",
              "<text class=\"displacy-token\" fill=\"currentColor\" text-anchor=\"middle\" y=\"397.0\">\n",
              "    <tspan class=\"displacy-word\" fill=\"currentColor\" x=\"2150\">Pepe</tspan>\n",
              "    <tspan class=\"displacy-tag\" dy=\"2em\" fill=\"currentColor\" x=\"2150\">PROPN</tspan>\n",
              "</text>\n",
              "\n",
              "<text class=\"displacy-token\" fill=\"currentColor\" text-anchor=\"middle\" y=\"397.0\">\n",
              "    <tspan class=\"displacy-word\" fill=\"currentColor\" x=\"2325\">Pecas.</tspan>\n",
              "    <tspan class=\"displacy-tag\" dy=\"2em\" fill=\"currentColor\" x=\"2325\">PROPN</tspan>\n",
              "</text>\n",
              "\n",
              "<g class=\"displacy-arrow\">\n",
              "    <path class=\"displacy-arc\" id=\"arrow-3062cdbcbdd44fb7a1e8612aeec1d0f7-0-0\" stroke-width=\"2px\" d=\"M70,352.0 C70,177.0 390.0,177.0 390.0,352.0\" fill=\"none\" stroke=\"currentColor\"/>\n",
              "    <text dy=\"1.25em\" style=\"font-size: 0.8em; letter-spacing: 1px\">\n",
              "        <textPath xlink:href=\"#arrow-3062cdbcbdd44fb7a1e8612aeec1d0f7-0-0\" class=\"displacy-label\" startOffset=\"50%\" side=\"left\" fill=\"currentColor\" text-anchor=\"middle\">nsubj</textPath>\n",
              "    </text>\n",
              "    <path class=\"displacy-arrowhead\" d=\"M70,354.0 L62,342.0 78,342.0\" fill=\"currentColor\"/>\n",
              "</g>\n",
              "\n",
              "<g class=\"displacy-arrow\">\n",
              "    <path class=\"displacy-arc\" id=\"arrow-3062cdbcbdd44fb7a1e8612aeec1d0f7-0-1\" stroke-width=\"2px\" d=\"M70,352.0 C70,264.5 210.0,264.5 210.0,352.0\" fill=\"none\" stroke=\"currentColor\"/>\n",
              "    <text dy=\"1.25em\" style=\"font-size: 0.8em; letter-spacing: 1px\">\n",
              "        <textPath xlink:href=\"#arrow-3062cdbcbdd44fb7a1e8612aeec1d0f7-0-1\" class=\"displacy-label\" startOffset=\"50%\" side=\"left\" fill=\"currentColor\" text-anchor=\"middle\">flat</textPath>\n",
              "    </text>\n",
              "    <path class=\"displacy-arrowhead\" d=\"M210.0,354.0 L218.0,342.0 202.0,342.0\" fill=\"currentColor\"/>\n",
              "</g>\n",
              "\n",
              "<g class=\"displacy-arrow\">\n",
              "    <path class=\"displacy-arc\" id=\"arrow-3062cdbcbdd44fb7a1e8612aeec1d0f7-0-2\" stroke-width=\"2px\" d=\"M420,352.0 C420,264.5 560.0,264.5 560.0,352.0\" fill=\"none\" stroke=\"currentColor\"/>\n",
              "    <text dy=\"1.25em\" style=\"font-size: 0.8em; letter-spacing: 1px\">\n",
              "        <textPath xlink:href=\"#arrow-3062cdbcbdd44fb7a1e8612aeec1d0f7-0-2\" class=\"displacy-label\" startOffset=\"50%\" side=\"left\" fill=\"currentColor\" text-anchor=\"middle\">obj</textPath>\n",
              "    </text>\n",
              "    <path class=\"displacy-arrowhead\" d=\"M560.0,354.0 L568.0,342.0 552.0,342.0\" fill=\"currentColor\"/>\n",
              "</g>\n",
              "\n",
              "<g class=\"displacy-arrow\">\n",
              "    <path class=\"displacy-arc\" id=\"arrow-3062cdbcbdd44fb7a1e8612aeec1d0f7-0-3\" stroke-width=\"2px\" d=\"M770,352.0 C770,177.0 1090.0,177.0 1090.0,352.0\" fill=\"none\" stroke=\"currentColor\"/>\n",
              "    <text dy=\"1.25em\" style=\"font-size: 0.8em; letter-spacing: 1px\">\n",
              "        <textPath xlink:href=\"#arrow-3062cdbcbdd44fb7a1e8612aeec1d0f7-0-3\" class=\"displacy-label\" startOffset=\"50%\" side=\"left\" fill=\"currentColor\" text-anchor=\"middle\">case</textPath>\n",
              "    </text>\n",
              "    <path class=\"displacy-arrowhead\" d=\"M770,354.0 L762,342.0 778,342.0\" fill=\"currentColor\"/>\n",
              "</g>\n",
              "\n",
              "<g class=\"displacy-arrow\">\n",
              "    <path class=\"displacy-arc\" id=\"arrow-3062cdbcbdd44fb7a1e8612aeec1d0f7-0-4\" stroke-width=\"2px\" d=\"M945,352.0 C945,264.5 1085.0,264.5 1085.0,352.0\" fill=\"none\" stroke=\"currentColor\"/>\n",
              "    <text dy=\"1.25em\" style=\"font-size: 0.8em; letter-spacing: 1px\">\n",
              "        <textPath xlink:href=\"#arrow-3062cdbcbdd44fb7a1e8612aeec1d0f7-0-4\" class=\"displacy-label\" startOffset=\"50%\" side=\"left\" fill=\"currentColor\" text-anchor=\"middle\">det</textPath>\n",
              "    </text>\n",
              "    <path class=\"displacy-arrowhead\" d=\"M945,354.0 L937,342.0 953,342.0\" fill=\"currentColor\"/>\n",
              "</g>\n",
              "\n",
              "<g class=\"displacy-arrow\">\n",
              "    <path class=\"displacy-arc\" id=\"arrow-3062cdbcbdd44fb7a1e8612aeec1d0f7-0-5\" stroke-width=\"2px\" d=\"M595,352.0 C595,89.5 1095.0,89.5 1095.0,352.0\" fill=\"none\" stroke=\"currentColor\"/>\n",
              "    <text dy=\"1.25em\" style=\"font-size: 0.8em; letter-spacing: 1px\">\n",
              "        <textPath xlink:href=\"#arrow-3062cdbcbdd44fb7a1e8612aeec1d0f7-0-5\" class=\"displacy-label\" startOffset=\"50%\" side=\"left\" fill=\"currentColor\" text-anchor=\"middle\">nmod</textPath>\n",
              "    </text>\n",
              "    <path class=\"displacy-arrowhead\" d=\"M1095.0,354.0 L1103.0,342.0 1087.0,342.0\" fill=\"currentColor\"/>\n",
              "</g>\n",
              "\n",
              "<g class=\"displacy-arrow\">\n",
              "    <path class=\"displacy-arc\" id=\"arrow-3062cdbcbdd44fb7a1e8612aeec1d0f7-0-6\" stroke-width=\"2px\" d=\"M1295,352.0 C1295,177.0 1615.0,177.0 1615.0,352.0\" fill=\"none\" stroke=\"currentColor\"/>\n",
              "    <text dy=\"1.25em\" style=\"font-size: 0.8em; letter-spacing: 1px\">\n",
              "        <textPath xlink:href=\"#arrow-3062cdbcbdd44fb7a1e8612aeec1d0f7-0-6\" class=\"displacy-label\" startOffset=\"50%\" side=\"left\" fill=\"currentColor\" text-anchor=\"middle\">case</textPath>\n",
              "    </text>\n",
              "    <path class=\"displacy-arrowhead\" d=\"M1295,354.0 L1287,342.0 1303,342.0\" fill=\"currentColor\"/>\n",
              "</g>\n",
              "\n",
              "<g class=\"displacy-arrow\">\n",
              "    <path class=\"displacy-arc\" id=\"arrow-3062cdbcbdd44fb7a1e8612aeec1d0f7-0-7\" stroke-width=\"2px\" d=\"M1470,352.0 C1470,264.5 1610.0,264.5 1610.0,352.0\" fill=\"none\" stroke=\"currentColor\"/>\n",
              "    <text dy=\"1.25em\" style=\"font-size: 0.8em; letter-spacing: 1px\">\n",
              "        <textPath xlink:href=\"#arrow-3062cdbcbdd44fb7a1e8612aeec1d0f7-0-7\" class=\"displacy-label\" startOffset=\"50%\" side=\"left\" fill=\"currentColor\" text-anchor=\"middle\">det</textPath>\n",
              "    </text>\n",
              "    <path class=\"displacy-arrowhead\" d=\"M1470,354.0 L1462,342.0 1478,342.0\" fill=\"currentColor\"/>\n",
              "</g>\n",
              "\n",
              "<g class=\"displacy-arrow\">\n",
              "    <path class=\"displacy-arc\" id=\"arrow-3062cdbcbdd44fb7a1e8612aeec1d0f7-0-8\" stroke-width=\"2px\" d=\"M595,352.0 C595,2.0 1625.0,2.0 1625.0,352.0\" fill=\"none\" stroke=\"currentColor\"/>\n",
              "    <text dy=\"1.25em\" style=\"font-size: 0.8em; letter-spacing: 1px\">\n",
              "        <textPath xlink:href=\"#arrow-3062cdbcbdd44fb7a1e8612aeec1d0f7-0-8\" class=\"displacy-label\" startOffset=\"50%\" side=\"left\" fill=\"currentColor\" text-anchor=\"middle\">nmod</textPath>\n",
              "    </text>\n",
              "    <path class=\"displacy-arrowhead\" d=\"M1625.0,354.0 L1633.0,342.0 1617.0,342.0\" fill=\"currentColor\"/>\n",
              "</g>\n",
              "\n",
              "<g class=\"displacy-arrow\">\n",
              "    <path class=\"displacy-arc\" id=\"arrow-3062cdbcbdd44fb7a1e8612aeec1d0f7-0-9\" stroke-width=\"2px\" d=\"M1645,352.0 C1645,264.5 1785.0,264.5 1785.0,352.0\" fill=\"none\" stroke=\"currentColor\"/>\n",
              "    <text dy=\"1.25em\" style=\"font-size: 0.8em; letter-spacing: 1px\">\n",
              "        <textPath xlink:href=\"#arrow-3062cdbcbdd44fb7a1e8612aeec1d0f7-0-9\" class=\"displacy-label\" startOffset=\"50%\" side=\"left\" fill=\"currentColor\" text-anchor=\"middle\">amod</textPath>\n",
              "    </text>\n",
              "    <path class=\"displacy-arrowhead\" d=\"M1785.0,354.0 L1793.0,342.0 1777.0,342.0\" fill=\"currentColor\"/>\n",
              "</g>\n",
              "\n",
              "<g class=\"displacy-arrow\">\n",
              "    <path class=\"displacy-arc\" id=\"arrow-3062cdbcbdd44fb7a1e8612aeec1d0f7-0-10\" stroke-width=\"2px\" d=\"M1645,352.0 C1645,177.0 1965.0,177.0 1965.0,352.0\" fill=\"none\" stroke=\"currentColor\"/>\n",
              "    <text dy=\"1.25em\" style=\"font-size: 0.8em; letter-spacing: 1px\">\n",
              "        <textPath xlink:href=\"#arrow-3062cdbcbdd44fb7a1e8612aeec1d0f7-0-10\" class=\"displacy-label\" startOffset=\"50%\" side=\"left\" fill=\"currentColor\" text-anchor=\"middle\">appos</textPath>\n",
              "    </text>\n",
              "    <path class=\"displacy-arrowhead\" d=\"M1965.0,354.0 L1973.0,342.0 1957.0,342.0\" fill=\"currentColor\"/>\n",
              "</g>\n",
              "\n",
              "<g class=\"displacy-arrow\">\n",
              "    <path class=\"displacy-arc\" id=\"arrow-3062cdbcbdd44fb7a1e8612aeec1d0f7-0-11\" stroke-width=\"2px\" d=\"M1645,352.0 C1645,89.5 2145.0,89.5 2145.0,352.0\" fill=\"none\" stroke=\"currentColor\"/>\n",
              "    <text dy=\"1.25em\" style=\"font-size: 0.8em; letter-spacing: 1px\">\n",
              "        <textPath xlink:href=\"#arrow-3062cdbcbdd44fb7a1e8612aeec1d0f7-0-11\" class=\"displacy-label\" startOffset=\"50%\" side=\"left\" fill=\"currentColor\" text-anchor=\"middle\">appos</textPath>\n",
              "    </text>\n",
              "    <path class=\"displacy-arrowhead\" d=\"M2145.0,354.0 L2153.0,342.0 2137.0,342.0\" fill=\"currentColor\"/>\n",
              "</g>\n",
              "\n",
              "<g class=\"displacy-arrow\">\n",
              "    <path class=\"displacy-arc\" id=\"arrow-3062cdbcbdd44fb7a1e8612aeec1d0f7-0-12\" stroke-width=\"2px\" d=\"M2170,352.0 C2170,264.5 2310.0,264.5 2310.0,352.0\" fill=\"none\" stroke=\"currentColor\"/>\n",
              "    <text dy=\"1.25em\" style=\"font-size: 0.8em; letter-spacing: 1px\">\n",
              "        <textPath xlink:href=\"#arrow-3062cdbcbdd44fb7a1e8612aeec1d0f7-0-12\" class=\"displacy-label\" startOffset=\"50%\" side=\"left\" fill=\"currentColor\" text-anchor=\"middle\">flat</textPath>\n",
              "    </text>\n",
              "    <path class=\"displacy-arrowhead\" d=\"M2310.0,354.0 L2318.0,342.0 2302.0,342.0\" fill=\"currentColor\"/>\n",
              "</g>\n",
              "</svg></span>"
            ],
            "text/plain": [
              "<IPython.core.display.HTML object>"
            ]
          },
          "metadata": {
            "tags": []
          }
        }
      ]
    },
    {
      "cell_type": "code",
      "metadata": {
        "id": "7tHWRpUSZrsQ",
        "colab": {
          "base_uri": "https://localhost:8080/",
          "height": 739
        },
        "outputId": "a064e2d4-c006-4212-b6b7-0f9e0e351f42"
      },
      "source": [
        "import spacy\n",
        "\n",
        "# Importación de la librería Gráfica para desplegar \n",
        "# los árboles de relación Sintáctica\n",
        "from spacy import displacy\n",
        "\n",
        "# Cargamos núcleo de trabajo (Español e Inglés)\n",
        "Espanol = spacy.load(\"es_core_news_sm\")\n",
        "English = spacy.load(\"en_core_web_sm\")\n",
        "# Definimos las frases a analizar y sus respectivos árboles (Español e Inglés)\n",
        "Frase1 = Espanol(u\"Juan invitó a Pedro a su fiesta la semana pasada\")\n",
        "displacy.render(Frase1, style = 'dep', jupyter = True, options={'distance':120, 'bg':'white', 'color':'black'})\n",
        "Phrase1 = English(u\"Juan invited Pedro to his party last week\")\n",
        "displacy.render(Phrase1, style = 'dep', jupyter = True, options={'distance':120, 'bg':'black', 'color':'white'})"
      ],
      "execution_count": null,
      "outputs": [
        {
          "output_type": "display_data",
          "data": {
            "text/html": [
              "<span class=\"tex2jax_ignore\"><svg xmlns=\"http://www.w3.org/2000/svg\" xmlns:xlink=\"http://www.w3.org/1999/xlink\" xml:lang=\"es\" id=\"f71daa1b579542508c267c58831066bf-0\" class=\"displacy\" width=\"1250\" height=\"377.0\" direction=\"ltr\" style=\"max-width: none; height: 377.0px; color: black; background: white; font-family: Arial; direction: ltr\">\n",
              "<text class=\"displacy-token\" fill=\"currentColor\" text-anchor=\"middle\" y=\"287.0\">\n",
              "    <tspan class=\"displacy-word\" fill=\"currentColor\" x=\"50\">Juan</tspan>\n",
              "    <tspan class=\"displacy-tag\" dy=\"2em\" fill=\"currentColor\" x=\"50\">PROPN</tspan>\n",
              "</text>\n",
              "\n",
              "<text class=\"displacy-token\" fill=\"currentColor\" text-anchor=\"middle\" y=\"287.0\">\n",
              "    <tspan class=\"displacy-word\" fill=\"currentColor\" x=\"170\">invitó</tspan>\n",
              "    <tspan class=\"displacy-tag\" dy=\"2em\" fill=\"currentColor\" x=\"170\">VERB</tspan>\n",
              "</text>\n",
              "\n",
              "<text class=\"displacy-token\" fill=\"currentColor\" text-anchor=\"middle\" y=\"287.0\">\n",
              "    <tspan class=\"displacy-word\" fill=\"currentColor\" x=\"290\">a</tspan>\n",
              "    <tspan class=\"displacy-tag\" dy=\"2em\" fill=\"currentColor\" x=\"290\">ADP</tspan>\n",
              "</text>\n",
              "\n",
              "<text class=\"displacy-token\" fill=\"currentColor\" text-anchor=\"middle\" y=\"287.0\">\n",
              "    <tspan class=\"displacy-word\" fill=\"currentColor\" x=\"410\">Pedro</tspan>\n",
              "    <tspan class=\"displacy-tag\" dy=\"2em\" fill=\"currentColor\" x=\"410\">PROPN</tspan>\n",
              "</text>\n",
              "\n",
              "<text class=\"displacy-token\" fill=\"currentColor\" text-anchor=\"middle\" y=\"287.0\">\n",
              "    <tspan class=\"displacy-word\" fill=\"currentColor\" x=\"530\">a</tspan>\n",
              "    <tspan class=\"displacy-tag\" dy=\"2em\" fill=\"currentColor\" x=\"530\">ADP</tspan>\n",
              "</text>\n",
              "\n",
              "<text class=\"displacy-token\" fill=\"currentColor\" text-anchor=\"middle\" y=\"287.0\">\n",
              "    <tspan class=\"displacy-word\" fill=\"currentColor\" x=\"650\">su</tspan>\n",
              "    <tspan class=\"displacy-tag\" dy=\"2em\" fill=\"currentColor\" x=\"650\">DET</tspan>\n",
              "</text>\n",
              "\n",
              "<text class=\"displacy-token\" fill=\"currentColor\" text-anchor=\"middle\" y=\"287.0\">\n",
              "    <tspan class=\"displacy-word\" fill=\"currentColor\" x=\"770\">fiesta</tspan>\n",
              "    <tspan class=\"displacy-tag\" dy=\"2em\" fill=\"currentColor\" x=\"770\">NOUN</tspan>\n",
              "</text>\n",
              "\n",
              "<text class=\"displacy-token\" fill=\"currentColor\" text-anchor=\"middle\" y=\"287.0\">\n",
              "    <tspan class=\"displacy-word\" fill=\"currentColor\" x=\"890\">la</tspan>\n",
              "    <tspan class=\"displacy-tag\" dy=\"2em\" fill=\"currentColor\" x=\"890\">DET</tspan>\n",
              "</text>\n",
              "\n",
              "<text class=\"displacy-token\" fill=\"currentColor\" text-anchor=\"middle\" y=\"287.0\">\n",
              "    <tspan class=\"displacy-word\" fill=\"currentColor\" x=\"1010\">semana</tspan>\n",
              "    <tspan class=\"displacy-tag\" dy=\"2em\" fill=\"currentColor\" x=\"1010\">NOUN</tspan>\n",
              "</text>\n",
              "\n",
              "<text class=\"displacy-token\" fill=\"currentColor\" text-anchor=\"middle\" y=\"287.0\">\n",
              "    <tspan class=\"displacy-word\" fill=\"currentColor\" x=\"1130\">pasada</tspan>\n",
              "    <tspan class=\"displacy-tag\" dy=\"2em\" fill=\"currentColor\" x=\"1130\">ADJ</tspan>\n",
              "</text>\n",
              "\n",
              "<g class=\"displacy-arrow\">\n",
              "    <path class=\"displacy-arc\" id=\"arrow-f71daa1b579542508c267c58831066bf-0-0\" stroke-width=\"2px\" d=\"M70,242.0 C70,182.0 155.0,182.0 155.0,242.0\" fill=\"none\" stroke=\"currentColor\"/>\n",
              "    <text dy=\"1.25em\" style=\"font-size: 0.8em; letter-spacing: 1px\">\n",
              "        <textPath xlink:href=\"#arrow-f71daa1b579542508c267c58831066bf-0-0\" class=\"displacy-label\" startOffset=\"50%\" side=\"left\" fill=\"currentColor\" text-anchor=\"middle\">nsubj</textPath>\n",
              "    </text>\n",
              "    <path class=\"displacy-arrowhead\" d=\"M70,244.0 L62,232.0 78,232.0\" fill=\"currentColor\"/>\n",
              "</g>\n",
              "\n",
              "<g class=\"displacy-arrow\">\n",
              "    <path class=\"displacy-arc\" id=\"arrow-f71daa1b579542508c267c58831066bf-0-1\" stroke-width=\"2px\" d=\"M310,242.0 C310,182.0 395.0,182.0 395.0,242.0\" fill=\"none\" stroke=\"currentColor\"/>\n",
              "    <text dy=\"1.25em\" style=\"font-size: 0.8em; letter-spacing: 1px\">\n",
              "        <textPath xlink:href=\"#arrow-f71daa1b579542508c267c58831066bf-0-1\" class=\"displacy-label\" startOffset=\"50%\" side=\"left\" fill=\"currentColor\" text-anchor=\"middle\">case</textPath>\n",
              "    </text>\n",
              "    <path class=\"displacy-arrowhead\" d=\"M310,244.0 L302,232.0 318,232.0\" fill=\"currentColor\"/>\n",
              "</g>\n",
              "\n",
              "<g class=\"displacy-arrow\">\n",
              "    <path class=\"displacy-arc\" id=\"arrow-f71daa1b579542508c267c58831066bf-0-2\" stroke-width=\"2px\" d=\"M190,242.0 C190,122.0 400.0,122.0 400.0,242.0\" fill=\"none\" stroke=\"currentColor\"/>\n",
              "    <text dy=\"1.25em\" style=\"font-size: 0.8em; letter-spacing: 1px\">\n",
              "        <textPath xlink:href=\"#arrow-f71daa1b579542508c267c58831066bf-0-2\" class=\"displacy-label\" startOffset=\"50%\" side=\"left\" fill=\"currentColor\" text-anchor=\"middle\">obj</textPath>\n",
              "    </text>\n",
              "    <path class=\"displacy-arrowhead\" d=\"M400.0,244.0 L408.0,232.0 392.0,232.0\" fill=\"currentColor\"/>\n",
              "</g>\n",
              "\n",
              "<g class=\"displacy-arrow\">\n",
              "    <path class=\"displacy-arc\" id=\"arrow-f71daa1b579542508c267c58831066bf-0-3\" stroke-width=\"2px\" d=\"M550,242.0 C550,122.0 760.0,122.0 760.0,242.0\" fill=\"none\" stroke=\"currentColor\"/>\n",
              "    <text dy=\"1.25em\" style=\"font-size: 0.8em; letter-spacing: 1px\">\n",
              "        <textPath xlink:href=\"#arrow-f71daa1b579542508c267c58831066bf-0-3\" class=\"displacy-label\" startOffset=\"50%\" side=\"left\" fill=\"currentColor\" text-anchor=\"middle\">case</textPath>\n",
              "    </text>\n",
              "    <path class=\"displacy-arrowhead\" d=\"M550,244.0 L542,232.0 558,232.0\" fill=\"currentColor\"/>\n",
              "</g>\n",
              "\n",
              "<g class=\"displacy-arrow\">\n",
              "    <path class=\"displacy-arc\" id=\"arrow-f71daa1b579542508c267c58831066bf-0-4\" stroke-width=\"2px\" d=\"M670,242.0 C670,182.0 755.0,182.0 755.0,242.0\" fill=\"none\" stroke=\"currentColor\"/>\n",
              "    <text dy=\"1.25em\" style=\"font-size: 0.8em; letter-spacing: 1px\">\n",
              "        <textPath xlink:href=\"#arrow-f71daa1b579542508c267c58831066bf-0-4\" class=\"displacy-label\" startOffset=\"50%\" side=\"left\" fill=\"currentColor\" text-anchor=\"middle\">det</textPath>\n",
              "    </text>\n",
              "    <path class=\"displacy-arrowhead\" d=\"M670,244.0 L662,232.0 678,232.0\" fill=\"currentColor\"/>\n",
              "</g>\n",
              "\n",
              "<g class=\"displacy-arrow\">\n",
              "    <path class=\"displacy-arc\" id=\"arrow-f71daa1b579542508c267c58831066bf-0-5\" stroke-width=\"2px\" d=\"M190,242.0 C190,62.0 765.0,62.0 765.0,242.0\" fill=\"none\" stroke=\"currentColor\"/>\n",
              "    <text dy=\"1.25em\" style=\"font-size: 0.8em; letter-spacing: 1px\">\n",
              "        <textPath xlink:href=\"#arrow-f71daa1b579542508c267c58831066bf-0-5\" class=\"displacy-label\" startOffset=\"50%\" side=\"left\" fill=\"currentColor\" text-anchor=\"middle\">obj</textPath>\n",
              "    </text>\n",
              "    <path class=\"displacy-arrowhead\" d=\"M765.0,244.0 L773.0,232.0 757.0,232.0\" fill=\"currentColor\"/>\n",
              "</g>\n",
              "\n",
              "<g class=\"displacy-arrow\">\n",
              "    <path class=\"displacy-arc\" id=\"arrow-f71daa1b579542508c267c58831066bf-0-6\" stroke-width=\"2px\" d=\"M910,242.0 C910,182.0 995.0,182.0 995.0,242.0\" fill=\"none\" stroke=\"currentColor\"/>\n",
              "    <text dy=\"1.25em\" style=\"font-size: 0.8em; letter-spacing: 1px\">\n",
              "        <textPath xlink:href=\"#arrow-f71daa1b579542508c267c58831066bf-0-6\" class=\"displacy-label\" startOffset=\"50%\" side=\"left\" fill=\"currentColor\" text-anchor=\"middle\">det</textPath>\n",
              "    </text>\n",
              "    <path class=\"displacy-arrowhead\" d=\"M910,244.0 L902,232.0 918,232.0\" fill=\"currentColor\"/>\n",
              "</g>\n",
              "\n",
              "<g class=\"displacy-arrow\">\n",
              "    <path class=\"displacy-arc\" id=\"arrow-f71daa1b579542508c267c58831066bf-0-7\" stroke-width=\"2px\" d=\"M190,242.0 C190,2.0 1010.0,2.0 1010.0,242.0\" fill=\"none\" stroke=\"currentColor\"/>\n",
              "    <text dy=\"1.25em\" style=\"font-size: 0.8em; letter-spacing: 1px\">\n",
              "        <textPath xlink:href=\"#arrow-f71daa1b579542508c267c58831066bf-0-7\" class=\"displacy-label\" startOffset=\"50%\" side=\"left\" fill=\"currentColor\" text-anchor=\"middle\">obl</textPath>\n",
              "    </text>\n",
              "    <path class=\"displacy-arrowhead\" d=\"M1010.0,244.0 L1018.0,232.0 1002.0,232.0\" fill=\"currentColor\"/>\n",
              "</g>\n",
              "\n",
              "<g class=\"displacy-arrow\">\n",
              "    <path class=\"displacy-arc\" id=\"arrow-f71daa1b579542508c267c58831066bf-0-8\" stroke-width=\"2px\" d=\"M1030,242.0 C1030,182.0 1115.0,182.0 1115.0,242.0\" fill=\"none\" stroke=\"currentColor\"/>\n",
              "    <text dy=\"1.25em\" style=\"font-size: 0.8em; letter-spacing: 1px\">\n",
              "        <textPath xlink:href=\"#arrow-f71daa1b579542508c267c58831066bf-0-8\" class=\"displacy-label\" startOffset=\"50%\" side=\"left\" fill=\"currentColor\" text-anchor=\"middle\">amod</textPath>\n",
              "    </text>\n",
              "    <path class=\"displacy-arrowhead\" d=\"M1115.0,244.0 L1123.0,232.0 1107.0,232.0\" fill=\"currentColor\"/>\n",
              "</g>\n",
              "</svg></span>"
            ],
            "text/plain": [
              "<IPython.core.display.HTML object>"
            ]
          },
          "metadata": {
            "tags": []
          }
        },
        {
          "output_type": "display_data",
          "data": {
            "text/html": [
              "<span class=\"tex2jax_ignore\"><svg xmlns=\"http://www.w3.org/2000/svg\" xmlns:xlink=\"http://www.w3.org/1999/xlink\" xml:lang=\"en\" id=\"f5f7ec62822e4f9580f57be2ac3ceb29-0\" class=\"displacy\" width=\"1010\" height=\"317.0\" direction=\"ltr\" style=\"max-width: none; height: 317.0px; color: white; background: black; font-family: Arial; direction: ltr\">\n",
              "<text class=\"displacy-token\" fill=\"currentColor\" text-anchor=\"middle\" y=\"227.0\">\n",
              "    <tspan class=\"displacy-word\" fill=\"currentColor\" x=\"50\">Juan</tspan>\n",
              "    <tspan class=\"displacy-tag\" dy=\"2em\" fill=\"currentColor\" x=\"50\">PROPN</tspan>\n",
              "</text>\n",
              "\n",
              "<text class=\"displacy-token\" fill=\"currentColor\" text-anchor=\"middle\" y=\"227.0\">\n",
              "    <tspan class=\"displacy-word\" fill=\"currentColor\" x=\"170\">invited</tspan>\n",
              "    <tspan class=\"displacy-tag\" dy=\"2em\" fill=\"currentColor\" x=\"170\">VERB</tspan>\n",
              "</text>\n",
              "\n",
              "<text class=\"displacy-token\" fill=\"currentColor\" text-anchor=\"middle\" y=\"227.0\">\n",
              "    <tspan class=\"displacy-word\" fill=\"currentColor\" x=\"290\">Pedro</tspan>\n",
              "    <tspan class=\"displacy-tag\" dy=\"2em\" fill=\"currentColor\" x=\"290\">PROPN</tspan>\n",
              "</text>\n",
              "\n",
              "<text class=\"displacy-token\" fill=\"currentColor\" text-anchor=\"middle\" y=\"227.0\">\n",
              "    <tspan class=\"displacy-word\" fill=\"currentColor\" x=\"410\">to</tspan>\n",
              "    <tspan class=\"displacy-tag\" dy=\"2em\" fill=\"currentColor\" x=\"410\">ADP</tspan>\n",
              "</text>\n",
              "\n",
              "<text class=\"displacy-token\" fill=\"currentColor\" text-anchor=\"middle\" y=\"227.0\">\n",
              "    <tspan class=\"displacy-word\" fill=\"currentColor\" x=\"530\">his</tspan>\n",
              "    <tspan class=\"displacy-tag\" dy=\"2em\" fill=\"currentColor\" x=\"530\">DET</tspan>\n",
              "</text>\n",
              "\n",
              "<text class=\"displacy-token\" fill=\"currentColor\" text-anchor=\"middle\" y=\"227.0\">\n",
              "    <tspan class=\"displacy-word\" fill=\"currentColor\" x=\"650\">party</tspan>\n",
              "    <tspan class=\"displacy-tag\" dy=\"2em\" fill=\"currentColor\" x=\"650\">NOUN</tspan>\n",
              "</text>\n",
              "\n",
              "<text class=\"displacy-token\" fill=\"currentColor\" text-anchor=\"middle\" y=\"227.0\">\n",
              "    <tspan class=\"displacy-word\" fill=\"currentColor\" x=\"770\">last</tspan>\n",
              "    <tspan class=\"displacy-tag\" dy=\"2em\" fill=\"currentColor\" x=\"770\">ADJ</tspan>\n",
              "</text>\n",
              "\n",
              "<text class=\"displacy-token\" fill=\"currentColor\" text-anchor=\"middle\" y=\"227.0\">\n",
              "    <tspan class=\"displacy-word\" fill=\"currentColor\" x=\"890\">week</tspan>\n",
              "    <tspan class=\"displacy-tag\" dy=\"2em\" fill=\"currentColor\" x=\"890\">NOUN</tspan>\n",
              "</text>\n",
              "\n",
              "<g class=\"displacy-arrow\">\n",
              "    <path class=\"displacy-arc\" id=\"arrow-f5f7ec62822e4f9580f57be2ac3ceb29-0-0\" stroke-width=\"2px\" d=\"M70,182.0 C70,122.0 160.0,122.0 160.0,182.0\" fill=\"none\" stroke=\"currentColor\"/>\n",
              "    <text dy=\"1.25em\" style=\"font-size: 0.8em; letter-spacing: 1px\">\n",
              "        <textPath xlink:href=\"#arrow-f5f7ec62822e4f9580f57be2ac3ceb29-0-0\" class=\"displacy-label\" startOffset=\"50%\" side=\"left\" fill=\"currentColor\" text-anchor=\"middle\">nsubj</textPath>\n",
              "    </text>\n",
              "    <path class=\"displacy-arrowhead\" d=\"M70,184.0 L62,172.0 78,172.0\" fill=\"currentColor\"/>\n",
              "</g>\n",
              "\n",
              "<g class=\"displacy-arrow\">\n",
              "    <path class=\"displacy-arc\" id=\"arrow-f5f7ec62822e4f9580f57be2ac3ceb29-0-1\" stroke-width=\"2px\" d=\"M190,182.0 C190,122.0 280.0,122.0 280.0,182.0\" fill=\"none\" stroke=\"currentColor\"/>\n",
              "    <text dy=\"1.25em\" style=\"font-size: 0.8em; letter-spacing: 1px\">\n",
              "        <textPath xlink:href=\"#arrow-f5f7ec62822e4f9580f57be2ac3ceb29-0-1\" class=\"displacy-label\" startOffset=\"50%\" side=\"left\" fill=\"currentColor\" text-anchor=\"middle\">dobj</textPath>\n",
              "    </text>\n",
              "    <path class=\"displacy-arrowhead\" d=\"M280.0,184.0 L288.0,172.0 272.0,172.0\" fill=\"currentColor\"/>\n",
              "</g>\n",
              "\n",
              "<g class=\"displacy-arrow\">\n",
              "    <path class=\"displacy-arc\" id=\"arrow-f5f7ec62822e4f9580f57be2ac3ceb29-0-2\" stroke-width=\"2px\" d=\"M190,182.0 C190,62.0 405.0,62.0 405.0,182.0\" fill=\"none\" stroke=\"currentColor\"/>\n",
              "    <text dy=\"1.25em\" style=\"font-size: 0.8em; letter-spacing: 1px\">\n",
              "        <textPath xlink:href=\"#arrow-f5f7ec62822e4f9580f57be2ac3ceb29-0-2\" class=\"displacy-label\" startOffset=\"50%\" side=\"left\" fill=\"currentColor\" text-anchor=\"middle\">prep</textPath>\n",
              "    </text>\n",
              "    <path class=\"displacy-arrowhead\" d=\"M405.0,184.0 L413.0,172.0 397.0,172.0\" fill=\"currentColor\"/>\n",
              "</g>\n",
              "\n",
              "<g class=\"displacy-arrow\">\n",
              "    <path class=\"displacy-arc\" id=\"arrow-f5f7ec62822e4f9580f57be2ac3ceb29-0-3\" stroke-width=\"2px\" d=\"M550,182.0 C550,122.0 640.0,122.0 640.0,182.0\" fill=\"none\" stroke=\"currentColor\"/>\n",
              "    <text dy=\"1.25em\" style=\"font-size: 0.8em; letter-spacing: 1px\">\n",
              "        <textPath xlink:href=\"#arrow-f5f7ec62822e4f9580f57be2ac3ceb29-0-3\" class=\"displacy-label\" startOffset=\"50%\" side=\"left\" fill=\"currentColor\" text-anchor=\"middle\">poss</textPath>\n",
              "    </text>\n",
              "    <path class=\"displacy-arrowhead\" d=\"M550,184.0 L542,172.0 558,172.0\" fill=\"currentColor\"/>\n",
              "</g>\n",
              "\n",
              "<g class=\"displacy-arrow\">\n",
              "    <path class=\"displacy-arc\" id=\"arrow-f5f7ec62822e4f9580f57be2ac3ceb29-0-4\" stroke-width=\"2px\" d=\"M430,182.0 C430,62.0 645.0,62.0 645.0,182.0\" fill=\"none\" stroke=\"currentColor\"/>\n",
              "    <text dy=\"1.25em\" style=\"font-size: 0.8em; letter-spacing: 1px\">\n",
              "        <textPath xlink:href=\"#arrow-f5f7ec62822e4f9580f57be2ac3ceb29-0-4\" class=\"displacy-label\" startOffset=\"50%\" side=\"left\" fill=\"currentColor\" text-anchor=\"middle\">pobj</textPath>\n",
              "    </text>\n",
              "    <path class=\"displacy-arrowhead\" d=\"M645.0,184.0 L653.0,172.0 637.0,172.0\" fill=\"currentColor\"/>\n",
              "</g>\n",
              "\n",
              "<g class=\"displacy-arrow\">\n",
              "    <path class=\"displacy-arc\" id=\"arrow-f5f7ec62822e4f9580f57be2ac3ceb29-0-5\" stroke-width=\"2px\" d=\"M790,182.0 C790,122.0 880.0,122.0 880.0,182.0\" fill=\"none\" stroke=\"currentColor\"/>\n",
              "    <text dy=\"1.25em\" style=\"font-size: 0.8em; letter-spacing: 1px\">\n",
              "        <textPath xlink:href=\"#arrow-f5f7ec62822e4f9580f57be2ac3ceb29-0-5\" class=\"displacy-label\" startOffset=\"50%\" side=\"left\" fill=\"currentColor\" text-anchor=\"middle\">amod</textPath>\n",
              "    </text>\n",
              "    <path class=\"displacy-arrowhead\" d=\"M790,184.0 L782,172.0 798,172.0\" fill=\"currentColor\"/>\n",
              "</g>\n",
              "\n",
              "<g class=\"displacy-arrow\">\n",
              "    <path class=\"displacy-arc\" id=\"arrow-f5f7ec62822e4f9580f57be2ac3ceb29-0-6\" stroke-width=\"2px\" d=\"M190,182.0 C190,2.0 890.0,2.0 890.0,182.0\" fill=\"none\" stroke=\"currentColor\"/>\n",
              "    <text dy=\"1.25em\" style=\"font-size: 0.8em; letter-spacing: 1px\">\n",
              "        <textPath xlink:href=\"#arrow-f5f7ec62822e4f9580f57be2ac3ceb29-0-6\" class=\"displacy-label\" startOffset=\"50%\" side=\"left\" fill=\"currentColor\" text-anchor=\"middle\">npadvmod</textPath>\n",
              "    </text>\n",
              "    <path class=\"displacy-arrowhead\" d=\"M890.0,184.0 L898.0,172.0 882.0,172.0\" fill=\"currentColor\"/>\n",
              "</g>\n",
              "</svg></span>"
            ],
            "text/plain": [
              "<IPython.core.display.HTML object>"
            ]
          },
          "metadata": {
            "tags": []
          }
        }
      ]
    },
    {
      "cell_type": "code",
      "metadata": {
        "id": "fAt0A7oAdZ1x",
        "colab": {
          "base_uri": "https://localhost:8080/",
          "height": 599
        },
        "outputId": "cbcd6697-a831-4615-defa-00faf3635306"
      },
      "source": [
        "# Frase 2\n",
        "Frase2 = Espanol(u\"Que la fuerza te acompañe\")\n",
        "displacy.render(Frase2, style = 'dep', jupyter = True, options={'distance':120, 'bg':'white', 'color':'black'})\n",
        "Phrase2 = English(u\"May the Force be with you\")\n",
        "displacy.render(Phrase2, style = 'dep', jupyter = True, options={'distance':120, 'bg':'black', 'color':'white'})"
      ],
      "execution_count": null,
      "outputs": [
        {
          "output_type": "display_data",
          "data": {
            "text/html": [
              "<span class=\"tex2jax_ignore\"><svg xmlns=\"http://www.w3.org/2000/svg\" xmlns:xlink=\"http://www.w3.org/1999/xlink\" xml:lang=\"es\" id=\"dc949ede15d542b88842fa89b17a6b61-0\" class=\"displacy\" width=\"650\" height=\"317.0\" direction=\"ltr\" style=\"max-width: none; height: 317.0px; color: black; background: white; font-family: Arial; direction: ltr\">\n",
              "<text class=\"displacy-token\" fill=\"currentColor\" text-anchor=\"middle\" y=\"227.0\">\n",
              "    <tspan class=\"displacy-word\" fill=\"currentColor\" x=\"50\">Que</tspan>\n",
              "    <tspan class=\"displacy-tag\" dy=\"2em\" fill=\"currentColor\" x=\"50\">SCONJ</tspan>\n",
              "</text>\n",
              "\n",
              "<text class=\"displacy-token\" fill=\"currentColor\" text-anchor=\"middle\" y=\"227.0\">\n",
              "    <tspan class=\"displacy-word\" fill=\"currentColor\" x=\"170\">la</tspan>\n",
              "    <tspan class=\"displacy-tag\" dy=\"2em\" fill=\"currentColor\" x=\"170\">DET</tspan>\n",
              "</text>\n",
              "\n",
              "<text class=\"displacy-token\" fill=\"currentColor\" text-anchor=\"middle\" y=\"227.0\">\n",
              "    <tspan class=\"displacy-word\" fill=\"currentColor\" x=\"290\">fuerza</tspan>\n",
              "    <tspan class=\"displacy-tag\" dy=\"2em\" fill=\"currentColor\" x=\"290\">NOUN</tspan>\n",
              "</text>\n",
              "\n",
              "<text class=\"displacy-token\" fill=\"currentColor\" text-anchor=\"middle\" y=\"227.0\">\n",
              "    <tspan class=\"displacy-word\" fill=\"currentColor\" x=\"410\">te</tspan>\n",
              "    <tspan class=\"displacy-tag\" dy=\"2em\" fill=\"currentColor\" x=\"410\">PRON</tspan>\n",
              "</text>\n",
              "\n",
              "<text class=\"displacy-token\" fill=\"currentColor\" text-anchor=\"middle\" y=\"227.0\">\n",
              "    <tspan class=\"displacy-word\" fill=\"currentColor\" x=\"530\">acompañe</tspan>\n",
              "    <tspan class=\"displacy-tag\" dy=\"2em\" fill=\"currentColor\" x=\"530\">VERB</tspan>\n",
              "</text>\n",
              "\n",
              "<g class=\"displacy-arrow\">\n",
              "    <path class=\"displacy-arc\" id=\"arrow-dc949ede15d542b88842fa89b17a6b61-0-0\" stroke-width=\"2px\" d=\"M70,182.0 C70,2.0 530.0,2.0 530.0,182.0\" fill=\"none\" stroke=\"currentColor\"/>\n",
              "    <text dy=\"1.25em\" style=\"font-size: 0.8em; letter-spacing: 1px\">\n",
              "        <textPath xlink:href=\"#arrow-dc949ede15d542b88842fa89b17a6b61-0-0\" class=\"displacy-label\" startOffset=\"50%\" side=\"left\" fill=\"currentColor\" text-anchor=\"middle\">mark</textPath>\n",
              "    </text>\n",
              "    <path class=\"displacy-arrowhead\" d=\"M70,184.0 L62,172.0 78,172.0\" fill=\"currentColor\"/>\n",
              "</g>\n",
              "\n",
              "<g class=\"displacy-arrow\">\n",
              "    <path class=\"displacy-arc\" id=\"arrow-dc949ede15d542b88842fa89b17a6b61-0-1\" stroke-width=\"2px\" d=\"M190,182.0 C190,122.0 280.0,122.0 280.0,182.0\" fill=\"none\" stroke=\"currentColor\"/>\n",
              "    <text dy=\"1.25em\" style=\"font-size: 0.8em; letter-spacing: 1px\">\n",
              "        <textPath xlink:href=\"#arrow-dc949ede15d542b88842fa89b17a6b61-0-1\" class=\"displacy-label\" startOffset=\"50%\" side=\"left\" fill=\"currentColor\" text-anchor=\"middle\">det</textPath>\n",
              "    </text>\n",
              "    <path class=\"displacy-arrowhead\" d=\"M190,184.0 L182,172.0 198,172.0\" fill=\"currentColor\"/>\n",
              "</g>\n",
              "\n",
              "<g class=\"displacy-arrow\">\n",
              "    <path class=\"displacy-arc\" id=\"arrow-dc949ede15d542b88842fa89b17a6b61-0-2\" stroke-width=\"2px\" d=\"M310,182.0 C310,62.0 525.0,62.0 525.0,182.0\" fill=\"none\" stroke=\"currentColor\"/>\n",
              "    <text dy=\"1.25em\" style=\"font-size: 0.8em; letter-spacing: 1px\">\n",
              "        <textPath xlink:href=\"#arrow-dc949ede15d542b88842fa89b17a6b61-0-2\" class=\"displacy-label\" startOffset=\"50%\" side=\"left\" fill=\"currentColor\" text-anchor=\"middle\">nsubj</textPath>\n",
              "    </text>\n",
              "    <path class=\"displacy-arrowhead\" d=\"M310,184.0 L302,172.0 318,172.0\" fill=\"currentColor\"/>\n",
              "</g>\n",
              "\n",
              "<g class=\"displacy-arrow\">\n",
              "    <path class=\"displacy-arc\" id=\"arrow-dc949ede15d542b88842fa89b17a6b61-0-3\" stroke-width=\"2px\" d=\"M430,182.0 C430,122.0 520.0,122.0 520.0,182.0\" fill=\"none\" stroke=\"currentColor\"/>\n",
              "    <text dy=\"1.25em\" style=\"font-size: 0.8em; letter-spacing: 1px\">\n",
              "        <textPath xlink:href=\"#arrow-dc949ede15d542b88842fa89b17a6b61-0-3\" class=\"displacy-label\" startOffset=\"50%\" side=\"left\" fill=\"currentColor\" text-anchor=\"middle\">obj</textPath>\n",
              "    </text>\n",
              "    <path class=\"displacy-arrowhead\" d=\"M430,184.0 L422,172.0 438,172.0\" fill=\"currentColor\"/>\n",
              "</g>\n",
              "</svg></span>"
            ],
            "text/plain": [
              "<IPython.core.display.HTML object>"
            ]
          },
          "metadata": {
            "tags": []
          }
        },
        {
          "output_type": "display_data",
          "data": {
            "text/html": [
              "<span class=\"tex2jax_ignore\"><svg xmlns=\"http://www.w3.org/2000/svg\" xmlns:xlink=\"http://www.w3.org/1999/xlink\" xml:lang=\"en\" id=\"a6146d1a3dd9461490077d247ce3ec7f-0\" class=\"displacy\" width=\"770\" height=\"257.0\" direction=\"ltr\" style=\"max-width: none; height: 257.0px; color: white; background: black; font-family: Arial; direction: ltr\">\n",
              "<text class=\"displacy-token\" fill=\"currentColor\" text-anchor=\"middle\" y=\"167.0\">\n",
              "    <tspan class=\"displacy-word\" fill=\"currentColor\" x=\"50\">May</tspan>\n",
              "    <tspan class=\"displacy-tag\" dy=\"2em\" fill=\"currentColor\" x=\"50\">VERB</tspan>\n",
              "</text>\n",
              "\n",
              "<text class=\"displacy-token\" fill=\"currentColor\" text-anchor=\"middle\" y=\"167.0\">\n",
              "    <tspan class=\"displacy-word\" fill=\"currentColor\" x=\"170\">the</tspan>\n",
              "    <tspan class=\"displacy-tag\" dy=\"2em\" fill=\"currentColor\" x=\"170\">DET</tspan>\n",
              "</text>\n",
              "\n",
              "<text class=\"displacy-token\" fill=\"currentColor\" text-anchor=\"middle\" y=\"167.0\">\n",
              "    <tspan class=\"displacy-word\" fill=\"currentColor\" x=\"290\">Force</tspan>\n",
              "    <tspan class=\"displacy-tag\" dy=\"2em\" fill=\"currentColor\" x=\"290\">NOUN</tspan>\n",
              "</text>\n",
              "\n",
              "<text class=\"displacy-token\" fill=\"currentColor\" text-anchor=\"middle\" y=\"167.0\">\n",
              "    <tspan class=\"displacy-word\" fill=\"currentColor\" x=\"410\">be</tspan>\n",
              "    <tspan class=\"displacy-tag\" dy=\"2em\" fill=\"currentColor\" x=\"410\">AUX</tspan>\n",
              "</text>\n",
              "\n",
              "<text class=\"displacy-token\" fill=\"currentColor\" text-anchor=\"middle\" y=\"167.0\">\n",
              "    <tspan class=\"displacy-word\" fill=\"currentColor\" x=\"530\">with</tspan>\n",
              "    <tspan class=\"displacy-tag\" dy=\"2em\" fill=\"currentColor\" x=\"530\">ADP</tspan>\n",
              "</text>\n",
              "\n",
              "<text class=\"displacy-token\" fill=\"currentColor\" text-anchor=\"middle\" y=\"167.0\">\n",
              "    <tspan class=\"displacy-word\" fill=\"currentColor\" x=\"650\">you</tspan>\n",
              "    <tspan class=\"displacy-tag\" dy=\"2em\" fill=\"currentColor\" x=\"650\">PRON</tspan>\n",
              "</text>\n",
              "\n",
              "<g class=\"displacy-arrow\">\n",
              "    <path class=\"displacy-arc\" id=\"arrow-a6146d1a3dd9461490077d247ce3ec7f-0-0\" stroke-width=\"2px\" d=\"M70,122.0 C70,2.0 410.0,2.0 410.0,122.0\" fill=\"none\" stroke=\"currentColor\"/>\n",
              "    <text dy=\"1.25em\" style=\"font-size: 0.8em; letter-spacing: 1px\">\n",
              "        <textPath xlink:href=\"#arrow-a6146d1a3dd9461490077d247ce3ec7f-0-0\" class=\"displacy-label\" startOffset=\"50%\" side=\"left\" fill=\"currentColor\" text-anchor=\"middle\">aux</textPath>\n",
              "    </text>\n",
              "    <path class=\"displacy-arrowhead\" d=\"M70,124.0 L62,112.0 78,112.0\" fill=\"currentColor\"/>\n",
              "</g>\n",
              "\n",
              "<g class=\"displacy-arrow\">\n",
              "    <path class=\"displacy-arc\" id=\"arrow-a6146d1a3dd9461490077d247ce3ec7f-0-1\" stroke-width=\"2px\" d=\"M190,122.0 C190,62.0 285.0,62.0 285.0,122.0\" fill=\"none\" stroke=\"currentColor\"/>\n",
              "    <text dy=\"1.25em\" style=\"font-size: 0.8em; letter-spacing: 1px\">\n",
              "        <textPath xlink:href=\"#arrow-a6146d1a3dd9461490077d247ce3ec7f-0-1\" class=\"displacy-label\" startOffset=\"50%\" side=\"left\" fill=\"currentColor\" text-anchor=\"middle\">det</textPath>\n",
              "    </text>\n",
              "    <path class=\"displacy-arrowhead\" d=\"M190,124.0 L182,112.0 198,112.0\" fill=\"currentColor\"/>\n",
              "</g>\n",
              "\n",
              "<g class=\"displacy-arrow\">\n",
              "    <path class=\"displacy-arc\" id=\"arrow-a6146d1a3dd9461490077d247ce3ec7f-0-2\" stroke-width=\"2px\" d=\"M310,122.0 C310,62.0 405.0,62.0 405.0,122.0\" fill=\"none\" stroke=\"currentColor\"/>\n",
              "    <text dy=\"1.25em\" style=\"font-size: 0.8em; letter-spacing: 1px\">\n",
              "        <textPath xlink:href=\"#arrow-a6146d1a3dd9461490077d247ce3ec7f-0-2\" class=\"displacy-label\" startOffset=\"50%\" side=\"left\" fill=\"currentColor\" text-anchor=\"middle\">nsubj</textPath>\n",
              "    </text>\n",
              "    <path class=\"displacy-arrowhead\" d=\"M310,124.0 L302,112.0 318,112.0\" fill=\"currentColor\"/>\n",
              "</g>\n",
              "\n",
              "<g class=\"displacy-arrow\">\n",
              "    <path class=\"displacy-arc\" id=\"arrow-a6146d1a3dd9461490077d247ce3ec7f-0-3\" stroke-width=\"2px\" d=\"M430,122.0 C430,62.0 525.0,62.0 525.0,122.0\" fill=\"none\" stroke=\"currentColor\"/>\n",
              "    <text dy=\"1.25em\" style=\"font-size: 0.8em; letter-spacing: 1px\">\n",
              "        <textPath xlink:href=\"#arrow-a6146d1a3dd9461490077d247ce3ec7f-0-3\" class=\"displacy-label\" startOffset=\"50%\" side=\"left\" fill=\"currentColor\" text-anchor=\"middle\">prep</textPath>\n",
              "    </text>\n",
              "    <path class=\"displacy-arrowhead\" d=\"M525.0,124.0 L533.0,112.0 517.0,112.0\" fill=\"currentColor\"/>\n",
              "</g>\n",
              "\n",
              "<g class=\"displacy-arrow\">\n",
              "    <path class=\"displacy-arc\" id=\"arrow-a6146d1a3dd9461490077d247ce3ec7f-0-4\" stroke-width=\"2px\" d=\"M550,122.0 C550,62.0 645.0,62.0 645.0,122.0\" fill=\"none\" stroke=\"currentColor\"/>\n",
              "    <text dy=\"1.25em\" style=\"font-size: 0.8em; letter-spacing: 1px\">\n",
              "        <textPath xlink:href=\"#arrow-a6146d1a3dd9461490077d247ce3ec7f-0-4\" class=\"displacy-label\" startOffset=\"50%\" side=\"left\" fill=\"currentColor\" text-anchor=\"middle\">pobj</textPath>\n",
              "    </text>\n",
              "    <path class=\"displacy-arrowhead\" d=\"M645.0,124.0 L653.0,112.0 637.0,112.0\" fill=\"currentColor\"/>\n",
              "</g>\n",
              "</svg></span>"
            ],
            "text/plain": [
              "<IPython.core.display.HTML object>"
            ]
          },
          "metadata": {
            "tags": []
          }
        }
      ]
    },
    {
      "cell_type": "code",
      "metadata": {
        "id": "IWKY6_sddZ10",
        "colab": {
          "base_uri": "https://localhost:8080/",
          "height": 659
        },
        "outputId": "9e3f3e78-71a3-47e7-af5c-b6b73b81369d"
      },
      "source": [
        "# Frase 3\n",
        "Frase3 = Espanol(u\"No Luke, yo soy tu padre\")\n",
        "displacy.render(Frase3, style = 'dep', jupyter = True, options={'distance':120, 'bg':'white', 'color':'black'})\n",
        "Phrase3 = English(u\"No Luke, I am your father\")\n",
        "displacy.render(Phrase3, style = 'dep', jupyter = True, options={'distance':120, 'bg':'black', 'color':'white'})"
      ],
      "execution_count": null,
      "outputs": [
        {
          "output_type": "display_data",
          "data": {
            "text/html": [
              "<span class=\"tex2jax_ignore\"><svg xmlns=\"http://www.w3.org/2000/svg\" xmlns:xlink=\"http://www.w3.org/1999/xlink\" xml:lang=\"es\" id=\"d1341d81d8104eeeb3d20cfdf503fb5a-0\" class=\"displacy\" width=\"770\" height=\"377.0\" direction=\"ltr\" style=\"max-width: none; height: 377.0px; color: black; background: white; font-family: Arial; direction: ltr\">\n",
              "<text class=\"displacy-token\" fill=\"currentColor\" text-anchor=\"middle\" y=\"287.0\">\n",
              "    <tspan class=\"displacy-word\" fill=\"currentColor\" x=\"50\">No</tspan>\n",
              "    <tspan class=\"displacy-tag\" dy=\"2em\" fill=\"currentColor\" x=\"50\">ADV</tspan>\n",
              "</text>\n",
              "\n",
              "<text class=\"displacy-token\" fill=\"currentColor\" text-anchor=\"middle\" y=\"287.0\">\n",
              "    <tspan class=\"displacy-word\" fill=\"currentColor\" x=\"170\">Luke,</tspan>\n",
              "    <tspan class=\"displacy-tag\" dy=\"2em\" fill=\"currentColor\" x=\"170\">PROPN</tspan>\n",
              "</text>\n",
              "\n",
              "<text class=\"displacy-token\" fill=\"currentColor\" text-anchor=\"middle\" y=\"287.0\">\n",
              "    <tspan class=\"displacy-word\" fill=\"currentColor\" x=\"290\">yo</tspan>\n",
              "    <tspan class=\"displacy-tag\" dy=\"2em\" fill=\"currentColor\" x=\"290\">PRON</tspan>\n",
              "</text>\n",
              "\n",
              "<text class=\"displacy-token\" fill=\"currentColor\" text-anchor=\"middle\" y=\"287.0\">\n",
              "    <tspan class=\"displacy-word\" fill=\"currentColor\" x=\"410\">soy</tspan>\n",
              "    <tspan class=\"displacy-tag\" dy=\"2em\" fill=\"currentColor\" x=\"410\">AUX</tspan>\n",
              "</text>\n",
              "\n",
              "<text class=\"displacy-token\" fill=\"currentColor\" text-anchor=\"middle\" y=\"287.0\">\n",
              "    <tspan class=\"displacy-word\" fill=\"currentColor\" x=\"530\">tu</tspan>\n",
              "    <tspan class=\"displacy-tag\" dy=\"2em\" fill=\"currentColor\" x=\"530\">DET</tspan>\n",
              "</text>\n",
              "\n",
              "<text class=\"displacy-token\" fill=\"currentColor\" text-anchor=\"middle\" y=\"287.0\">\n",
              "    <tspan class=\"displacy-word\" fill=\"currentColor\" x=\"650\">padre</tspan>\n",
              "    <tspan class=\"displacy-tag\" dy=\"2em\" fill=\"currentColor\" x=\"650\">NOUN</tspan>\n",
              "</text>\n",
              "\n",
              "<g class=\"displacy-arrow\">\n",
              "    <path class=\"displacy-arc\" id=\"arrow-d1341d81d8104eeeb3d20cfdf503fb5a-0-0\" stroke-width=\"2px\" d=\"M70,242.0 C70,182.0 155.0,182.0 155.0,242.0\" fill=\"none\" stroke=\"currentColor\"/>\n",
              "    <text dy=\"1.25em\" style=\"font-size: 0.8em; letter-spacing: 1px\">\n",
              "        <textPath xlink:href=\"#arrow-d1341d81d8104eeeb3d20cfdf503fb5a-0-0\" class=\"displacy-label\" startOffset=\"50%\" side=\"left\" fill=\"currentColor\" text-anchor=\"middle\">advmod</textPath>\n",
              "    </text>\n",
              "    <path class=\"displacy-arrowhead\" d=\"M70,244.0 L62,232.0 78,232.0\" fill=\"currentColor\"/>\n",
              "</g>\n",
              "\n",
              "<g class=\"displacy-arrow\">\n",
              "    <path class=\"displacy-arc\" id=\"arrow-d1341d81d8104eeeb3d20cfdf503fb5a-0-1\" stroke-width=\"2px\" d=\"M310,242.0 C310,62.0 645.0,62.0 645.0,242.0\" fill=\"none\" stroke=\"currentColor\"/>\n",
              "    <text dy=\"1.25em\" style=\"font-size: 0.8em; letter-spacing: 1px\">\n",
              "        <textPath xlink:href=\"#arrow-d1341d81d8104eeeb3d20cfdf503fb5a-0-1\" class=\"displacy-label\" startOffset=\"50%\" side=\"left\" fill=\"currentColor\" text-anchor=\"middle\">nsubj</textPath>\n",
              "    </text>\n",
              "    <path class=\"displacy-arrowhead\" d=\"M310,244.0 L302,232.0 318,232.0\" fill=\"currentColor\"/>\n",
              "</g>\n",
              "\n",
              "<g class=\"displacy-arrow\">\n",
              "    <path class=\"displacy-arc\" id=\"arrow-d1341d81d8104eeeb3d20cfdf503fb5a-0-2\" stroke-width=\"2px\" d=\"M430,242.0 C430,122.0 640.0,122.0 640.0,242.0\" fill=\"none\" stroke=\"currentColor\"/>\n",
              "    <text dy=\"1.25em\" style=\"font-size: 0.8em; letter-spacing: 1px\">\n",
              "        <textPath xlink:href=\"#arrow-d1341d81d8104eeeb3d20cfdf503fb5a-0-2\" class=\"displacy-label\" startOffset=\"50%\" side=\"left\" fill=\"currentColor\" text-anchor=\"middle\">cop</textPath>\n",
              "    </text>\n",
              "    <path class=\"displacy-arrowhead\" d=\"M430,244.0 L422,232.0 438,232.0\" fill=\"currentColor\"/>\n",
              "</g>\n",
              "\n",
              "<g class=\"displacy-arrow\">\n",
              "    <path class=\"displacy-arc\" id=\"arrow-d1341d81d8104eeeb3d20cfdf503fb5a-0-3\" stroke-width=\"2px\" d=\"M550,242.0 C550,182.0 635.0,182.0 635.0,242.0\" fill=\"none\" stroke=\"currentColor\"/>\n",
              "    <text dy=\"1.25em\" style=\"font-size: 0.8em; letter-spacing: 1px\">\n",
              "        <textPath xlink:href=\"#arrow-d1341d81d8104eeeb3d20cfdf503fb5a-0-3\" class=\"displacy-label\" startOffset=\"50%\" side=\"left\" fill=\"currentColor\" text-anchor=\"middle\">det</textPath>\n",
              "    </text>\n",
              "    <path class=\"displacy-arrowhead\" d=\"M550,244.0 L542,232.0 558,232.0\" fill=\"currentColor\"/>\n",
              "</g>\n",
              "\n",
              "<g class=\"displacy-arrow\">\n",
              "    <path class=\"displacy-arc\" id=\"arrow-d1341d81d8104eeeb3d20cfdf503fb5a-0-4\" stroke-width=\"2px\" d=\"M190,242.0 C190,2.0 650.0,2.0 650.0,242.0\" fill=\"none\" stroke=\"currentColor\"/>\n",
              "    <text dy=\"1.25em\" style=\"font-size: 0.8em; letter-spacing: 1px\">\n",
              "        <textPath xlink:href=\"#arrow-d1341d81d8104eeeb3d20cfdf503fb5a-0-4\" class=\"displacy-label\" startOffset=\"50%\" side=\"left\" fill=\"currentColor\" text-anchor=\"middle\">advcl</textPath>\n",
              "    </text>\n",
              "    <path class=\"displacy-arrowhead\" d=\"M650.0,244.0 L658.0,232.0 642.0,232.0\" fill=\"currentColor\"/>\n",
              "</g>\n",
              "</svg></span>"
            ],
            "text/plain": [
              "<IPython.core.display.HTML object>"
            ]
          },
          "metadata": {
            "tags": []
          }
        },
        {
          "output_type": "display_data",
          "data": {
            "text/html": [
              "<span class=\"tex2jax_ignore\"><svg xmlns=\"http://www.w3.org/2000/svg\" xmlns:xlink=\"http://www.w3.org/1999/xlink\" xml:lang=\"en\" id=\"6659d388b7614d719c394b70572367bc-0\" class=\"displacy\" width=\"770\" height=\"257.0\" direction=\"ltr\" style=\"max-width: none; height: 257.0px; color: white; background: black; font-family: Arial; direction: ltr\">\n",
              "<text class=\"displacy-token\" fill=\"currentColor\" text-anchor=\"middle\" y=\"167.0\">\n",
              "    <tspan class=\"displacy-word\" fill=\"currentColor\" x=\"50\">No</tspan>\n",
              "    <tspan class=\"displacy-tag\" dy=\"2em\" fill=\"currentColor\" x=\"50\">DET</tspan>\n",
              "</text>\n",
              "\n",
              "<text class=\"displacy-token\" fill=\"currentColor\" text-anchor=\"middle\" y=\"167.0\">\n",
              "    <tspan class=\"displacy-word\" fill=\"currentColor\" x=\"170\">Luke,</tspan>\n",
              "    <tspan class=\"displacy-tag\" dy=\"2em\" fill=\"currentColor\" x=\"170\">PROPN</tspan>\n",
              "</text>\n",
              "\n",
              "<text class=\"displacy-token\" fill=\"currentColor\" text-anchor=\"middle\" y=\"167.0\">\n",
              "    <tspan class=\"displacy-word\" fill=\"currentColor\" x=\"290\">I</tspan>\n",
              "    <tspan class=\"displacy-tag\" dy=\"2em\" fill=\"currentColor\" x=\"290\">PRON</tspan>\n",
              "</text>\n",
              "\n",
              "<text class=\"displacy-token\" fill=\"currentColor\" text-anchor=\"middle\" y=\"167.0\">\n",
              "    <tspan class=\"displacy-word\" fill=\"currentColor\" x=\"410\">am</tspan>\n",
              "    <tspan class=\"displacy-tag\" dy=\"2em\" fill=\"currentColor\" x=\"410\">AUX</tspan>\n",
              "</text>\n",
              "\n",
              "<text class=\"displacy-token\" fill=\"currentColor\" text-anchor=\"middle\" y=\"167.0\">\n",
              "    <tspan class=\"displacy-word\" fill=\"currentColor\" x=\"530\">your</tspan>\n",
              "    <tspan class=\"displacy-tag\" dy=\"2em\" fill=\"currentColor\" x=\"530\">DET</tspan>\n",
              "</text>\n",
              "\n",
              "<text class=\"displacy-token\" fill=\"currentColor\" text-anchor=\"middle\" y=\"167.0\">\n",
              "    <tspan class=\"displacy-word\" fill=\"currentColor\" x=\"650\">father</tspan>\n",
              "    <tspan class=\"displacy-tag\" dy=\"2em\" fill=\"currentColor\" x=\"650\">NOUN</tspan>\n",
              "</text>\n",
              "\n",
              "<g class=\"displacy-arrow\">\n",
              "    <path class=\"displacy-arc\" id=\"arrow-6659d388b7614d719c394b70572367bc-0-0\" stroke-width=\"2px\" d=\"M70,122.0 C70,62.0 165.0,62.0 165.0,122.0\" fill=\"none\" stroke=\"currentColor\"/>\n",
              "    <text dy=\"1.25em\" style=\"font-size: 0.8em; letter-spacing: 1px\">\n",
              "        <textPath xlink:href=\"#arrow-6659d388b7614d719c394b70572367bc-0-0\" class=\"displacy-label\" startOffset=\"50%\" side=\"left\" fill=\"currentColor\" text-anchor=\"middle\">det</textPath>\n",
              "    </text>\n",
              "    <path class=\"displacy-arrowhead\" d=\"M70,124.0 L62,112.0 78,112.0\" fill=\"currentColor\"/>\n",
              "</g>\n",
              "\n",
              "<g class=\"displacy-arrow\">\n",
              "    <path class=\"displacy-arc\" id=\"arrow-6659d388b7614d719c394b70572367bc-0-1\" stroke-width=\"2px\" d=\"M190,122.0 C190,2.0 410.0,2.0 410.0,122.0\" fill=\"none\" stroke=\"currentColor\"/>\n",
              "    <text dy=\"1.25em\" style=\"font-size: 0.8em; letter-spacing: 1px\">\n",
              "        <textPath xlink:href=\"#arrow-6659d388b7614d719c394b70572367bc-0-1\" class=\"displacy-label\" startOffset=\"50%\" side=\"left\" fill=\"currentColor\" text-anchor=\"middle\">npadvmod</textPath>\n",
              "    </text>\n",
              "    <path class=\"displacy-arrowhead\" d=\"M190,124.0 L182,112.0 198,112.0\" fill=\"currentColor\"/>\n",
              "</g>\n",
              "\n",
              "<g class=\"displacy-arrow\">\n",
              "    <path class=\"displacy-arc\" id=\"arrow-6659d388b7614d719c394b70572367bc-0-2\" stroke-width=\"2px\" d=\"M310,122.0 C310,62.0 405.0,62.0 405.0,122.0\" fill=\"none\" stroke=\"currentColor\"/>\n",
              "    <text dy=\"1.25em\" style=\"font-size: 0.8em; letter-spacing: 1px\">\n",
              "        <textPath xlink:href=\"#arrow-6659d388b7614d719c394b70572367bc-0-2\" class=\"displacy-label\" startOffset=\"50%\" side=\"left\" fill=\"currentColor\" text-anchor=\"middle\">nsubj</textPath>\n",
              "    </text>\n",
              "    <path class=\"displacy-arrowhead\" d=\"M310,124.0 L302,112.0 318,112.0\" fill=\"currentColor\"/>\n",
              "</g>\n",
              "\n",
              "<g class=\"displacy-arrow\">\n",
              "    <path class=\"displacy-arc\" id=\"arrow-6659d388b7614d719c394b70572367bc-0-3\" stroke-width=\"2px\" d=\"M550,122.0 C550,62.0 645.0,62.0 645.0,122.0\" fill=\"none\" stroke=\"currentColor\"/>\n",
              "    <text dy=\"1.25em\" style=\"font-size: 0.8em; letter-spacing: 1px\">\n",
              "        <textPath xlink:href=\"#arrow-6659d388b7614d719c394b70572367bc-0-3\" class=\"displacy-label\" startOffset=\"50%\" side=\"left\" fill=\"currentColor\" text-anchor=\"middle\">poss</textPath>\n",
              "    </text>\n",
              "    <path class=\"displacy-arrowhead\" d=\"M550,124.0 L542,112.0 558,112.0\" fill=\"currentColor\"/>\n",
              "</g>\n",
              "\n",
              "<g class=\"displacy-arrow\">\n",
              "    <path class=\"displacy-arc\" id=\"arrow-6659d388b7614d719c394b70572367bc-0-4\" stroke-width=\"2px\" d=\"M430,122.0 C430,2.0 650.0,2.0 650.0,122.0\" fill=\"none\" stroke=\"currentColor\"/>\n",
              "    <text dy=\"1.25em\" style=\"font-size: 0.8em; letter-spacing: 1px\">\n",
              "        <textPath xlink:href=\"#arrow-6659d388b7614d719c394b70572367bc-0-4\" class=\"displacy-label\" startOffset=\"50%\" side=\"left\" fill=\"currentColor\" text-anchor=\"middle\">attr</textPath>\n",
              "    </text>\n",
              "    <path class=\"displacy-arrowhead\" d=\"M650.0,124.0 L658.0,112.0 642.0,112.0\" fill=\"currentColor\"/>\n",
              "</g>\n",
              "</svg></span>"
            ],
            "text/plain": [
              "<IPython.core.display.HTML object>"
            ]
          },
          "metadata": {
            "tags": []
          }
        }
      ]
    },
    {
      "cell_type": "code",
      "metadata": {
        "id": "BnFYNFvqdZ13",
        "colab": {
          "base_uri": "https://localhost:8080/",
          "height": 659
        },
        "outputId": "0bf93c9a-342e-463d-b4d1-222c3f1a06f5"
      },
      "source": [
        "# Frase 4\n",
        "Frase4 = Espanol(u\"Elemental mi querido Watson\")\n",
        "displacy.render(Frase4, style = 'dep', jupyter = True, options={'distance':120, 'bg':'white', 'color':'black'})\n",
        "Phrase4 = English(u\"Elementary my dear watson\")\n",
        "displacy.render(Phrase4, style = 'dep', jupyter = True, options={'distance':120, 'bg':'black', 'color':'white'})"
      ],
      "execution_count": null,
      "outputs": [
        {
          "output_type": "display_data",
          "data": {
            "text/html": [
              "<span class=\"tex2jax_ignore\"><svg xmlns=\"http://www.w3.org/2000/svg\" xmlns:xlink=\"http://www.w3.org/1999/xlink\" xml:lang=\"es\" id=\"c848318a360a4fd2b193f3124cf2eecb-0\" class=\"displacy\" width=\"530\" height=\"317.0\" direction=\"ltr\" style=\"max-width: none; height: 317.0px; color: black; background: white; font-family: Arial; direction: ltr\">\n",
              "<text class=\"displacy-token\" fill=\"currentColor\" text-anchor=\"middle\" y=\"227.0\">\n",
              "    <tspan class=\"displacy-word\" fill=\"currentColor\" x=\"50\">Elemental</tspan>\n",
              "    <tspan class=\"displacy-tag\" dy=\"2em\" fill=\"currentColor\" x=\"50\">ADP</tspan>\n",
              "</text>\n",
              "\n",
              "<text class=\"displacy-token\" fill=\"currentColor\" text-anchor=\"middle\" y=\"227.0\">\n",
              "    <tspan class=\"displacy-word\" fill=\"currentColor\" x=\"170\">mi</tspan>\n",
              "    <tspan class=\"displacy-tag\" dy=\"2em\" fill=\"currentColor\" x=\"170\">DET</tspan>\n",
              "</text>\n",
              "\n",
              "<text class=\"displacy-token\" fill=\"currentColor\" text-anchor=\"middle\" y=\"227.0\">\n",
              "    <tspan class=\"displacy-word\" fill=\"currentColor\" x=\"290\">querido</tspan>\n",
              "    <tspan class=\"displacy-tag\" dy=\"2em\" fill=\"currentColor\" x=\"290\">ADJ</tspan>\n",
              "</text>\n",
              "\n",
              "<text class=\"displacy-token\" fill=\"currentColor\" text-anchor=\"middle\" y=\"227.0\">\n",
              "    <tspan class=\"displacy-word\" fill=\"currentColor\" x=\"410\">Watson</tspan>\n",
              "    <tspan class=\"displacy-tag\" dy=\"2em\" fill=\"currentColor\" x=\"410\">PROPN</tspan>\n",
              "</text>\n",
              "\n",
              "<g class=\"displacy-arrow\">\n",
              "    <path class=\"displacy-arc\" id=\"arrow-c848318a360a4fd2b193f3124cf2eecb-0-0\" stroke-width=\"2px\" d=\"M190,182.0 C190,62.0 405.0,62.0 405.0,182.0\" fill=\"none\" stroke=\"currentColor\"/>\n",
              "    <text dy=\"1.25em\" style=\"font-size: 0.8em; letter-spacing: 1px\">\n",
              "        <textPath xlink:href=\"#arrow-c848318a360a4fd2b193f3124cf2eecb-0-0\" class=\"displacy-label\" startOffset=\"50%\" side=\"left\" fill=\"currentColor\" text-anchor=\"middle\">det</textPath>\n",
              "    </text>\n",
              "    <path class=\"displacy-arrowhead\" d=\"M190,184.0 L182,172.0 198,172.0\" fill=\"currentColor\"/>\n",
              "</g>\n",
              "\n",
              "<g class=\"displacy-arrow\">\n",
              "    <path class=\"displacy-arc\" id=\"arrow-c848318a360a4fd2b193f3124cf2eecb-0-1\" stroke-width=\"2px\" d=\"M310,182.0 C310,122.0 400.0,122.0 400.0,182.0\" fill=\"none\" stroke=\"currentColor\"/>\n",
              "    <text dy=\"1.25em\" style=\"font-size: 0.8em; letter-spacing: 1px\">\n",
              "        <textPath xlink:href=\"#arrow-c848318a360a4fd2b193f3124cf2eecb-0-1\" class=\"displacy-label\" startOffset=\"50%\" side=\"left\" fill=\"currentColor\" text-anchor=\"middle\">amod</textPath>\n",
              "    </text>\n",
              "    <path class=\"displacy-arrowhead\" d=\"M310,184.0 L302,172.0 318,172.0\" fill=\"currentColor\"/>\n",
              "</g>\n",
              "\n",
              "<g class=\"displacy-arrow\">\n",
              "    <path class=\"displacy-arc\" id=\"arrow-c848318a360a4fd2b193f3124cf2eecb-0-2\" stroke-width=\"2px\" d=\"M70,182.0 C70,2.0 410.0,2.0 410.0,182.0\" fill=\"none\" stroke=\"currentColor\"/>\n",
              "    <text dy=\"1.25em\" style=\"font-size: 0.8em; letter-spacing: 1px\">\n",
              "        <textPath xlink:href=\"#arrow-c848318a360a4fd2b193f3124cf2eecb-0-2\" class=\"displacy-label\" startOffset=\"50%\" side=\"left\" fill=\"currentColor\" text-anchor=\"middle\">nsubj</textPath>\n",
              "    </text>\n",
              "    <path class=\"displacy-arrowhead\" d=\"M410.0,184.0 L418.0,172.0 402.0,172.0\" fill=\"currentColor\"/>\n",
              "</g>\n",
              "</svg></span>"
            ],
            "text/plain": [
              "<IPython.core.display.HTML object>"
            ]
          },
          "metadata": {
            "tags": []
          }
        },
        {
          "output_type": "display_data",
          "data": {
            "text/html": [
              "<span class=\"tex2jax_ignore\"><svg xmlns=\"http://www.w3.org/2000/svg\" xmlns:xlink=\"http://www.w3.org/1999/xlink\" xml:lang=\"en\" id=\"db48d7abc2fb4506b442bf3efc94867f-0\" class=\"displacy\" width=\"530\" height=\"317.0\" direction=\"ltr\" style=\"max-width: none; height: 317.0px; color: white; background: black; font-family: Arial; direction: ltr\">\n",
              "<text class=\"displacy-token\" fill=\"currentColor\" text-anchor=\"middle\" y=\"227.0\">\n",
              "    <tspan class=\"displacy-word\" fill=\"currentColor\" x=\"50\">Elementary</tspan>\n",
              "    <tspan class=\"displacy-tag\" dy=\"2em\" fill=\"currentColor\" x=\"50\">PROPN</tspan>\n",
              "</text>\n",
              "\n",
              "<text class=\"displacy-token\" fill=\"currentColor\" text-anchor=\"middle\" y=\"227.0\">\n",
              "    <tspan class=\"displacy-word\" fill=\"currentColor\" x=\"170\">my</tspan>\n",
              "    <tspan class=\"displacy-tag\" dy=\"2em\" fill=\"currentColor\" x=\"170\">DET</tspan>\n",
              "</text>\n",
              "\n",
              "<text class=\"displacy-token\" fill=\"currentColor\" text-anchor=\"middle\" y=\"227.0\">\n",
              "    <tspan class=\"displacy-word\" fill=\"currentColor\" x=\"290\">dear</tspan>\n",
              "    <tspan class=\"displacy-tag\" dy=\"2em\" fill=\"currentColor\" x=\"290\">ADJ</tspan>\n",
              "</text>\n",
              "\n",
              "<text class=\"displacy-token\" fill=\"currentColor\" text-anchor=\"middle\" y=\"227.0\">\n",
              "    <tspan class=\"displacy-word\" fill=\"currentColor\" x=\"410\">watson</tspan>\n",
              "    <tspan class=\"displacy-tag\" dy=\"2em\" fill=\"currentColor\" x=\"410\">NOUN</tspan>\n",
              "</text>\n",
              "\n",
              "<g class=\"displacy-arrow\">\n",
              "    <path class=\"displacy-arc\" id=\"arrow-db48d7abc2fb4506b442bf3efc94867f-0-0\" stroke-width=\"2px\" d=\"M190,182.0 C190,62.0 405.0,62.0 405.0,182.0\" fill=\"none\" stroke=\"currentColor\"/>\n",
              "    <text dy=\"1.25em\" style=\"font-size: 0.8em; letter-spacing: 1px\">\n",
              "        <textPath xlink:href=\"#arrow-db48d7abc2fb4506b442bf3efc94867f-0-0\" class=\"displacy-label\" startOffset=\"50%\" side=\"left\" fill=\"currentColor\" text-anchor=\"middle\">poss</textPath>\n",
              "    </text>\n",
              "    <path class=\"displacy-arrowhead\" d=\"M190,184.0 L182,172.0 198,172.0\" fill=\"currentColor\"/>\n",
              "</g>\n",
              "\n",
              "<g class=\"displacy-arrow\">\n",
              "    <path class=\"displacy-arc\" id=\"arrow-db48d7abc2fb4506b442bf3efc94867f-0-1\" stroke-width=\"2px\" d=\"M310,182.0 C310,122.0 400.0,122.0 400.0,182.0\" fill=\"none\" stroke=\"currentColor\"/>\n",
              "    <text dy=\"1.25em\" style=\"font-size: 0.8em; letter-spacing: 1px\">\n",
              "        <textPath xlink:href=\"#arrow-db48d7abc2fb4506b442bf3efc94867f-0-1\" class=\"displacy-label\" startOffset=\"50%\" side=\"left\" fill=\"currentColor\" text-anchor=\"middle\">amod</textPath>\n",
              "    </text>\n",
              "    <path class=\"displacy-arrowhead\" d=\"M310,184.0 L302,172.0 318,172.0\" fill=\"currentColor\"/>\n",
              "</g>\n",
              "\n",
              "<g class=\"displacy-arrow\">\n",
              "    <path class=\"displacy-arc\" id=\"arrow-db48d7abc2fb4506b442bf3efc94867f-0-2\" stroke-width=\"2px\" d=\"M70,182.0 C70,2.0 410.0,2.0 410.0,182.0\" fill=\"none\" stroke=\"currentColor\"/>\n",
              "    <text dy=\"1.25em\" style=\"font-size: 0.8em; letter-spacing: 1px\">\n",
              "        <textPath xlink:href=\"#arrow-db48d7abc2fb4506b442bf3efc94867f-0-2\" class=\"displacy-label\" startOffset=\"50%\" side=\"left\" fill=\"currentColor\" text-anchor=\"middle\">dobj</textPath>\n",
              "    </text>\n",
              "    <path class=\"displacy-arrowhead\" d=\"M410.0,184.0 L418.0,172.0 402.0,172.0\" fill=\"currentColor\"/>\n",
              "</g>\n",
              "</svg></span>"
            ],
            "text/plain": [
              "<IPython.core.display.HTML object>"
            ]
          },
          "metadata": {
            "tags": []
          }
        }
      ]
    },
    {
      "cell_type": "code",
      "metadata": {
        "id": "0FIqVSz5dZ18",
        "colab": {
          "base_uri": "https://localhost:8080/",
          "height": 232
        },
        "outputId": "67366357-e7eb-47eb-81e2-282a5c029df3"
      },
      "source": [
        "# De cada frase, eliminamos todas las palabras que representen\n",
        "# las dependencias sintácticas \"Determinante\" y \"Posesivos\n",
        "\n",
        "# Unimos todas las frases en un arreglo para trabajarlas\n",
        "FrasesEspañol  = [Frase2,  Frase3,  Frase4]\n",
        "PhrasesEnglish = [Phrase2, Phrase3, Phrase4] \n",
        "\n",
        "# Declaramos las dependencias para Español e Inglés\n",
        "Relacion = 'det' \n",
        "Relation = 'poss'\n",
        "\n",
        "# Para cada token, obtenemos su dependencia, y si es\n",
        "# diferente de la declarada, la anexamos al texto de salida\n",
        "for Frase in FrasesEspañol:\n",
        "    Texto = ''\n",
        "    for token in Frase:\n",
        "        if(Relacion != str(token.dep_)):\n",
        "            Texto = Texto + token.text + \" \"\n",
        "    print(\"\\n\" + str(Frase) + \" --> \" + str(Texto))\n",
        "\n",
        "for Phrase in PhrasesEnglish:\n",
        "    Text = ''\n",
        "    for token in Phrase:\n",
        "        if(Relation != str(token.dep_)):\n",
        "            Text = Text + token.text + \" \"\n",
        "    print(\"\\n\" + str(Phrase) + \" --> \" + str(Text))"
      ],
      "execution_count": null,
      "outputs": [
        {
          "output_type": "error",
          "ename": "NameError",
          "evalue": "ignored",
          "traceback": [
            "\u001b[0;31m---------------------------------------------------------------------------\u001b[0m",
            "\u001b[0;31mNameError\u001b[0m                                 Traceback (most recent call last)",
            "\u001b[0;32m<ipython-input-9-260bda565928>\u001b[0m in \u001b[0;36m<module>\u001b[0;34m()\u001b[0m\n\u001b[1;32m      3\u001b[0m \u001b[0;34m\u001b[0m\u001b[0m\n\u001b[1;32m      4\u001b[0m \u001b[0;31m# Unimos todas las frases en un arreglo para trabajarlas\u001b[0m\u001b[0;34m\u001b[0m\u001b[0;34m\u001b[0m\u001b[0;34m\u001b[0m\u001b[0m\n\u001b[0;32m----> 5\u001b[0;31m \u001b[0mFrasesEspañol\u001b[0m  \u001b[0;34m=\u001b[0m \u001b[0;34m[\u001b[0m\u001b[0mFrase2\u001b[0m\u001b[0;34m,\u001b[0m  \u001b[0mFrase3\u001b[0m\u001b[0;34m,\u001b[0m  \u001b[0mFrase4\u001b[0m\u001b[0;34m]\u001b[0m\u001b[0;34m\u001b[0m\u001b[0;34m\u001b[0m\u001b[0m\n\u001b[0m\u001b[1;32m      6\u001b[0m \u001b[0mPhrasesEnglish\u001b[0m \u001b[0;34m=\u001b[0m \u001b[0;34m[\u001b[0m\u001b[0mPhrase2\u001b[0m\u001b[0;34m,\u001b[0m \u001b[0mPhrase3\u001b[0m\u001b[0;34m,\u001b[0m \u001b[0mPhrase4\u001b[0m\u001b[0;34m]\u001b[0m\u001b[0;34m\u001b[0m\u001b[0;34m\u001b[0m\u001b[0m\n\u001b[1;32m      7\u001b[0m \u001b[0;34m\u001b[0m\u001b[0m\n",
            "\u001b[0;31mNameError\u001b[0m: name 'Frase2' is not defined"
          ]
        }
      ]
    },
    {
      "cell_type": "code",
      "metadata": {
        "id": "gsC25sWPWJfw"
      },
      "source": [
        ""
      ],
      "execution_count": null,
      "outputs": []
    },
    {
      "cell_type": "markdown",
      "metadata": {
        "id": "KSwmpMzvd1o0"
      },
      "source": [
        "# Reto 06: Stemming (Truncación)"
      ]
    },
    {
      "cell_type": "code",
      "metadata": {
        "id": "xd0OpiyJd1o4"
      },
      "source": [
        "\n",
        "\n",
        "# Importación de la librería de NLTK y el algoritmo\n",
        "# de truncación \"Bola de nieve\"\n",
        "from nltk.stem.snowball import SnowballStemmer\n",
        "\n",
        "# Declaramos nuestro \"truncador\" en idioma Español\n",
        "stemmer = SnowballStemmer(language='spanish')"
      ],
      "execution_count": null,
      "outputs": []
    },
    {
      "cell_type": "code",
      "metadata": {
        "id": "Bxy6nAuJd1pA",
        "colab": {
          "base_uri": "https://localhost:8080/"
        },
        "outputId": "0da30234-32ff-4c97-8345-e183d57e7101"
      },
      "source": [
        "# Escribimos las frases con el formato Unicode\n",
        "Frases = [pln_es(u'Cuando cuentes cuentos cuenta cuantos cuentos cuentas, así, sabrás cuantos cuentos contaste'),\n",
        "          pln_es(u'Un trabalengüista muy trabalenguado creó un trabalenguas muy trabalenguoso ni el mejor '\n",
        "                  'trabalengüista ni el más trabalenguado pudo trabalengüear aquel trabalenguas tan trabalenguoso'),\n",
        "          pln_es(u'Hay suecos en Suiza y hay suizos en Suecia, pero hay más suizos en Suiza que suizos en Suecia, '\n",
        "                  'y más suecos en suecos en Suecia que suecos en Suiza'),\n",
        "          pln_es(u'Si mi gusto gustara del gusto que gusta a mi gusto. Tu gusto gustaría del gusto que gusta mi gusto. '\n",
        "                  'Pero como tu gusto no gusta del gusto que gusta a mi gusto. Mi gusto no gusta del gusto que gusta a '\n",
        "                  'tu gusto')]\n",
        "\n",
        "# Separamos el stem por medio de | (Utilizando el comando end)\n",
        "for Frase in Frases:\n",
        "    for token in Frase:\n",
        "        # Imprimimos el stem de cada token\n",
        "        print(stemmer.stem(token.text), end='|')\n",
        "    print(\"\\n\")"
      ],
      "execution_count": null,
      "outputs": [
        {
          "output_type": "stream",
          "text": [
            "cuand|cuent|cuent|cuent|cuant|cuent|cuent|,|asi|,|sabras|cuant|cuent|cont|\n",
            "\n",
            "un|trabalengü|muy|trabalengu|cre|un|trabalengu|muy|trabalengu|ni|el|mejor|trabalengü|ni|el|mas|trabalengu|pud|trabalengü|aquel|trabalengu|tan|trabalengu|\n",
            "\n",
            "hay|suec|en|suiz|y|hay|suiz|en|sueci|,|per|hay|mas|suiz|en|suiz|que|suiz|en|sueci|,|y|mas|suec|en|suec|en|sueci|que|suec|en|suiz|\n",
            "\n",
            "si|mi|gust|gust|del|gust|que|gust|a|mi|gust|.|tu|gust|gust|del|gust|que|gust|mi|gust|.|per|com|tu|gust|no|gust|del|gust|que|gust|a|mi|gust|.|mi|gust|no|gust|del|gust|que|gust|a|tu|gust|\n",
            "\n"
          ],
          "name": "stdout"
        }
      ]
    },
    {
      "cell_type": "code",
      "metadata": {
        "id": "WlT8gh3hd1pK",
        "colab": {
          "base_uri": "https://localhost:8080/"
        },
        "outputId": "9ecec455-aa7b-4072-a079-78e64b5c58a0"
      },
      "source": [
        "# reto 6# Obtenemos de cada Frase (Trabalenguas) los diferentes seteams que\n",
        "# lo conforman, y los almacenamos temporalmente en una lista\n",
        "# añdiendo los que son diferentes y aumentando el contador de número\n",
        "# (descartamos aquellos que sean signos de puntuación):\n",
        "\n",
        "Stems_Diferentes = []\n",
        "for Trab in Frases:\n",
        "    Stems = []\n",
        "    Stems_Number = 0\n",
        "    for token in Trab:\n",
        "        if(stemmer.stem(token.text) not in Stems) and (token.text != 'PUNCT'):\n",
        "            st = Stems.append(stemmer.stem(token.text))\n",
        "            Stems_Number += 1\n",
        "    Stems_Diferentes.append(Stems_Number)\n",
        "    \n",
        "# Obtenemos los valores para cada nivel de complejidad basados en\n",
        "# el criterio de (No. de Stems / Cantidad de palabras):\n",
        "Dificultad = []\n",
        "\n",
        "for i in range(len(Stems_Diferentes)):\n",
        "    Dificultad.append(Stems_Diferentes[i] / len(Frases[i]))\n",
        " \n",
        "\n",
        "    # Imprimimos el trabalenguas más DIFÍCIL:\n",
        "# (El que tenga el valor más bajo del criterio anterior)\n",
        "print(\"El trabalenguas más difícil es:\\n\")\n",
        "indice = Dificultad.index(min(Dificultad))\n",
        "print(Frases[indice])\n",
        "print(\"\\nContiene \" + str(Stems_Diferentes[indice]) + \" Stems en \" + str(len(Frases[indice])) + \" palabras\")\n",
        "\n",
        "# Imprimimos el trabalenguas más Fácil:\n",
        "# (El que tenga el valor más alto del criterio anterior)\n",
        "print(\"\\n\\nEl trabalenguas más fácil es:\\n\")\n",
        "indice = Dificultad.index(max(Dificultad))\n",
        "print(Frases[indice])\n",
        "print(\"\\nContiene \" + str(Stems_Diferentes[indice]) + \" Stems en \" + str(len(Frases[indice])) + \" palabras\"+ str(indice))"
      ],
      "execution_count": null,
      "outputs": [
        {
          "output_type": "stream",
          "text": [
            "El trabalenguas más difícil es:\n",
            "\n",
            "Si mi gusto gustara del gusto que gusta a mi gusto. Tu gusto gustaría del gusto que gusta mi gusto. Pero como tu gusto no gusta del gusto que gusta a mi gusto. Mi gusto no gusta del gusto que gusta a tu gusto\n",
            "\n",
            "Contiene 11 Stems en 47 palabras\n",
            "\n",
            "\n",
            "El trabalenguas más fácil es:\n",
            "\n",
            "Un trabalengüista muy trabalenguado creó un trabalenguas muy trabalenguoso ni el mejor trabalengüista ni el más trabalenguado pudo trabalengüear aquel trabalenguas tan trabalenguoso\n",
            "\n",
            "Contiene 12 Stems en 23 palabras1\n"
          ],
          "name": "stdout"
        }
      ]
    },
    {
      "cell_type": "code",
      "metadata": {
        "id": "Wd6C8gUDk6Lf"
      },
      "source": [
        ""
      ],
      "execution_count": null,
      "outputs": []
    },
    {
      "cell_type": "markdown",
      "metadata": {
        "id": "j2oZ5Le2kkyG"
      },
      "source": [
        "# Reto 07: Lematización"
      ]
    },
    {
      "cell_type": "code",
      "metadata": {
        "id": "yzizHhbfnyEW"
      },
      "source": [
        "# Importación dela librería de SpaCy\n",
        "import spacy\n",
        "\n"
      ],
      "execution_count": null,
      "outputs": []
    },
    {
      "cell_type": "code",
      "metadata": {
        "id": "ipojcT8fopJi"
      },
      "source": [
        "# Declaración del texto a trabajar\n",
        "Texto = pln_es(u\"Miró a su alrededor, el descansillo del número cuatro de Privet Drive, estaba desierto. Posiblemente la taza de te fuera la idea que tenía Dudley de lo que sería una hábil trampa cazabobos. Manteniendo la mano sangrante elevada, Harry reunió los fragmentos de la taza con la otra mano y los tiró dentro de la ya repleta papelera que apenas se veía dentro del dormitorio. Luego con fuertes pisadas fue hacia el baño para poner el dedo debajo del grifo. \"\n",
        "              \"Era estúpido, inconveniente e irritante más allá de lo creíble que todavía le faltaran cuatro días para poder hacer magia… pero tenía que admitir ante si mismo que ese sinuoso corte en el dedo podría haberlo derrotado. Nunca había aprendido a curar heridas, y ahora que pensaba en ello – particularmente a la luz de sus planes inmediatos- este parecía un serio fallo en su educación mágica. Haciendo una nota mental de pedirle a Hermione que le enseñara a hacerlo, uso un gran puñado de papel higiénico para limpiar tanto té como pudo, antes de volver al dormitorio y cerrar la puerta de un golpe tras de sí. \"\n",
        "              \"Harry había pasado la mañana vaciando completamente el baúl del colegio por primera vez desde que lo había empacado seis años atrás, desde comienzo de los años de internado escolar, hasta ahora apenas había tocado las tres cuartas partes superiores y las había reemplazado o renovado, dejando una capa de restos varios en el fondo, viejas plumas, ojos de escarabajo disecados, calcetines sueltos que ya no le servían. Minutos antes Harry había hundido la mano en esa porquería, experimentando un dolor punzante en el cuarto dedo de la mano derecha y al sacarla había visto un montón de sangre. \"\n",
        "              \"Ahora procedió con algo más de cuidado. Arrodillándose junto al baúl, tanteó el fondo y después de retirar una vieja insignia que cambiaba débilmente entre “Apoyen a CEDRIC DIGGORY y POTTER APESTA”, un resquebrajado y gastado chivatoscopio y un relicario de oro dentro del cual una nota firmada R.A.B había estado escondida, finalmente descubrió el borde afilado que había causado el daño. Lo reconoció enseguida. Era un fragmento de dos pulgadas de largo del espejo encantado que su padrino, ahora muerto, Sirius, le había dado. Harry lo dejo a un lado y tanteó cautamente en el baúl buscando el resto, pero no quedaba nada más del último regalo de su padrino salvo vidrio pulverizado que se adhería como arena brillante a la capa más profunda de restos. \"\n",
        "              \"Harry se sentó derecho y examinó el mellado pedazo con el que se había cortado, sin ver nada más que sus propios brillantes ojos verdes reflejados en él. Luego puso el fragmento sobre El Profeta de esa mañana, que descansaba sobre la cama sin leer, e intentó contener el repentino flujo de amargos recuerdos, las puñaladas de añoranza y nostalgia que el descubrimiento del espejo roto habían ocasionado, atacando el resto de la basura que había en el baúl. \"\n",
        "              \"Le llevó otra hora vaciarlo completamente, tirar las cosas inútiles y clasificar las restantes en pilas de acuerdo a si iba a necesitarlas o no a partir de ahora. Los uniformes del colegio y de Quidditch, el caldero, pergaminos, plumas y la mayoría de los libros de texto fueron apilados en una esquina, para ser dejados atrás. Se preguntaba que harían su tía y su tío con ellos; probablemente quemarlos a altas horas de la noche como si fueran las pruebas de algún horrendo crimen. Su ropa muggle, la capa de invisibilidad, el equipo para fabricar pociones, algunos libros, el álbum de fotos que Hagrid le había obsequiado una vez, un puñado de cartas y su varita habían sido empacadas nuevamente en una vieja mochila. En un bolsillo delantero coloco el mapa del merodeador y el relicario con la nota firmada R.A.B. Al relicario le había otorgado ese lugar de honor no debido a su valor –era inútil en todos los sentidos prácticos- sino debido a lo que había costado obtenerlo. \"\n",
        "              \"Esto dejaba un considerable fajo de periódicos sobre el escritorio, al lado de su nevada lechuza, Hedwig. Uno por cada día que había pasado en Privet Drive ese verano. \"\n",
        "              \"Se levantó del suelo, se estiró y cruzó la habitación hacia el escritorio. \"\n",
        "              \"Hedwig no hizo ni un movimiento cuando empezó a hojear los periódicos, tirándolos a la pila de basura uno por uno. La lechuza estaba dormida, o lo fingía, estaba enfadada con Harry por la limitada cantidad de tiempo que en ese momento se le permitía pasar fuera de la jaula. \"\n",
        "              \"Mientras se acercaba al fondo de la pila de periódicos, Harry aminoró la velocidad, buscando un ejemplar en particular que sabía que había llegado poco después de haber llegado él a Privet Drive a pasar el verano; recordaba que en la primera página había habido una pequeña mención sobre la renuncia de Charity Burbage, la profesora de Estudios Muggles de Hogwarts. Al final lo encontró. Yendo a la página diez se hundió en la silla del escritorio y releyó el artículo que había estado buscando. Albus Dumbledore Recordado \"\n",
        "              \"Por Elphias Dodge. Conocí a Albus Dumbledore a la edad de once años en nuestro primer día en Hogwarts. Nuestra mutua atracción se debió sin duda al hecho de que ambos nos sentíamos forasteros. Yo por mi parte había contraído fiebre del dragón poco antes de llegar al colegio, y aunque ya no era contagioso, mi rostro picado y el tinte verdoso no alentaban a muchos a que se me acercaran. Por su parte Albus había llegado a Hogwarts con la carga de la no deseada notoriedad. Apenas un año antes su padre Percival había sido apresado por un salvaje y bien publicitado ataque contra tres jóvenes Muggles.\")"
      ],
      "execution_count": null,
      "outputs": []
    },
    {
      "cell_type": "code",
      "metadata": {
        "id": "rLa4KRvVqOXD",
        "colab": {
          "base_uri": "https://localhost:8080/"
        },
        "outputId": "8a048752-a1d0-411c-ade5-30a503410401"
      },
      "source": [
        "# Contador de tokens diferentes (Antes de aplicar lematización)\n",
        "\n",
        "# Extraer directamente los tokens en el texto\n",
        "Tokens = [tok.lemma_.lower() for tok in Texto if not tok.is_punct | tok.is_stop]\n",
        "\n",
        "# Eliminar los elementos repetidos de la lista\n",
        "TokensDif = set(Tokens)\n",
        "\n",
        "# Extraer las lematizaciones del texto original\n",
        "Lemmas = [lem.text.lower() for lem in Texto if not lem.is_punct | lem.is_stop]\n",
        "\n",
        "# Eliminar los elementos repetidos de la lista\n",
        "LemmasDif = set(Tokens)\n",
        "\n",
        "# Impresión de resultados\n",
        "print(\"Tokens encontrados en todo el texto: \" + str(len(Texto)))\n",
        "print(\"Tokens DIFERENTES en todo el texto: \" + str(len(TokensDif)))\n",
        "print(\"Lemmas DIFERENTES en todo el texto: \" + str(len(LemmasDif)))"
      ],
      "execution_count": null,
      "outputs": [
        {
          "output_type": "stream",
          "text": [
            "Tokens encontrados en todo el texto: 1040\n",
            "Tokens DIFERENTES en todo el texto: 320\n",
            "Lemmas DIFERENTES en todo el texto: 320\n"
          ],
          "name": "stdout"
        }
      ]
    },
    {
      "cell_type": "code",
      "metadata": {
        "id": "2c1B3AlQxZ6E",
        "colab": {
          "base_uri": "https://localhost:8080/",
          "height": 380
        },
        "outputId": "949d7ade-e2f9-43ac-8248-98ebbdb91173"
      },
      "source": [
        "# Agregamos en un diccionario cada token y su frecuencia de aparición\n",
        "import matplotlib.pyplot as plt\n",
        "\n",
        "DicTokens = {}\n",
        "DicTokens2 = {}\n",
        "for Token in Tokens:\n",
        "    if(DicTokens.get(Token) == None):\n",
        "        DicTokens.setdefault(Token, 1)\n",
        "    else:\n",
        "        DicTokens[Token] += 1\n",
        "  \n",
        "# Creamos un nuevo diccionario con solo los\n",
        "# tokens que aparecen más de 3 veces en el texto\n",
        "for Element in DicTokens:\n",
        "    if(DicTokens.get(Element) > 3):\n",
        "        DicTokens2.setdefault(Element, DicTokens.get(Element))\n",
        "      \n",
        "# Graficamos cada token contra la cantidad de veces que aparece\n",
        "plt.rcParams.update({'font.size': 16})\n",
        "plt.figure(figsize=(20,5))\n",
        "plt.bar(DicTokens2.keys(), DicTokens2.values(), color=['lightblue','steelblue','lightslategrey'])\n",
        "plt.axhline(sum(DicTokens2.values())/len(DicTokens2.values()), lw = 3, c='r', xmax=100)\n",
        "plt.title('Tokens diferentes') \n",
        "plt.xticks(rotation=80)\n",
        "plt.show()"
      ],
      "execution_count": null,
      "outputs": [
        {
          "output_type": "display_data",
          "data": {
            "image/png": "[encoded data removed]",
            "text/plain": [
              "<Figure size 1440x360 with 1 Axes>"
            ]
          },
          "metadata": {
            "tags": [],
            "needs_background": "light"
          }
        }
      ]
    },
    {
      "cell_type": "code",
      "metadata": {
        "id": "TyIN_nSG3giR",
        "colab": {
          "base_uri": "https://localhost:8080/",
          "height": 378
        },
        "outputId": "4b964115-2856-42b4-ca33-8c4cb726db62"
      },
      "source": [
        "# Aregamos en un diccionario cada Lemma y su frecuencia de aparición\n",
        "DicLemmas = {}\n",
        "DicLemmas2 = {}\n",
        "for Lemma in Lemmas:\n",
        "    if(DicLemmas.get(Lemma) == None):\n",
        "        DicLemmas.setdefault(Lemma, 1)\n",
        "    else:\n",
        "        DicLemmas[Lemma] += 1\n",
        "\n",
        "# Creamos un nuevo diccionario que conserve\n",
        "# solo los lemmas que aparecen más de 3 veces en el texto\n",
        "for Element in DicLemmas:\n",
        "    if(DicLemmas.get(Element) > 3):\n",
        "        DicLemmas2.setdefault(Element, DicLemmas.get(Element))\n",
        "      \n",
        "# Graficamos cada lemma contra la cantidad de veces que aparece\n",
        "plt.rcParams.update({'font.size': 16})\n",
        "plt.figure(figsize=(20,5))\n",
        "plt.bar(DicLemmas2.keys(), DicLemmas2.values(), color=['lightblue','steelblue','lightslategrey'])\n",
        "plt.axhline(sum(DicLemmas2.values())/len(DicLemmas2.values()), lw = 3, c='r', xmax=100)\n",
        "plt.title('Lemmas diferentes') \n",
        "plt.xticks(rotation=80)\n",
        "plt.show()"
      ],
      "execution_count": null,
      "outputs": [
        {
          "output_type": "display_data",
          "data": {
            "image/png": "[encoded data removed]",
            "text/plain": [
              "<Figure size 1440x360 with 1 Axes>"
            ]
          },
          "metadata": {
            "tags": [],
            "needs_background": "light"
          }
        }
      ]
    },
    {
      "cell_type": "code",
      "metadata": {
        "id": "wgAKcR7Z3Hyz"
      },
      "source": [
        "#Reto8"
      ],
      "execution_count": null,
      "outputs": []
    },
    {
      "cell_type": "code",
      "metadata": {
        "id": "5DBTlAtKkaJa"
      },
      "source": [
        "# Importación de la librería de SpaCy y displacy\n",
        "import spacy\n",
        "from spacy import displacy\n",
        "\n",
        "# Cargamos núcleo de trabajo (Español e Inglés)\n",
        "pln_es = spacy.load(\"es_core_news_sm\")\n",
        "pln_en = spacy.load(\"en_core_web_sm\")"
      ],
      "execution_count": null,
      "outputs": []
    },
    {
      "cell_type": "code",
      "metadata": {
        "id": "IoblzzQrlJWF",
        "colab": {
          "base_uri": "https://localhost:8080/"
        },
        "outputId": "8a75175a-1663-4ba7-c6c0-5f85c4ee2390"
      },
      "source": [
        "# Ejemplos de exracción automática de entidades y sus significados\n",
        "\n",
        "# MISC -->  Miscelaneo      [Miscellaneous entities, e.g. events, nationalities, products or works of art]\n",
        "# LOC  -->  Locación        [Non-GPE locations, mountain ranges, bodies of water]\n",
        "# ORG  -->  Organización    [Company's Name, Enterprise]\n",
        "# PER  -->  Nombre Persona  [Named person or family.]\n",
        "Ejemplos = [pln_es(u'Este año, nos vamos a mudar a la CDMX!'),\n",
        "            pln_es(u'Para más información, envíar un correo a la dirección actumlogo@gmail.com o visita la página http://www.sitiogenerico.com!'),\n",
        "            pln_es(u'Viaje de 5km hasta CDMX, Costos de viaje en Uber $125.50'),\n",
        "            pln_es(u'Vamos a visitar Edo. de Veracruz en M.X. el año que sigue'),\n",
        "            pln_es(u'Hola mundo, qué tal va todo en ActumLogos?')]\n",
        "\n",
        "for Ejemplo in Ejemplos:\n",
        "    for entity in Ejemplo.ents:\n",
        "        print(entity)\n",
        "        print(entity.label)\n",
        "        print(str(spacy.explain(entity.label)))\n",
        "        print('\\n')"
      ],
      "execution_count": null,
      "outputs": [
        {
          "output_type": "stream",
          "text": [
            "CDMX\n",
            "383\n",
            "None\n",
            "\n",
            "\n",
            "CDMX\n",
            "383\n",
            "None\n",
            "\n",
            "\n",
            "Costos de viaje en Uber\n",
            "7654241940133152407\n",
            "None\n",
            "\n",
            "\n",
            "Edo\n",
            "385\n",
            "None\n",
            "\n",
            "\n",
            "Veracruz\n",
            "385\n",
            "None\n",
            "\n",
            "\n",
            "M.X.\n",
            "385\n",
            "None\n",
            "\n",
            "\n",
            "ActumLogos\n",
            "7654241940133152407\n",
            "None\n",
            "\n",
            "\n"
          ],
          "name": "stdout"
        }
      ]
    },
    {
      "cell_type": "code",
      "metadata": {
        "id": "wbdcnncmDXhm",
        "colab": {
          "base_uri": "https://localhost:8080/",
          "height": 632
        },
        "outputId": "c399e20e-0b4c-4011-edc1-152cf2c9ac1c"
      },
      "source": [
        "# Texto 1\n",
        "Texto1 = pln_es(u\"Amazon.com, Inc. es una compañía estadounidense de comercio electrónico y servicios de computación en la nube a todos los niveles con sede en la ciudad estadounidense de Seattle, Estado de Washington. Su lema es: From A to Z (traducido al español: «De la A a la Z»). Fue una de las primeras grandes compañías en vender bienes a través de Internet. Amazon también posee Alexa Internet, Shopbop, Internet Movie Database (IMDb), Zappos.com, DPreview.com y Twitch1​ en Irlanda, Canadá, Australia, Alemania, Austria, Francia, China, Japón, Italia, España, Países Bajos, Brasil, India y México para poder ofrecer los productos de esos países. También Amazon está presente en otros países desde donde realiza funciones de soporte, como en Costa Rica, desde donde centraliza la atención al cliente de Latinoamérica y con 7500 empleados es una de las mayores empresas del país.2 En la actualidad está totalmente diversificada en diferentes líneas de productos, ofreciendo DVD, CD de música, software, videojuegos, electrónica, ropa, muebles, comida, libros, etc. Es la marca de venta al por menor más valiosa del mundo según el índice BrandZ.​\")\n",
        "displacy.render(Texto1, style = 'ent', jupyter = True, options={'distance':110})\n",
        "\n",
        "Text1 = pln_en(u\"Amazon.com, Inc. is an American e-commerce and cloud computing services company at all levels based in the US city of Seattle, Washington State. Its motto is: From A to Z. It was one of the first large companies to sell goods through the Internet. Amazon also has Alexa Internet, Shopbop, Internet Movie Database (IMDb), Zappos.com, DPreview.com and Twitch1 in Ireland, Canada, Australia, Germany, Austria, France, China, Japan, Italy, Spain, Netherlands, Brazil , India and Mexico to be able to offer the products of those countries. Amazon is also present in other countries from where it performs support functions, such as in Costa Rica, from where it centralizes customer service in Latin America and with 7500 employees is one of the largest companies in the country.2 It is currently fully diversified in different product lines, offering DVD, music CD, software, video games, electronics, clothing, furniture, food, books, etc. It is the most valuable retail brand in the world according to the BrandZ index.\")\n",
        "displacy.render(Text1, style = 'ent', jupyter = True, options={'distance':110})"
      ],
      "execution_count": null,
      "outputs": [
        {
          "output_type": "display_data",
          "data": {
            "text/html": [
              "<span class=\"tex2jax_ignore\"><div class=\"entities\" style=\"line-height: 2.5; direction: ltr\">\n",
              "<mark class=\"entity\" style=\"background: #7aecec; padding: 0.45em 0.6em; margin: 0 0.25em; line-height: 1; border-radius: 0.35em;\">\n",
              "    Amazon.com\n",
              "    <span style=\"font-size: 0.8em; font-weight: bold; line-height: 1; border-radius: 0.35em; text-transform: uppercase; vertical-align: middle; margin-left: 0.5rem\">ORG</span>\n",
              "</mark>\n",
              ", \n",
              "<mark class=\"entity\" style=\"background: #7aecec; padding: 0.45em 0.6em; margin: 0 0.25em; line-height: 1; border-radius: 0.35em;\">\n",
              "    Inc\n",
              "    <span style=\"font-size: 0.8em; font-weight: bold; line-height: 1; border-radius: 0.35em; text-transform: uppercase; vertical-align: middle; margin-left: 0.5rem\">ORG</span>\n",
              "</mark>\n",
              ". es una compañía estadounidense de comercio electrónico y servicios de computación en la nube a todos los niveles con sede en la ciudad estadounidense de \n",
              "<mark class=\"entity\" style=\"background: #ff9561; padding: 0.45em 0.6em; margin: 0 0.25em; line-height: 1; border-radius: 0.35em;\">\n",
              "    Seattle\n",
              "    <span style=\"font-size: 0.8em; font-weight: bold; line-height: 1; border-radius: 0.35em; text-transform: uppercase; vertical-align: middle; margin-left: 0.5rem\">LOC</span>\n",
              "</mark>\n",
              ", \n",
              "<mark class=\"entity\" style=\"background: #ff9561; padding: 0.45em 0.6em; margin: 0 0.25em; line-height: 1; border-radius: 0.35em;\">\n",
              "    Estado de Washington\n",
              "    <span style=\"font-size: 0.8em; font-weight: bold; line-height: 1; border-radius: 0.35em; text-transform: uppercase; vertical-align: middle; margin-left: 0.5rem\">LOC</span>\n",
              "</mark>\n",
              ". \n",
              "<mark class=\"entity\" style=\"background: #ddd; padding: 0.45em 0.6em; margin: 0 0.25em; line-height: 1; border-radius: 0.35em;\">\n",
              "    Su lema\n",
              "    <span style=\"font-size: 0.8em; font-weight: bold; line-height: 1; border-radius: 0.35em; text-transform: uppercase; vertical-align: middle; margin-left: 0.5rem\">MISC</span>\n",
              "</mark>\n",
              " es: \n",
              "<mark class=\"entity\" style=\"background: #ddd; padding: 0.45em 0.6em; margin: 0 0.25em; line-height: 1; border-radius: 0.35em;\">\n",
              "    From A to Z\n",
              "    <span style=\"font-size: 0.8em; font-weight: bold; line-height: 1; border-radius: 0.35em; text-transform: uppercase; vertical-align: middle; margin-left: 0.5rem\">MISC</span>\n",
              "</mark>\n",
              " (traducido al español: \n",
              "<mark class=\"entity\" style=\"background: #ddd; padding: 0.45em 0.6em; margin: 0 0.25em; line-height: 1; border-radius: 0.35em;\">\n",
              "    «De la A\n",
              "    <span style=\"font-size: 0.8em; font-weight: bold; line-height: 1; border-radius: 0.35em; text-transform: uppercase; vertical-align: middle; margin-left: 0.5rem\">MISC</span>\n",
              "</mark>\n",
              " a la \n",
              "<mark class=\"entity\" style=\"background: #ddd; padding: 0.45em 0.6em; margin: 0 0.25em; line-height: 1; border-radius: 0.35em;\">\n",
              "    Z»\n",
              "    <span style=\"font-size: 0.8em; font-weight: bold; line-height: 1; border-radius: 0.35em; text-transform: uppercase; vertical-align: middle; margin-left: 0.5rem\">MISC</span>\n",
              "</mark>\n",
              "). Fue una de las primeras grandes compañías en vender bienes a través de \n",
              "<mark class=\"entity\" style=\"background: #ddd; padding: 0.45em 0.6em; margin: 0 0.25em; line-height: 1; border-radius: 0.35em;\">\n",
              "    Internet\n",
              "    <span style=\"font-size: 0.8em; font-weight: bold; line-height: 1; border-radius: 0.35em; text-transform: uppercase; vertical-align: middle; margin-left: 0.5rem\">MISC</span>\n",
              "</mark>\n",
              ". \n",
              "<mark class=\"entity\" style=\"background: #ddd; padding: 0.45em 0.6em; margin: 0 0.25em; line-height: 1; border-radius: 0.35em;\">\n",
              "    Amazon\n",
              "    <span style=\"font-size: 0.8em; font-weight: bold; line-height: 1; border-radius: 0.35em; text-transform: uppercase; vertical-align: middle; margin-left: 0.5rem\">PER</span>\n",
              "</mark>\n",
              " también posee \n",
              "<mark class=\"entity\" style=\"background: #ddd; padding: 0.45em 0.6em; margin: 0 0.25em; line-height: 1; border-radius: 0.35em;\">\n",
              "    Alexa Internet\n",
              "    <span style=\"font-size: 0.8em; font-weight: bold; line-height: 1; border-radius: 0.35em; text-transform: uppercase; vertical-align: middle; margin-left: 0.5rem\">MISC</span>\n",
              "</mark>\n",
              ", \n",
              "<mark class=\"entity\" style=\"background: #ddd; padding: 0.45em 0.6em; margin: 0 0.25em; line-height: 1; border-radius: 0.35em;\">\n",
              "    Shopbop\n",
              "    <span style=\"font-size: 0.8em; font-weight: bold; line-height: 1; border-radius: 0.35em; text-transform: uppercase; vertical-align: middle; margin-left: 0.5rem\">MISC</span>\n",
              "</mark>\n",
              ", \n",
              "<mark class=\"entity\" style=\"background: #ddd; padding: 0.45em 0.6em; margin: 0 0.25em; line-height: 1; border-radius: 0.35em;\">\n",
              "    Internet Movie Database\n",
              "    <span style=\"font-size: 0.8em; font-weight: bold; line-height: 1; border-radius: 0.35em; text-transform: uppercase; vertical-align: middle; margin-left: 0.5rem\">MISC</span>\n",
              "</mark>\n",
              " (\n",
              "<mark class=\"entity\" style=\"background: #ddd; padding: 0.45em 0.6em; margin: 0 0.25em; line-height: 1; border-radius: 0.35em;\">\n",
              "    IMDb\n",
              "    <span style=\"font-size: 0.8em; font-weight: bold; line-height: 1; border-radius: 0.35em; text-transform: uppercase; vertical-align: middle; margin-left: 0.5rem\">MISC</span>\n",
              "</mark>\n",
              "), \n",
              "<mark class=\"entity\" style=\"background: #7aecec; padding: 0.45em 0.6em; margin: 0 0.25em; line-height: 1; border-radius: 0.35em;\">\n",
              "    Zappos.com\n",
              "    <span style=\"font-size: 0.8em; font-weight: bold; line-height: 1; border-radius: 0.35em; text-transform: uppercase; vertical-align: middle; margin-left: 0.5rem\">ORG</span>\n",
              "</mark>\n",
              ", DPreview.com y \n",
              "<mark class=\"entity\" style=\"background: #ff9561; padding: 0.45em 0.6em; margin: 0 0.25em; line-height: 1; border-radius: 0.35em;\">\n",
              "    Twitch1​\n",
              "    <span style=\"font-size: 0.8em; font-weight: bold; line-height: 1; border-radius: 0.35em; text-transform: uppercase; vertical-align: middle; margin-left: 0.5rem\">LOC</span>\n",
              "</mark>\n",
              " en \n",
              "<mark class=\"entity\" style=\"background: #ff9561; padding: 0.45em 0.6em; margin: 0 0.25em; line-height: 1; border-radius: 0.35em;\">\n",
              "    Irlanda\n",
              "    <span style=\"font-size: 0.8em; font-weight: bold; line-height: 1; border-radius: 0.35em; text-transform: uppercase; vertical-align: middle; margin-left: 0.5rem\">LOC</span>\n",
              "</mark>\n",
              ", \n",
              "<mark class=\"entity\" style=\"background: #ff9561; padding: 0.45em 0.6em; margin: 0 0.25em; line-height: 1; border-radius: 0.35em;\">\n",
              "    Canadá\n",
              "    <span style=\"font-size: 0.8em; font-weight: bold; line-height: 1; border-radius: 0.35em; text-transform: uppercase; vertical-align: middle; margin-left: 0.5rem\">LOC</span>\n",
              "</mark>\n",
              ", \n",
              "<mark class=\"entity\" style=\"background: #ff9561; padding: 0.45em 0.6em; margin: 0 0.25em; line-height: 1; border-radius: 0.35em;\">\n",
              "    Australia\n",
              "    <span style=\"font-size: 0.8em; font-weight: bold; line-height: 1; border-radius: 0.35em; text-transform: uppercase; vertical-align: middle; margin-left: 0.5rem\">LOC</span>\n",
              "</mark>\n",
              ", \n",
              "<mark class=\"entity\" style=\"background: #ff9561; padding: 0.45em 0.6em; margin: 0 0.25em; line-height: 1; border-radius: 0.35em;\">\n",
              "    Alemania\n",
              "    <span style=\"font-size: 0.8em; font-weight: bold; line-height: 1; border-radius: 0.35em; text-transform: uppercase; vertical-align: middle; margin-left: 0.5rem\">LOC</span>\n",
              "</mark>\n",
              ", \n",
              "<mark class=\"entity\" style=\"background: #ff9561; padding: 0.45em 0.6em; margin: 0 0.25em; line-height: 1; border-radius: 0.35em;\">\n",
              "    Austria\n",
              "    <span style=\"font-size: 0.8em; font-weight: bold; line-height: 1; border-radius: 0.35em; text-transform: uppercase; vertical-align: middle; margin-left: 0.5rem\">LOC</span>\n",
              "</mark>\n",
              ", \n",
              "<mark class=\"entity\" style=\"background: #ff9561; padding: 0.45em 0.6em; margin: 0 0.25em; line-height: 1; border-radius: 0.35em;\">\n",
              "    Francia\n",
              "    <span style=\"font-size: 0.8em; font-weight: bold; line-height: 1; border-radius: 0.35em; text-transform: uppercase; vertical-align: middle; margin-left: 0.5rem\">LOC</span>\n",
              "</mark>\n",
              ", \n",
              "<mark class=\"entity\" style=\"background: #ff9561; padding: 0.45em 0.6em; margin: 0 0.25em; line-height: 1; border-radius: 0.35em;\">\n",
              "    China\n",
              "    <span style=\"font-size: 0.8em; font-weight: bold; line-height: 1; border-radius: 0.35em; text-transform: uppercase; vertical-align: middle; margin-left: 0.5rem\">LOC</span>\n",
              "</mark>\n",
              ", \n",
              "<mark class=\"entity\" style=\"background: #ff9561; padding: 0.45em 0.6em; margin: 0 0.25em; line-height: 1; border-radius: 0.35em;\">\n",
              "    Japón\n",
              "    <span style=\"font-size: 0.8em; font-weight: bold; line-height: 1; border-radius: 0.35em; text-transform: uppercase; vertical-align: middle; margin-left: 0.5rem\">LOC</span>\n",
              "</mark>\n",
              ", \n",
              "<mark class=\"entity\" style=\"background: #ff9561; padding: 0.45em 0.6em; margin: 0 0.25em; line-height: 1; border-radius: 0.35em;\">\n",
              "    Italia\n",
              "    <span style=\"font-size: 0.8em; font-weight: bold; line-height: 1; border-radius: 0.35em; text-transform: uppercase; vertical-align: middle; margin-left: 0.5rem\">LOC</span>\n",
              "</mark>\n",
              ", \n",
              "<mark class=\"entity\" style=\"background: #ff9561; padding: 0.45em 0.6em; margin: 0 0.25em; line-height: 1; border-radius: 0.35em;\">\n",
              "    España\n",
              "    <span style=\"font-size: 0.8em; font-weight: bold; line-height: 1; border-radius: 0.35em; text-transform: uppercase; vertical-align: middle; margin-left: 0.5rem\">LOC</span>\n",
              "</mark>\n",
              ", \n",
              "<mark class=\"entity\" style=\"background: #ff9561; padding: 0.45em 0.6em; margin: 0 0.25em; line-height: 1; border-radius: 0.35em;\">\n",
              "    Países Bajos\n",
              "    <span style=\"font-size: 0.8em; font-weight: bold; line-height: 1; border-radius: 0.35em; text-transform: uppercase; vertical-align: middle; margin-left: 0.5rem\">LOC</span>\n",
              "</mark>\n",
              ", \n",
              "<mark class=\"entity\" style=\"background: #ff9561; padding: 0.45em 0.6em; margin: 0 0.25em; line-height: 1; border-radius: 0.35em;\">\n",
              "    Brasil\n",
              "    <span style=\"font-size: 0.8em; font-weight: bold; line-height: 1; border-radius: 0.35em; text-transform: uppercase; vertical-align: middle; margin-left: 0.5rem\">LOC</span>\n",
              "</mark>\n",
              ", \n",
              "<mark class=\"entity\" style=\"background: #ff9561; padding: 0.45em 0.6em; margin: 0 0.25em; line-height: 1; border-radius: 0.35em;\">\n",
              "    India\n",
              "    <span style=\"font-size: 0.8em; font-weight: bold; line-height: 1; border-radius: 0.35em; text-transform: uppercase; vertical-align: middle; margin-left: 0.5rem\">LOC</span>\n",
              "</mark>\n",
              " y \n",
              "<mark class=\"entity\" style=\"background: #ff9561; padding: 0.45em 0.6em; margin: 0 0.25em; line-height: 1; border-radius: 0.35em;\">\n",
              "    México\n",
              "    <span style=\"font-size: 0.8em; font-weight: bold; line-height: 1; border-radius: 0.35em; text-transform: uppercase; vertical-align: middle; margin-left: 0.5rem\">LOC</span>\n",
              "</mark>\n",
              " para poder ofrecer los productos de esos países. \n",
              "<mark class=\"entity\" style=\"background: #ff9561; padding: 0.45em 0.6em; margin: 0 0.25em; line-height: 1; border-radius: 0.35em;\">\n",
              "    También\n",
              "    <span style=\"font-size: 0.8em; font-weight: bold; line-height: 1; border-radius: 0.35em; text-transform: uppercase; vertical-align: middle; margin-left: 0.5rem\">LOC</span>\n",
              "</mark>\n",
              " \n",
              "<mark class=\"entity\" style=\"background: #ddd; padding: 0.45em 0.6em; margin: 0 0.25em; line-height: 1; border-radius: 0.35em;\">\n",
              "    Amazon\n",
              "    <span style=\"font-size: 0.8em; font-weight: bold; line-height: 1; border-radius: 0.35em; text-transform: uppercase; vertical-align: middle; margin-left: 0.5rem\">PER</span>\n",
              "</mark>\n",
              " está presente en otros países desde donde realiza funciones de soporte, como en \n",
              "<mark class=\"entity\" style=\"background: #ff9561; padding: 0.45em 0.6em; margin: 0 0.25em; line-height: 1; border-radius: 0.35em;\">\n",
              "    Costa Rica\n",
              "    <span style=\"font-size: 0.8em; font-weight: bold; line-height: 1; border-radius: 0.35em; text-transform: uppercase; vertical-align: middle; margin-left: 0.5rem\">LOC</span>\n",
              "</mark>\n",
              ", desde donde centraliza la atención al cliente de \n",
              "<mark class=\"entity\" style=\"background: #ff9561; padding: 0.45em 0.6em; margin: 0 0.25em; line-height: 1; border-radius: 0.35em;\">\n",
              "    Latinoamérica\n",
              "    <span style=\"font-size: 0.8em; font-weight: bold; line-height: 1; border-radius: 0.35em; text-transform: uppercase; vertical-align: middle; margin-left: 0.5rem\">LOC</span>\n",
              "</mark>\n",
              " y con 7500 empleados es una de las mayores empresas del país.2 En la actualidad está totalmente diversificada en diferentes líneas de productos, ofreciendo DVD, CD de música, software, videojuegos, electrónica, ropa, muebles, comida, libros, etc. Es la marca de venta al por menor más valiosa del mundo según el índice BrandZ.​</div></span>"
            ],
            "text/plain": [
              "<IPython.core.display.HTML object>"
            ]
          },
          "metadata": {
            "tags": []
          }
        },
        {
          "output_type": "display_data",
          "data": {
            "text/html": [
              "<span class=\"tex2jax_ignore\"><div class=\"entities\" style=\"line-height: 2.5; direction: ltr\">\n",
              "<mark class=\"entity\" style=\"background: #7aecec; padding: 0.45em 0.6em; margin: 0 0.25em; line-height: 1; border-radius: 0.35em;\">\n",
              "    Amazon.com, Inc.\n",
              "    <span style=\"font-size: 0.8em; font-weight: bold; line-height: 1; border-radius: 0.35em; text-transform: uppercase; vertical-align: middle; margin-left: 0.5rem\">ORG</span>\n",
              "</mark>\n",
              " is an \n",
              "<mark class=\"entity\" style=\"background: #c887fb; padding: 0.45em 0.6em; margin: 0 0.25em; line-height: 1; border-radius: 0.35em;\">\n",
              "    American\n",
              "    <span style=\"font-size: 0.8em; font-weight: bold; line-height: 1; border-radius: 0.35em; text-transform: uppercase; vertical-align: middle; margin-left: 0.5rem\">NORP</span>\n",
              "</mark>\n",
              " e-commerce and cloud computing services company at all levels based in the \n",
              "<mark class=\"entity\" style=\"background: #feca74; padding: 0.45em 0.6em; margin: 0 0.25em; line-height: 1; border-radius: 0.35em;\">\n",
              "    US\n",
              "    <span style=\"font-size: 0.8em; font-weight: bold; line-height: 1; border-radius: 0.35em; text-transform: uppercase; vertical-align: middle; margin-left: 0.5rem\">GPE</span>\n",
              "</mark>\n",
              " city of \n",
              "<mark class=\"entity\" style=\"background: #feca74; padding: 0.45em 0.6em; margin: 0 0.25em; line-height: 1; border-radius: 0.35em;\">\n",
              "    Seattle\n",
              "    <span style=\"font-size: 0.8em; font-weight: bold; line-height: 1; border-radius: 0.35em; text-transform: uppercase; vertical-align: middle; margin-left: 0.5rem\">GPE</span>\n",
              "</mark>\n",
              ", \n",
              "<mark class=\"entity\" style=\"background: #feca74; padding: 0.45em 0.6em; margin: 0 0.25em; line-height: 1; border-radius: 0.35em;\">\n",
              "    Washington State\n",
              "    <span style=\"font-size: 0.8em; font-weight: bold; line-height: 1; border-radius: 0.35em; text-transform: uppercase; vertical-align: middle; margin-left: 0.5rem\">GPE</span>\n",
              "</mark>\n",
              ". Its motto is: From A to Z. It was \n",
              "<mark class=\"entity\" style=\"background: #e4e7d2; padding: 0.45em 0.6em; margin: 0 0.25em; line-height: 1; border-radius: 0.35em;\">\n",
              "    one\n",
              "    <span style=\"font-size: 0.8em; font-weight: bold; line-height: 1; border-radius: 0.35em; text-transform: uppercase; vertical-align: middle; margin-left: 0.5rem\">CARDINAL</span>\n",
              "</mark>\n",
              " of the \n",
              "<mark class=\"entity\" style=\"background: #e4e7d2; padding: 0.45em 0.6em; margin: 0 0.25em; line-height: 1; border-radius: 0.35em;\">\n",
              "    first\n",
              "    <span style=\"font-size: 0.8em; font-weight: bold; line-height: 1; border-radius: 0.35em; text-transform: uppercase; vertical-align: middle; margin-left: 0.5rem\">ORDINAL</span>\n",
              "</mark>\n",
              " large companies to sell goods through the Internet. \n",
              "<mark class=\"entity\" style=\"background: #7aecec; padding: 0.45em 0.6em; margin: 0 0.25em; line-height: 1; border-radius: 0.35em;\">\n",
              "    Amazon\n",
              "    <span style=\"font-size: 0.8em; font-weight: bold; line-height: 1; border-radius: 0.35em; text-transform: uppercase; vertical-align: middle; margin-left: 0.5rem\">ORG</span>\n",
              "</mark>\n",
              " also has \n",
              "<mark class=\"entity\" style=\"background: #7aecec; padding: 0.45em 0.6em; margin: 0 0.25em; line-height: 1; border-radius: 0.35em;\">\n",
              "    Alexa\n",
              "    <span style=\"font-size: 0.8em; font-weight: bold; line-height: 1; border-radius: 0.35em; text-transform: uppercase; vertical-align: middle; margin-left: 0.5rem\">ORG</span>\n",
              "</mark>\n",
              " Internet, \n",
              "<mark class=\"entity\" style=\"background: #c887fb; padding: 0.45em 0.6em; margin: 0 0.25em; line-height: 1; border-radius: 0.35em;\">\n",
              "    Shopbop\n",
              "    <span style=\"font-size: 0.8em; font-weight: bold; line-height: 1; border-radius: 0.35em; text-transform: uppercase; vertical-align: middle; margin-left: 0.5rem\">NORP</span>\n",
              "</mark>\n",
              ", Internet Movie Database (IMDb), \n",
              "<mark class=\"entity\" style=\"background: #7aecec; padding: 0.45em 0.6em; margin: 0 0.25em; line-height: 1; border-radius: 0.35em;\">\n",
              "    Zappos.com\n",
              "    <span style=\"font-size: 0.8em; font-weight: bold; line-height: 1; border-radius: 0.35em; text-transform: uppercase; vertical-align: middle; margin-left: 0.5rem\">ORG</span>\n",
              "</mark>\n",
              ", DPreview.com and \n",
              "<mark class=\"entity\" style=\"background: #aa9cfc; padding: 0.45em 0.6em; margin: 0 0.25em; line-height: 1; border-radius: 0.35em;\">\n",
              "    Twitch1\n",
              "    <span style=\"font-size: 0.8em; font-weight: bold; line-height: 1; border-radius: 0.35em; text-transform: uppercase; vertical-align: middle; margin-left: 0.5rem\">PERSON</span>\n",
              "</mark>\n",
              " in \n",
              "<mark class=\"entity\" style=\"background: #feca74; padding: 0.45em 0.6em; margin: 0 0.25em; line-height: 1; border-radius: 0.35em;\">\n",
              "    Ireland\n",
              "    <span style=\"font-size: 0.8em; font-weight: bold; line-height: 1; border-radius: 0.35em; text-transform: uppercase; vertical-align: middle; margin-left: 0.5rem\">GPE</span>\n",
              "</mark>\n",
              ", \n",
              "<mark class=\"entity\" style=\"background: #feca74; padding: 0.45em 0.6em; margin: 0 0.25em; line-height: 1; border-radius: 0.35em;\">\n",
              "    Canada\n",
              "    <span style=\"font-size: 0.8em; font-weight: bold; line-height: 1; border-radius: 0.35em; text-transform: uppercase; vertical-align: middle; margin-left: 0.5rem\">GPE</span>\n",
              "</mark>\n",
              ", \n",
              "<mark class=\"entity\" style=\"background: #feca74; padding: 0.45em 0.6em; margin: 0 0.25em; line-height: 1; border-radius: 0.35em;\">\n",
              "    Australia\n",
              "    <span style=\"font-size: 0.8em; font-weight: bold; line-height: 1; border-radius: 0.35em; text-transform: uppercase; vertical-align: middle; margin-left: 0.5rem\">GPE</span>\n",
              "</mark>\n",
              ", \n",
              "<mark class=\"entity\" style=\"background: #feca74; padding: 0.45em 0.6em; margin: 0 0.25em; line-height: 1; border-radius: 0.35em;\">\n",
              "    Germany\n",
              "    <span style=\"font-size: 0.8em; font-weight: bold; line-height: 1; border-radius: 0.35em; text-transform: uppercase; vertical-align: middle; margin-left: 0.5rem\">GPE</span>\n",
              "</mark>\n",
              ", \n",
              "<mark class=\"entity\" style=\"background: #feca74; padding: 0.45em 0.6em; margin: 0 0.25em; line-height: 1; border-radius: 0.35em;\">\n",
              "    Austria\n",
              "    <span style=\"font-size: 0.8em; font-weight: bold; line-height: 1; border-radius: 0.35em; text-transform: uppercase; vertical-align: middle; margin-left: 0.5rem\">GPE</span>\n",
              "</mark>\n",
              ", \n",
              "<mark class=\"entity\" style=\"background: #feca74; padding: 0.45em 0.6em; margin: 0 0.25em; line-height: 1; border-radius: 0.35em;\">\n",
              "    France\n",
              "    <span style=\"font-size: 0.8em; font-weight: bold; line-height: 1; border-radius: 0.35em; text-transform: uppercase; vertical-align: middle; margin-left: 0.5rem\">GPE</span>\n",
              "</mark>\n",
              ", \n",
              "<mark class=\"entity\" style=\"background: #feca74; padding: 0.45em 0.6em; margin: 0 0.25em; line-height: 1; border-radius: 0.35em;\">\n",
              "    China\n",
              "    <span style=\"font-size: 0.8em; font-weight: bold; line-height: 1; border-radius: 0.35em; text-transform: uppercase; vertical-align: middle; margin-left: 0.5rem\">GPE</span>\n",
              "</mark>\n",
              ", \n",
              "<mark class=\"entity\" style=\"background: #feca74; padding: 0.45em 0.6em; margin: 0 0.25em; line-height: 1; border-radius: 0.35em;\">\n",
              "    Japan\n",
              "    <span style=\"font-size: 0.8em; font-weight: bold; line-height: 1; border-radius: 0.35em; text-transform: uppercase; vertical-align: middle; margin-left: 0.5rem\">GPE</span>\n",
              "</mark>\n",
              ", \n",
              "<mark class=\"entity\" style=\"background: #feca74; padding: 0.45em 0.6em; margin: 0 0.25em; line-height: 1; border-radius: 0.35em;\">\n",
              "    Italy\n",
              "    <span style=\"font-size: 0.8em; font-weight: bold; line-height: 1; border-radius: 0.35em; text-transform: uppercase; vertical-align: middle; margin-left: 0.5rem\">GPE</span>\n",
              "</mark>\n",
              ", \n",
              "<mark class=\"entity\" style=\"background: #feca74; padding: 0.45em 0.6em; margin: 0 0.25em; line-height: 1; border-radius: 0.35em;\">\n",
              "    Spain\n",
              "    <span style=\"font-size: 0.8em; font-weight: bold; line-height: 1; border-radius: 0.35em; text-transform: uppercase; vertical-align: middle; margin-left: 0.5rem\">GPE</span>\n",
              "</mark>\n",
              ", \n",
              "<mark class=\"entity\" style=\"background: #feca74; padding: 0.45em 0.6em; margin: 0 0.25em; line-height: 1; border-radius: 0.35em;\">\n",
              "    Netherlands\n",
              "    <span style=\"font-size: 0.8em; font-weight: bold; line-height: 1; border-radius: 0.35em; text-transform: uppercase; vertical-align: middle; margin-left: 0.5rem\">GPE</span>\n",
              "</mark>\n",
              ", \n",
              "<mark class=\"entity\" style=\"background: #feca74; padding: 0.45em 0.6em; margin: 0 0.25em; line-height: 1; border-radius: 0.35em;\">\n",
              "    Brazil\n",
              "    <span style=\"font-size: 0.8em; font-weight: bold; line-height: 1; border-radius: 0.35em; text-transform: uppercase; vertical-align: middle; margin-left: 0.5rem\">GPE</span>\n",
              "</mark>\n",
              " , \n",
              "<mark class=\"entity\" style=\"background: #feca74; padding: 0.45em 0.6em; margin: 0 0.25em; line-height: 1; border-radius: 0.35em;\">\n",
              "    India\n",
              "    <span style=\"font-size: 0.8em; font-weight: bold; line-height: 1; border-radius: 0.35em; text-transform: uppercase; vertical-align: middle; margin-left: 0.5rem\">GPE</span>\n",
              "</mark>\n",
              " and \n",
              "<mark class=\"entity\" style=\"background: #feca74; padding: 0.45em 0.6em; margin: 0 0.25em; line-height: 1; border-radius: 0.35em;\">\n",
              "    Mexico\n",
              "    <span style=\"font-size: 0.8em; font-weight: bold; line-height: 1; border-radius: 0.35em; text-transform: uppercase; vertical-align: middle; margin-left: 0.5rem\">GPE</span>\n",
              "</mark>\n",
              " to be able to offer the products of those countries. \n",
              "<mark class=\"entity\" style=\"background: #7aecec; padding: 0.45em 0.6em; margin: 0 0.25em; line-height: 1; border-radius: 0.35em;\">\n",
              "    Amazon\n",
              "    <span style=\"font-size: 0.8em; font-weight: bold; line-height: 1; border-radius: 0.35em; text-transform: uppercase; vertical-align: middle; margin-left: 0.5rem\">ORG</span>\n",
              "</mark>\n",
              " is also present in other countries from where it performs support functions, such as in \n",
              "<mark class=\"entity\" style=\"background: #feca74; padding: 0.45em 0.6em; margin: 0 0.25em; line-height: 1; border-radius: 0.35em;\">\n",
              "    Costa Rica\n",
              "    <span style=\"font-size: 0.8em; font-weight: bold; line-height: 1; border-radius: 0.35em; text-transform: uppercase; vertical-align: middle; margin-left: 0.5rem\">GPE</span>\n",
              "</mark>\n",
              ", from where it centralizes customer service in \n",
              "<mark class=\"entity\" style=\"background: #ff9561; padding: 0.45em 0.6em; margin: 0 0.25em; line-height: 1; border-radius: 0.35em;\">\n",
              "    Latin America\n",
              "    <span style=\"font-size: 0.8em; font-weight: bold; line-height: 1; border-radius: 0.35em; text-transform: uppercase; vertical-align: middle; margin-left: 0.5rem\">LOC</span>\n",
              "</mark>\n",
              " and with \n",
              "<mark class=\"entity\" style=\"background: #e4e7d2; padding: 0.45em 0.6em; margin: 0 0.25em; line-height: 1; border-radius: 0.35em;\">\n",
              "    7500\n",
              "    <span style=\"font-size: 0.8em; font-weight: bold; line-height: 1; border-radius: 0.35em; text-transform: uppercase; vertical-align: middle; margin-left: 0.5rem\">CARDINAL</span>\n",
              "</mark>\n",
              " employees is one of the largest companies in the country.2 It is currently fully diversified in different product lines, offering DVD, music CD, software, video games, electronics, clothing, furniture, food, books, etc. It is the most valuable retail brand in the world according to the \n",
              "<mark class=\"entity\" style=\"background: #7aecec; padding: 0.45em 0.6em; margin: 0 0.25em; line-height: 1; border-radius: 0.35em;\">\n",
              "    BrandZ\n",
              "    <span style=\"font-size: 0.8em; font-weight: bold; line-height: 1; border-radius: 0.35em; text-transform: uppercase; vertical-align: middle; margin-left: 0.5rem\">ORG</span>\n",
              "</mark>\n",
              " index.</div></span>"
            ],
            "text/plain": [
              "<IPython.core.display.HTML object>"
            ]
          },
          "metadata": {
            "tags": []
          }
        }
      ]
    },
    {
      "cell_type": "code",
      "metadata": {
        "id": "19pyO8vzlNuk",
        "colab": {
          "base_uri": "https://localhost:8080/",
          "height": 472
        },
        "outputId": "6f2500c8-8d74-42d0-e36e-26bb3e42aff6"
      },
      "source": [
        "# Texto 2\n",
        "Texto2 = pln_es(u\"Alexa es un asistente virtual desarrollado por Amazon, utilizado por primera vez en los altavoces inteligentes Amazon Echo. Puede responder preguntas, reproducir música de servicios como Spotify, Apple Music, TuneIn y Amazon Music, crear listas de comprobación, establecer alarmas o temporizadores, reproducir podcasts y audiolibros, controlar dispositivos inteligentes, proveer información en tiempo real del clima, tráfico y brindar resúmenes de noticias, entre otros. Actualmente, Alexa está disponible en inglés, alemán, japonés, francés, italiano y español. Alexa puede controlar varios dispositivos inteligentes que sean compatibles con este sistema, como focos, interfonos, cámaras de videovigilancia e interruptores inteligentes. Los usuarios pueden extender las habilidades de Alexa instalando skills (funcionalidades adicionales desarrolladas por terceros parecidas a las aplicaciones) desde la app Alexa, también pueden crear rutinas para automatizar sus dispositivos inteligentes con base a un comando de voz, hora o ubicación.\")\n",
        "displacy.render(Texto2, style = 'ent', jupyter = True, options={'distance':110})\n",
        "\n",
        "Text2 = pln_en(u\"Alexa is a virtual assistant developed by Amazon, first used on Amazon Echo smart speakers. You can answer questions, play music from services such as Spotify, Apple Music, TuneIn and Amazon Music, create checklists, set alarms or timers, play podcasts and audiobooks, control smart devices, provide real-time weather, traffic and summarize information of news, among others. Alexa is currently available in English, German, Japanese, French, Italian and Spanish. Alexa can control several smart devices that are compatible with this system, such as spotlights, intercoms, video surveillance cameras and smart switches. Users can extend Alexa skills by installing skills (additional features developed by application-like third parties) from the Alexa app, they can also create routines to automate their smart devices based on a voice command, time or location.\")\n",
        "displacy.render(Text2, style = 'ent', jupyter = True, options={'distance':110})"
      ],
      "execution_count": null,
      "outputs": [
        {
          "output_type": "display_data",
          "data": {
            "text/html": [
              "<span class=\"tex2jax_ignore\"><div class=\"entities\" style=\"line-height: 2.5; direction: ltr\">Alexa es un asistente virtual desarrollado por \n",
              "<mark class=\"entity\" style=\"background: #ddd; padding: 0.45em 0.6em; margin: 0 0.25em; line-height: 1; border-radius: 0.35em;\">\n",
              "    Amazon\n",
              "    <span style=\"font-size: 0.8em; font-weight: bold; line-height: 1; border-radius: 0.35em; text-transform: uppercase; vertical-align: middle; margin-left: 0.5rem\">PER</span>\n",
              "</mark>\n",
              ", utilizado por primera vez en los altavoces inteligentes \n",
              "<mark class=\"entity\" style=\"background: #ddd; padding: 0.45em 0.6em; margin: 0 0.25em; line-height: 1; border-radius: 0.35em;\">\n",
              "    Amazon Echo\n",
              "    <span style=\"font-size: 0.8em; font-weight: bold; line-height: 1; border-radius: 0.35em; text-transform: uppercase; vertical-align: middle; margin-left: 0.5rem\">PER</span>\n",
              "</mark>\n",
              ". Puede responder preguntas, reproducir música de servicios como \n",
              "<mark class=\"entity\" style=\"background: #ddd; padding: 0.45em 0.6em; margin: 0 0.25em; line-height: 1; border-radius: 0.35em;\">\n",
              "    Spotify\n",
              "    <span style=\"font-size: 0.8em; font-weight: bold; line-height: 1; border-radius: 0.35em; text-transform: uppercase; vertical-align: middle; margin-left: 0.5rem\">MISC</span>\n",
              "</mark>\n",
              ", \n",
              "<mark class=\"entity\" style=\"background: #7aecec; padding: 0.45em 0.6em; margin: 0 0.25em; line-height: 1; border-radius: 0.35em;\">\n",
              "    Apple Music\n",
              "    <span style=\"font-size: 0.8em; font-weight: bold; line-height: 1; border-radius: 0.35em; text-transform: uppercase; vertical-align: middle; margin-left: 0.5rem\">ORG</span>\n",
              "</mark>\n",
              ", \n",
              "<mark class=\"entity\" style=\"background: #7aecec; padding: 0.45em 0.6em; margin: 0 0.25em; line-height: 1; border-radius: 0.35em;\">\n",
              "    TuneIn\n",
              "    <span style=\"font-size: 0.8em; font-weight: bold; line-height: 1; border-radius: 0.35em; text-transform: uppercase; vertical-align: middle; margin-left: 0.5rem\">ORG</span>\n",
              "</mark>\n",
              " y \n",
              "<mark class=\"entity\" style=\"background: #7aecec; padding: 0.45em 0.6em; margin: 0 0.25em; line-height: 1; border-radius: 0.35em;\">\n",
              "    Amazon Music\n",
              "    <span style=\"font-size: 0.8em; font-weight: bold; line-height: 1; border-radius: 0.35em; text-transform: uppercase; vertical-align: middle; margin-left: 0.5rem\">ORG</span>\n",
              "</mark>\n",
              ", crear listas de comprobación, establecer alarmas o temporizadores, reproducir podcasts y audiolibros, controlar dispositivos inteligentes, proveer información en tiempo real del clima, tráfico y brindar resúmenes de noticias, entre otros. Actualmente, Alexa está disponible en inglés, alemán, japonés, francés, italiano y español. \n",
              "<mark class=\"entity\" style=\"background: #ddd; padding: 0.45em 0.6em; margin: 0 0.25em; line-height: 1; border-radius: 0.35em;\">\n",
              "    Alexa\n",
              "    <span style=\"font-size: 0.8em; font-weight: bold; line-height: 1; border-radius: 0.35em; text-transform: uppercase; vertical-align: middle; margin-left: 0.5rem\">MISC</span>\n",
              "</mark>\n",
              " puede controlar varios dispositivos inteligentes que sean compatibles con este sistema, como focos, interfonos, cámaras de videovigilancia e interruptores inteligentes. \n",
              "<mark class=\"entity\" style=\"background: #ddd; padding: 0.45em 0.6em; margin: 0 0.25em; line-height: 1; border-radius: 0.35em;\">\n",
              "    Los usuarios pueden\n",
              "    <span style=\"font-size: 0.8em; font-weight: bold; line-height: 1; border-radius: 0.35em; text-transform: uppercase; vertical-align: middle; margin-left: 0.5rem\">MISC</span>\n",
              "</mark>\n",
              " extender las habilidades de \n",
              "<mark class=\"entity\" style=\"background: #ddd; padding: 0.45em 0.6em; margin: 0 0.25em; line-height: 1; border-radius: 0.35em;\">\n",
              "    Alexa instalando skills\n",
              "    <span style=\"font-size: 0.8em; font-weight: bold; line-height: 1; border-radius: 0.35em; text-transform: uppercase; vertical-align: middle; margin-left: 0.5rem\">MISC</span>\n",
              "</mark>\n",
              " (funcionalidades adicionales desarrolladas por terceros parecidas a las aplicaciones) desde la \n",
              "<mark class=\"entity\" style=\"background: #ddd; padding: 0.45em 0.6em; margin: 0 0.25em; line-height: 1; border-radius: 0.35em;\">\n",
              "    app Alexa\n",
              "    <span style=\"font-size: 0.8em; font-weight: bold; line-height: 1; border-radius: 0.35em; text-transform: uppercase; vertical-align: middle; margin-left: 0.5rem\">PER</span>\n",
              "</mark>\n",
              ", también pueden crear rutinas para automatizar sus dispositivos inteligentes con base a un comando de voz, hora o ubicación.</div></span>"
            ],
            "text/plain": [
              "<IPython.core.display.HTML object>"
            ]
          },
          "metadata": {
            "tags": []
          }
        },
        {
          "output_type": "display_data",
          "data": {
            "text/html": [
              "<span class=\"tex2jax_ignore\"><div class=\"entities\" style=\"line-height: 2.5; direction: ltr\">\n",
              "<mark class=\"entity\" style=\"background: #7aecec; padding: 0.45em 0.6em; margin: 0 0.25em; line-height: 1; border-radius: 0.35em;\">\n",
              "    Alexa\n",
              "    <span style=\"font-size: 0.8em; font-weight: bold; line-height: 1; border-radius: 0.35em; text-transform: uppercase; vertical-align: middle; margin-left: 0.5rem\">ORG</span>\n",
              "</mark>\n",
              " is a virtual assistant developed by \n",
              "<mark class=\"entity\" style=\"background: #7aecec; padding: 0.45em 0.6em; margin: 0 0.25em; line-height: 1; border-radius: 0.35em;\">\n",
              "    Amazon\n",
              "    <span style=\"font-size: 0.8em; font-weight: bold; line-height: 1; border-radius: 0.35em; text-transform: uppercase; vertical-align: middle; margin-left: 0.5rem\">ORG</span>\n",
              "</mark>\n",
              ", \n",
              "<mark class=\"entity\" style=\"background: #e4e7d2; padding: 0.45em 0.6em; margin: 0 0.25em; line-height: 1; border-radius: 0.35em;\">\n",
              "    first\n",
              "    <span style=\"font-size: 0.8em; font-weight: bold; line-height: 1; border-radius: 0.35em; text-transform: uppercase; vertical-align: middle; margin-left: 0.5rem\">ORDINAL</span>\n",
              "</mark>\n",
              " used on \n",
              "<mark class=\"entity\" style=\"background: #7aecec; padding: 0.45em 0.6em; margin: 0 0.25em; line-height: 1; border-radius: 0.35em;\">\n",
              "    Amazon Echo\n",
              "    <span style=\"font-size: 0.8em; font-weight: bold; line-height: 1; border-radius: 0.35em; text-transform: uppercase; vertical-align: middle; margin-left: 0.5rem\">ORG</span>\n",
              "</mark>\n",
              " smart speakers. You can answer questions, play music from services such as Spotify, \n",
              "<mark class=\"entity\" style=\"background: #7aecec; padding: 0.45em 0.6em; margin: 0 0.25em; line-height: 1; border-radius: 0.35em;\">\n",
              "    Apple Music\n",
              "    <span style=\"font-size: 0.8em; font-weight: bold; line-height: 1; border-radius: 0.35em; text-transform: uppercase; vertical-align: middle; margin-left: 0.5rem\">ORG</span>\n",
              "</mark>\n",
              ", \n",
              "<mark class=\"entity\" style=\"background: #e4e7d2; padding: 0.45em 0.6em; margin: 0 0.25em; line-height: 1; border-radius: 0.35em;\">\n",
              "    TuneIn\n",
              "    <span style=\"font-size: 0.8em; font-weight: bold; line-height: 1; border-radius: 0.35em; text-transform: uppercase; vertical-align: middle; margin-left: 0.5rem\">CARDINAL</span>\n",
              "</mark>\n",
              " and \n",
              "<mark class=\"entity\" style=\"background: #7aecec; padding: 0.45em 0.6em; margin: 0 0.25em; line-height: 1; border-radius: 0.35em;\">\n",
              "    Amazon Music\n",
              "    <span style=\"font-size: 0.8em; font-weight: bold; line-height: 1; border-radius: 0.35em; text-transform: uppercase; vertical-align: middle; margin-left: 0.5rem\">ORG</span>\n",
              "</mark>\n",
              ", create checklists, set alarms or timers, play podcasts and audiobooks, control smart devices, provide real-time weather, traffic and summarize information of news, among others. \n",
              "<mark class=\"entity\" style=\"background: #7aecec; padding: 0.45em 0.6em; margin: 0 0.25em; line-height: 1; border-radius: 0.35em;\">\n",
              "    Alexa\n",
              "    <span style=\"font-size: 0.8em; font-weight: bold; line-height: 1; border-radius: 0.35em; text-transform: uppercase; vertical-align: middle; margin-left: 0.5rem\">ORG</span>\n",
              "</mark>\n",
              " is currently available in \n",
              "<mark class=\"entity\" style=\"background: #ff8197; padding: 0.45em 0.6em; margin: 0 0.25em; line-height: 1; border-radius: 0.35em;\">\n",
              "    English\n",
              "    <span style=\"font-size: 0.8em; font-weight: bold; line-height: 1; border-radius: 0.35em; text-transform: uppercase; vertical-align: middle; margin-left: 0.5rem\">LANGUAGE</span>\n",
              "</mark>\n",
              ", \n",
              "<mark class=\"entity\" style=\"background: #c887fb; padding: 0.45em 0.6em; margin: 0 0.25em; line-height: 1; border-radius: 0.35em;\">\n",
              "    German\n",
              "    <span style=\"font-size: 0.8em; font-weight: bold; line-height: 1; border-radius: 0.35em; text-transform: uppercase; vertical-align: middle; margin-left: 0.5rem\">NORP</span>\n",
              "</mark>\n",
              ", \n",
              "<mark class=\"entity\" style=\"background: #c887fb; padding: 0.45em 0.6em; margin: 0 0.25em; line-height: 1; border-radius: 0.35em;\">\n",
              "    Japanese\n",
              "    <span style=\"font-size: 0.8em; font-weight: bold; line-height: 1; border-radius: 0.35em; text-transform: uppercase; vertical-align: middle; margin-left: 0.5rem\">NORP</span>\n",
              "</mark>\n",
              ", \n",
              "<mark class=\"entity\" style=\"background: #c887fb; padding: 0.45em 0.6em; margin: 0 0.25em; line-height: 1; border-radius: 0.35em;\">\n",
              "    French\n",
              "    <span style=\"font-size: 0.8em; font-weight: bold; line-height: 1; border-radius: 0.35em; text-transform: uppercase; vertical-align: middle; margin-left: 0.5rem\">NORP</span>\n",
              "</mark>\n",
              ", \n",
              "<mark class=\"entity\" style=\"background: #c887fb; padding: 0.45em 0.6em; margin: 0 0.25em; line-height: 1; border-radius: 0.35em;\">\n",
              "    Italian\n",
              "    <span style=\"font-size: 0.8em; font-weight: bold; line-height: 1; border-radius: 0.35em; text-transform: uppercase; vertical-align: middle; margin-left: 0.5rem\">NORP</span>\n",
              "</mark>\n",
              " and \n",
              "<mark class=\"entity\" style=\"background: #ff8197; padding: 0.45em 0.6em; margin: 0 0.25em; line-height: 1; border-radius: 0.35em;\">\n",
              "    Spanish\n",
              "    <span style=\"font-size: 0.8em; font-weight: bold; line-height: 1; border-radius: 0.35em; text-transform: uppercase; vertical-align: middle; margin-left: 0.5rem\">LANGUAGE</span>\n",
              "</mark>\n",
              ". \n",
              "<mark class=\"entity\" style=\"background: #7aecec; padding: 0.45em 0.6em; margin: 0 0.25em; line-height: 1; border-radius: 0.35em;\">\n",
              "    Alexa\n",
              "    <span style=\"font-size: 0.8em; font-weight: bold; line-height: 1; border-radius: 0.35em; text-transform: uppercase; vertical-align: middle; margin-left: 0.5rem\">ORG</span>\n",
              "</mark>\n",
              " can control several smart devices that are compatible with this system, such as spotlights, intercoms, video surveillance cameras and smart switches. Users can extend \n",
              "<mark class=\"entity\" style=\"background: #7aecec; padding: 0.45em 0.6em; margin: 0 0.25em; line-height: 1; border-radius: 0.35em;\">\n",
              "    Alexa\n",
              "    <span style=\"font-size: 0.8em; font-weight: bold; line-height: 1; border-radius: 0.35em; text-transform: uppercase; vertical-align: middle; margin-left: 0.5rem\">ORG</span>\n",
              "</mark>\n",
              " skills by installing skills (additional features developed by application-like \n",
              "<mark class=\"entity\" style=\"background: #e4e7d2; padding: 0.45em 0.6em; margin: 0 0.25em; line-height: 1; border-radius: 0.35em;\">\n",
              "    third\n",
              "    <span style=\"font-size: 0.8em; font-weight: bold; line-height: 1; border-radius: 0.35em; text-transform: uppercase; vertical-align: middle; margin-left: 0.5rem\">ORDINAL</span>\n",
              "</mark>\n",
              " parties) from the \n",
              "<mark class=\"entity\" style=\"background: #7aecec; padding: 0.45em 0.6em; margin: 0 0.25em; line-height: 1; border-radius: 0.35em;\">\n",
              "    Alexa\n",
              "    <span style=\"font-size: 0.8em; font-weight: bold; line-height: 1; border-radius: 0.35em; text-transform: uppercase; vertical-align: middle; margin-left: 0.5rem\">ORG</span>\n",
              "</mark>\n",
              " app, they can also create routines to automate their smart devices based on a voice command, time or location.</div></span>"
            ],
            "text/plain": [
              "<IPython.core.display.HTML object>"
            ]
          },
          "metadata": {
            "tags": []
          }
        }
      ]
    },
    {
      "cell_type": "code",
      "metadata": {
        "id": "aZubmNwjlSOg",
        "colab": {
          "base_uri": "https://localhost:8080/",
          "height": 542
        },
        "outputId": "7c6f4c07-49dd-4113-ffa0-26b08ce1323c"
      },
      "source": [
        "# Texto 3\n",
        "Texto3 = pln_es(u\"Amazon Echo (abreviado a Echo y conocido coloquialmente como Alexa) es una marca de altavoces inteligentes desarrollados por Amazon. Los dispositivos Echo se conectan al servicio de asistente personal inteligente controlado por voz Alexa, que responde a los nombres Alexa, Echo o Computer. Los usuarios pueden cambiar esta palabra de inicio a Amazon, Echo o Computer. Las características del dispositivo incluyen: interacción de voz, reproducción de música, hacer listas de tareas, configurar alarmas, transmitir podcasts y reproducir audiolibros, además de proporcionar información meteorológica, de tráfico y otra información en tiempo real. También puede controlar varios dispositivos inteligentes, actuando como un centro de automatización del hogar. Según informes confirmados, Amazon comenzó a desarrollar dispositivos Echo dentro de sus oficinas Lab126 en Silicon Valley y en Cambridge, Massachusetts, ya en 2010. El dispositivo representó uno de los primeros intentos de Amazon de expandir su cartera de dispositivos más allá del lector electrónico Kindle. The Echo apareció de manera prominente en el primer anuncio televisivo de transmisión del Super Bowl de Amazon en 2016.\")\n",
        "displacy.render(Texto3, style = 'ent', jupyter = True, options={'distance':110})\n",
        "\n",
        "Text3 = pln_en(u\"Amazon Echo (shortened to Echo and known colloquially as Alexa) is a brand of smart speakers developed by Amazon. Echo devices connect to the voice-controlled intelligent personal assistant service Alexa, which responds to the names Alexa, Echo, or Computer. Users may change this wake word to Amazon, Echo or Computer. The features of the device include: voice interaction, music playback, making to-do lists, setting alarms, streaming podcasts, and playing audiobooks, in addition to providing weather, traffic and other real-time information. It can also control several smart devices, acting as a home automation hub. According to confirmed reports, Amazon started developing Echo devices inside its Lab126 offices in Silicon Valley and in Cambridge, Massachusetts as early as 2010. The device represented one of Amazon's first attempts to expand its device portfolio beyond the Kindle e-reader. The Echo featured prominently in Amazon's first-ever Super Bowl broadcast television advertisement in 2016.\")\n",
        "displacy.render(Text3, style = 'ent', jupyter = True, options={'distance':110})"
      ],
      "execution_count": null,
      "outputs": [
        {
          "output_type": "display_data",
          "data": {
            "text/html": [
              "<span class=\"tex2jax_ignore\"><div class=\"entities\" style=\"line-height: 2.5; direction: ltr\">\n",
              "<mark class=\"entity\" style=\"background: #ddd; padding: 0.45em 0.6em; margin: 0 0.25em; line-height: 1; border-radius: 0.35em;\">\n",
              "    Amazon Echo\n",
              "    <span style=\"font-size: 0.8em; font-weight: bold; line-height: 1; border-radius: 0.35em; text-transform: uppercase; vertical-align: middle; margin-left: 0.5rem\">PER</span>\n",
              "</mark>\n",
              " (abreviado a \n",
              "<mark class=\"entity\" style=\"background: #ddd; padding: 0.45em 0.6em; margin: 0 0.25em; line-height: 1; border-radius: 0.35em;\">\n",
              "    Echo\n",
              "    <span style=\"font-size: 0.8em; font-weight: bold; line-height: 1; border-radius: 0.35em; text-transform: uppercase; vertical-align: middle; margin-left: 0.5rem\">PER</span>\n",
              "</mark>\n",
              " y conocido coloquialmente como \n",
              "<mark class=\"entity\" style=\"background: #ddd; padding: 0.45em 0.6em; margin: 0 0.25em; line-height: 1; border-radius: 0.35em;\">\n",
              "    Alexa\n",
              "    <span style=\"font-size: 0.8em; font-weight: bold; line-height: 1; border-radius: 0.35em; text-transform: uppercase; vertical-align: middle; margin-left: 0.5rem\">PER</span>\n",
              "</mark>\n",
              ") es una marca de altavoces inteligentes desarrollados por \n",
              "<mark class=\"entity\" style=\"background: #ddd; padding: 0.45em 0.6em; margin: 0 0.25em; line-height: 1; border-radius: 0.35em;\">\n",
              "    Amazon\n",
              "    <span style=\"font-size: 0.8em; font-weight: bold; line-height: 1; border-radius: 0.35em; text-transform: uppercase; vertical-align: middle; margin-left: 0.5rem\">PER</span>\n",
              "</mark>\n",
              ". \n",
              "<mark class=\"entity\" style=\"background: #ddd; padding: 0.45em 0.6em; margin: 0 0.25em; line-height: 1; border-radius: 0.35em;\">\n",
              "    Los dispositivos Echo\n",
              "    <span style=\"font-size: 0.8em; font-weight: bold; line-height: 1; border-radius: 0.35em; text-transform: uppercase; vertical-align: middle; margin-left: 0.5rem\">MISC</span>\n",
              "</mark>\n",
              " se conectan al servicio de asistente personal inteligente controlado por voz \n",
              "<mark class=\"entity\" style=\"background: #ddd; padding: 0.45em 0.6em; margin: 0 0.25em; line-height: 1; border-radius: 0.35em;\">\n",
              "    Alexa\n",
              "    <span style=\"font-size: 0.8em; font-weight: bold; line-height: 1; border-radius: 0.35em; text-transform: uppercase; vertical-align: middle; margin-left: 0.5rem\">PER</span>\n",
              "</mark>\n",
              ", que responde a los nombres \n",
              "<mark class=\"entity\" style=\"background: #ddd; padding: 0.45em 0.6em; margin: 0 0.25em; line-height: 1; border-radius: 0.35em;\">\n",
              "    Alexa\n",
              "    <span style=\"font-size: 0.8em; font-weight: bold; line-height: 1; border-radius: 0.35em; text-transform: uppercase; vertical-align: middle; margin-left: 0.5rem\">PER</span>\n",
              "</mark>\n",
              ", \n",
              "<mark class=\"entity\" style=\"background: #ff9561; padding: 0.45em 0.6em; margin: 0 0.25em; line-height: 1; border-radius: 0.35em;\">\n",
              "    Echo\n",
              "    <span style=\"font-size: 0.8em; font-weight: bold; line-height: 1; border-radius: 0.35em; text-transform: uppercase; vertical-align: middle; margin-left: 0.5rem\">LOC</span>\n",
              "</mark>\n",
              " o \n",
              "<mark class=\"entity\" style=\"background: #ff9561; padding: 0.45em 0.6em; margin: 0 0.25em; line-height: 1; border-radius: 0.35em;\">\n",
              "    Computer\n",
              "    <span style=\"font-size: 0.8em; font-weight: bold; line-height: 1; border-radius: 0.35em; text-transform: uppercase; vertical-align: middle; margin-left: 0.5rem\">LOC</span>\n",
              "</mark>\n",
              ". Los usuarios pueden cambiar esta palabra de inicio a \n",
              "<mark class=\"entity\" style=\"background: #ff9561; padding: 0.45em 0.6em; margin: 0 0.25em; line-height: 1; border-radius: 0.35em;\">\n",
              "    Amazon\n",
              "    <span style=\"font-size: 0.8em; font-weight: bold; line-height: 1; border-radius: 0.35em; text-transform: uppercase; vertical-align: middle; margin-left: 0.5rem\">LOC</span>\n",
              "</mark>\n",
              ", \n",
              "<mark class=\"entity\" style=\"background: #ff9561; padding: 0.45em 0.6em; margin: 0 0.25em; line-height: 1; border-radius: 0.35em;\">\n",
              "    Echo\n",
              "    <span style=\"font-size: 0.8em; font-weight: bold; line-height: 1; border-radius: 0.35em; text-transform: uppercase; vertical-align: middle; margin-left: 0.5rem\">LOC</span>\n",
              "</mark>\n",
              " o \n",
              "<mark class=\"entity\" style=\"background: #ff9561; padding: 0.45em 0.6em; margin: 0 0.25em; line-height: 1; border-radius: 0.35em;\">\n",
              "    Computer\n",
              "    <span style=\"font-size: 0.8em; font-weight: bold; line-height: 1; border-radius: 0.35em; text-transform: uppercase; vertical-align: middle; margin-left: 0.5rem\">LOC</span>\n",
              "</mark>\n",
              ". Las características del dispositivo incluyen: interacción de voz, reproducción de música, hacer listas de tareas, configurar alarmas, transmitir podcasts y reproducir audiolibros, además de proporcionar información meteorológica, de tráfico y otra información en tiempo real. \n",
              "<mark class=\"entity\" style=\"background: #ff9561; padding: 0.45em 0.6em; margin: 0 0.25em; line-height: 1; border-radius: 0.35em;\">\n",
              "    También\n",
              "    <span style=\"font-size: 0.8em; font-weight: bold; line-height: 1; border-radius: 0.35em; text-transform: uppercase; vertical-align: middle; margin-left: 0.5rem\">LOC</span>\n",
              "</mark>\n",
              " puede controlar varios dispositivos inteligentes, actuando como un centro de automatización del hogar. \n",
              "<mark class=\"entity\" style=\"background: #ddd; padding: 0.45em 0.6em; margin: 0 0.25em; line-height: 1; border-radius: 0.35em;\">\n",
              "    Según\n",
              "    <span style=\"font-size: 0.8em; font-weight: bold; line-height: 1; border-radius: 0.35em; text-transform: uppercase; vertical-align: middle; margin-left: 0.5rem\">PER</span>\n",
              "</mark>\n",
              " informes confirmados, \n",
              "<mark class=\"entity\" style=\"background: #ddd; padding: 0.45em 0.6em; margin: 0 0.25em; line-height: 1; border-radius: 0.35em;\">\n",
              "    Amazon\n",
              "    <span style=\"font-size: 0.8em; font-weight: bold; line-height: 1; border-radius: 0.35em; text-transform: uppercase; vertical-align: middle; margin-left: 0.5rem\">PER</span>\n",
              "</mark>\n",
              " comenzó a desarrollar dispositivos \n",
              "<mark class=\"entity\" style=\"background: #ddd; padding: 0.45em 0.6em; margin: 0 0.25em; line-height: 1; border-radius: 0.35em;\">\n",
              "    Echo dentro de sus oficinas Lab126 en Silicon Valley\n",
              "    <span style=\"font-size: 0.8em; font-weight: bold; line-height: 1; border-radius: 0.35em; text-transform: uppercase; vertical-align: middle; margin-left: 0.5rem\">MISC</span>\n",
              "</mark>\n",
              " y en \n",
              "<mark class=\"entity\" style=\"background: #ff9561; padding: 0.45em 0.6em; margin: 0 0.25em; line-height: 1; border-radius: 0.35em;\">\n",
              "    Cambridge\n",
              "    <span style=\"font-size: 0.8em; font-weight: bold; line-height: 1; border-radius: 0.35em; text-transform: uppercase; vertical-align: middle; margin-left: 0.5rem\">LOC</span>\n",
              "</mark>\n",
              ", \n",
              "<mark class=\"entity\" style=\"background: #ff9561; padding: 0.45em 0.6em; margin: 0 0.25em; line-height: 1; border-radius: 0.35em;\">\n",
              "    Massachusetts\n",
              "    <span style=\"font-size: 0.8em; font-weight: bold; line-height: 1; border-radius: 0.35em; text-transform: uppercase; vertical-align: middle; margin-left: 0.5rem\">LOC</span>\n",
              "</mark>\n",
              ", ya en 2010. \n",
              "<mark class=\"entity\" style=\"background: #ddd; padding: 0.45em 0.6em; margin: 0 0.25em; line-height: 1; border-radius: 0.35em;\">\n",
              "    El dispositivo representó\n",
              "    <span style=\"font-size: 0.8em; font-weight: bold; line-height: 1; border-radius: 0.35em; text-transform: uppercase; vertical-align: middle; margin-left: 0.5rem\">MISC</span>\n",
              "</mark>\n",
              " uno de los primeros intentos de \n",
              "<mark class=\"entity\" style=\"background: #ddd; padding: 0.45em 0.6em; margin: 0 0.25em; line-height: 1; border-radius: 0.35em;\">\n",
              "    Amazon\n",
              "    <span style=\"font-size: 0.8em; font-weight: bold; line-height: 1; border-radius: 0.35em; text-transform: uppercase; vertical-align: middle; margin-left: 0.5rem\">PER</span>\n",
              "</mark>\n",
              " de expandir su cartera de dispositivos más allá del lector electrónico \n",
              "<mark class=\"entity\" style=\"background: #ddd; padding: 0.45em 0.6em; margin: 0 0.25em; line-height: 1; border-radius: 0.35em;\">\n",
              "    Kindle\n",
              "    <span style=\"font-size: 0.8em; font-weight: bold; line-height: 1; border-radius: 0.35em; text-transform: uppercase; vertical-align: middle; margin-left: 0.5rem\">MISC</span>\n",
              "</mark>\n",
              ". \n",
              "<mark class=\"entity\" style=\"background: #7aecec; padding: 0.45em 0.6em; margin: 0 0.25em; line-height: 1; border-radius: 0.35em;\">\n",
              "    The Echo\n",
              "    <span style=\"font-size: 0.8em; font-weight: bold; line-height: 1; border-radius: 0.35em; text-transform: uppercase; vertical-align: middle; margin-left: 0.5rem\">ORG</span>\n",
              "</mark>\n",
              " apareció de manera prominente en el primer anuncio televisivo de transmisión del \n",
              "<mark class=\"entity\" style=\"background: #7aecec; padding: 0.45em 0.6em; margin: 0 0.25em; line-height: 1; border-radius: 0.35em;\">\n",
              "    Super Bowl\n",
              "    <span style=\"font-size: 0.8em; font-weight: bold; line-height: 1; border-radius: 0.35em; text-transform: uppercase; vertical-align: middle; margin-left: 0.5rem\">ORG</span>\n",
              "</mark>\n",
              " de Amazon en 2016.</div></span>"
            ],
            "text/plain": [
              "<IPython.core.display.HTML object>"
            ]
          },
          "metadata": {
            "tags": []
          }
        },
        {
          "output_type": "display_data",
          "data": {
            "text/html": [
              "<span class=\"tex2jax_ignore\"><div class=\"entities\" style=\"line-height: 2.5; direction: ltr\">\n",
              "<mark class=\"entity\" style=\"background: #aa9cfc; padding: 0.45em 0.6em; margin: 0 0.25em; line-height: 1; border-radius: 0.35em;\">\n",
              "    Amazon Echo\n",
              "    <span style=\"font-size: 0.8em; font-weight: bold; line-height: 1; border-radius: 0.35em; text-transform: uppercase; vertical-align: middle; margin-left: 0.5rem\">PERSON</span>\n",
              "</mark>\n",
              " (shortened to \n",
              "<mark class=\"entity\" style=\"background: #feca74; padding: 0.45em 0.6em; margin: 0 0.25em; line-height: 1; border-radius: 0.35em;\">\n",
              "    Echo\n",
              "    <span style=\"font-size: 0.8em; font-weight: bold; line-height: 1; border-radius: 0.35em; text-transform: uppercase; vertical-align: middle; margin-left: 0.5rem\">GPE</span>\n",
              "</mark>\n",
              " and known colloquially as \n",
              "<mark class=\"entity\" style=\"background: #7aecec; padding: 0.45em 0.6em; margin: 0 0.25em; line-height: 1; border-radius: 0.35em;\">\n",
              "    Alexa\n",
              "    <span style=\"font-size: 0.8em; font-weight: bold; line-height: 1; border-radius: 0.35em; text-transform: uppercase; vertical-align: middle; margin-left: 0.5rem\">ORG</span>\n",
              "</mark>\n",
              ") is a brand of smart speakers developed by \n",
              "<mark class=\"entity\" style=\"background: #7aecec; padding: 0.45em 0.6em; margin: 0 0.25em; line-height: 1; border-radius: 0.35em;\">\n",
              "    Amazon\n",
              "    <span style=\"font-size: 0.8em; font-weight: bold; line-height: 1; border-radius: 0.35em; text-transform: uppercase; vertical-align: middle; margin-left: 0.5rem\">ORG</span>\n",
              "</mark>\n",
              ". Echo devices connect to the voice-controlled intelligent personal assistant service \n",
              "<mark class=\"entity\" style=\"background: #7aecec; padding: 0.45em 0.6em; margin: 0 0.25em; line-height: 1; border-radius: 0.35em;\">\n",
              "    Alexa\n",
              "    <span style=\"font-size: 0.8em; font-weight: bold; line-height: 1; border-radius: 0.35em; text-transform: uppercase; vertical-align: middle; margin-left: 0.5rem\">ORG</span>\n",
              "</mark>\n",
              ", which responds to the names \n",
              "<mark class=\"entity\" style=\"background: #7aecec; padding: 0.45em 0.6em; margin: 0 0.25em; line-height: 1; border-radius: 0.35em;\">\n",
              "    Alexa\n",
              "    <span style=\"font-size: 0.8em; font-weight: bold; line-height: 1; border-radius: 0.35em; text-transform: uppercase; vertical-align: middle; margin-left: 0.5rem\">ORG</span>\n",
              "</mark>\n",
              ", Echo, or \n",
              "<mark class=\"entity\" style=\"background: #7aecec; padding: 0.45em 0.6em; margin: 0 0.25em; line-height: 1; border-radius: 0.35em;\">\n",
              "    Computer\n",
              "    <span style=\"font-size: 0.8em; font-weight: bold; line-height: 1; border-radius: 0.35em; text-transform: uppercase; vertical-align: middle; margin-left: 0.5rem\">ORG</span>\n",
              "</mark>\n",
              ". Users may change this wake word to \n",
              "<mark class=\"entity\" style=\"background: #7aecec; padding: 0.45em 0.6em; margin: 0 0.25em; line-height: 1; border-radius: 0.35em;\">\n",
              "    Amazon\n",
              "    <span style=\"font-size: 0.8em; font-weight: bold; line-height: 1; border-radius: 0.35em; text-transform: uppercase; vertical-align: middle; margin-left: 0.5rem\">ORG</span>\n",
              "</mark>\n",
              ", Echo or Computer. The features of the device include: voice interaction, music playback, making to-do lists, setting alarms, streaming podcasts, and playing audiobooks, in addition to providing weather, traffic and other real-time information. It can also control several smart devices, acting as a home automation hub. According to confirmed reports, \n",
              "<mark class=\"entity\" style=\"background: #7aecec; padding: 0.45em 0.6em; margin: 0 0.25em; line-height: 1; border-radius: 0.35em;\">\n",
              "    Amazon\n",
              "    <span style=\"font-size: 0.8em; font-weight: bold; line-height: 1; border-radius: 0.35em; text-transform: uppercase; vertical-align: middle; margin-left: 0.5rem\">ORG</span>\n",
              "</mark>\n",
              " started developing \n",
              "<mark class=\"entity\" style=\"background: #bfeeb7; padding: 0.45em 0.6em; margin: 0 0.25em; line-height: 1; border-radius: 0.35em;\">\n",
              "    Echo\n",
              "    <span style=\"font-size: 0.8em; font-weight: bold; line-height: 1; border-radius: 0.35em; text-transform: uppercase; vertical-align: middle; margin-left: 0.5rem\">PRODUCT</span>\n",
              "</mark>\n",
              " devices inside its Lab126 offices in \n",
              "<mark class=\"entity\" style=\"background: #ff9561; padding: 0.45em 0.6em; margin: 0 0.25em; line-height: 1; border-radius: 0.35em;\">\n",
              "    Silicon Valley\n",
              "    <span style=\"font-size: 0.8em; font-weight: bold; line-height: 1; border-radius: 0.35em; text-transform: uppercase; vertical-align: middle; margin-left: 0.5rem\">LOC</span>\n",
              "</mark>\n",
              " and in \n",
              "<mark class=\"entity\" style=\"background: #feca74; padding: 0.45em 0.6em; margin: 0 0.25em; line-height: 1; border-radius: 0.35em;\">\n",
              "    Cambridge\n",
              "    <span style=\"font-size: 0.8em; font-weight: bold; line-height: 1; border-radius: 0.35em; text-transform: uppercase; vertical-align: middle; margin-left: 0.5rem\">GPE</span>\n",
              "</mark>\n",
              ", \n",
              "<mark class=\"entity\" style=\"background: #feca74; padding: 0.45em 0.6em; margin: 0 0.25em; line-height: 1; border-radius: 0.35em;\">\n",
              "    Massachusetts\n",
              "    <span style=\"font-size: 0.8em; font-weight: bold; line-height: 1; border-radius: 0.35em; text-transform: uppercase; vertical-align: middle; margin-left: 0.5rem\">GPE</span>\n",
              "</mark>\n",
              " as early as \n",
              "<mark class=\"entity\" style=\"background: #bfe1d9; padding: 0.45em 0.6em; margin: 0 0.25em; line-height: 1; border-radius: 0.35em;\">\n",
              "    2010\n",
              "    <span style=\"font-size: 0.8em; font-weight: bold; line-height: 1; border-radius: 0.35em; text-transform: uppercase; vertical-align: middle; margin-left: 0.5rem\">DATE</span>\n",
              "</mark>\n",
              ". The device represented \n",
              "<mark class=\"entity\" style=\"background: #e4e7d2; padding: 0.45em 0.6em; margin: 0 0.25em; line-height: 1; border-radius: 0.35em;\">\n",
              "    one\n",
              "    <span style=\"font-size: 0.8em; font-weight: bold; line-height: 1; border-radius: 0.35em; text-transform: uppercase; vertical-align: middle; margin-left: 0.5rem\">CARDINAL</span>\n",
              "</mark>\n",
              " of \n",
              "<mark class=\"entity\" style=\"background: #7aecec; padding: 0.45em 0.6em; margin: 0 0.25em; line-height: 1; border-radius: 0.35em;\">\n",
              "    Amazon\n",
              "    <span style=\"font-size: 0.8em; font-weight: bold; line-height: 1; border-radius: 0.35em; text-transform: uppercase; vertical-align: middle; margin-left: 0.5rem\">ORG</span>\n",
              "</mark>\n",
              "'s \n",
              "<mark class=\"entity\" style=\"background: #e4e7d2; padding: 0.45em 0.6em; margin: 0 0.25em; line-height: 1; border-radius: 0.35em;\">\n",
              "    first\n",
              "    <span style=\"font-size: 0.8em; font-weight: bold; line-height: 1; border-radius: 0.35em; text-transform: uppercase; vertical-align: middle; margin-left: 0.5rem\">ORDINAL</span>\n",
              "</mark>\n",
              " attempts to expand its device portfolio beyond the Kindle e-reader. The \n",
              "<mark class=\"entity\" style=\"background: #aa9cfc; padding: 0.45em 0.6em; margin: 0 0.25em; line-height: 1; border-radius: 0.35em;\">\n",
              "    Echo\n",
              "    <span style=\"font-size: 0.8em; font-weight: bold; line-height: 1; border-radius: 0.35em; text-transform: uppercase; vertical-align: middle; margin-left: 0.5rem\">PERSON</span>\n",
              "</mark>\n",
              " featured prominently in \n",
              "<mark class=\"entity\" style=\"background: #7aecec; padding: 0.45em 0.6em; margin: 0 0.25em; line-height: 1; border-radius: 0.35em;\">\n",
              "    Amazon\n",
              "    <span style=\"font-size: 0.8em; font-weight: bold; line-height: 1; border-radius: 0.35em; text-transform: uppercase; vertical-align: middle; margin-left: 0.5rem\">ORG</span>\n",
              "</mark>\n",
              "'s \n",
              "<mark class=\"entity\" style=\"background: #e4e7d2; padding: 0.45em 0.6em; margin: 0 0.25em; line-height: 1; border-radius: 0.35em;\">\n",
              "    first\n",
              "    <span style=\"font-size: 0.8em; font-weight: bold; line-height: 1; border-radius: 0.35em; text-transform: uppercase; vertical-align: middle; margin-left: 0.5rem\">ORDINAL</span>\n",
              "</mark>\n",
              "-ever \n",
              "<mark class=\"entity\" style=\"background: #ffeb80; padding: 0.45em 0.6em; margin: 0 0.25em; line-height: 1; border-radius: 0.35em;\">\n",
              "    Super Bowl\n",
              "    <span style=\"font-size: 0.8em; font-weight: bold; line-height: 1; border-radius: 0.35em; text-transform: uppercase; vertical-align: middle; margin-left: 0.5rem\">EVENT</span>\n",
              "</mark>\n",
              " broadcast television advertisement in \n",
              "<mark class=\"entity\" style=\"background: #bfe1d9; padding: 0.45em 0.6em; margin: 0 0.25em; line-height: 1; border-radius: 0.35em;\">\n",
              "    2016\n",
              "    <span style=\"font-size: 0.8em; font-weight: bold; line-height: 1; border-radius: 0.35em; text-transform: uppercase; vertical-align: middle; margin-left: 0.5rem\">DATE</span>\n",
              "</mark>\n",
              ".</div></span>"
            ],
            "text/plain": [
              "<IPython.core.display.HTML object>"
            ]
          },
          "metadata": {
            "tags": []
          }
        }
      ]
    },
    {
      "cell_type": "code",
      "metadata": {
        "id": "CB-y1SsIIiPC",
        "colab": {
          "base_uri": "https://localhost:8080/",
          "height": 777
        },
        "outputId": "f4299f93-1fd8-4b67-f399-6706b77ac343"
      },
      "source": [
        "# Importamos la librería gráfica para trabajar\n",
        "import matplotlib.pyplot as plt\n",
        "\n",
        "# Creación de gráficas / Histogramas con las entidades detectadas\n",
        "TextosEspañol = [Texto1, Texto2, Texto3]\n",
        "TextosEnglish = [Text1, Text2, Text3]\n",
        "\n",
        "Entidades = {}\n",
        "for Texto in TextosEspañol:\n",
        "    for Entidad in Texto.ents:\n",
        "        if(Entidades.get(Entidad.label_) == None):\n",
        "            Entidades.setdefault(Entidad.label_, 1)\n",
        "        else:\n",
        "            Entidades[Entidad.label_] += 1\n",
        "\n",
        "Entities = {}\n",
        "for Text in TextosEnglish:\n",
        "    for Entity in Text.ents:\n",
        "        if(Entities.get(Entity.label_) == None):\n",
        "            Entities.setdefault(Entity.label_, 1)\n",
        "        else:\n",
        "            Entities[Entity.label_] += 1\n",
        "\n",
        "# Impresión de la gráfica a partir del diccionario\n",
        "plt.rcParams.update({'font.size': 16})\n",
        "plt.figure(figsize=(20,5))\n",
        "plt.bar(Entidades.keys(), Entidades.values(), color=['lightblue','steelblue','lightslategrey']) \n",
        "plt.title('Entidades en Español') \n",
        "plt.xticks(rotation = 70)\n",
        "plt.show()\n",
        "\n",
        "plt.rcParams.update({'font.size': 16})\n",
        "plt.figure(figsize=(20,5))\n",
        "plt.bar(Entities.keys(), Entities.values(), color=['lightblue','steelblue','lightslategrey']) \n",
        "plt.title('Entidades en Inglés') \n",
        "plt.xticks(rotation = 70)\n",
        "plt.show()"
      ],
      "execution_count": null,
      "outputs": [
        {
          "output_type": "display_data",
          "data": {
            "image/png": "[encoded data removed]",
            "text/plain": [
              "<Figure size 1440x360 with 1 Axes>"
            ]
          },
          "metadata": {
            "tags": [],
            "needs_background": "light"
          }
        },
        {
          "output_type": "display_data",
          "data": {
            "image/png": "[encoded data removed]",
            "text/plain": [
              "<Figure size 1440x360 with 1 Axes>"
            ]
          },
          "metadata": {
            "tags": [],
            "needs_background": "light"
          }
        }
      ]
    },
    {
      "cell_type": "code",
      "metadata": {
        "id": "CMEySq-mseb6"
      },
      "source": [
        ""
      ],
      "execution_count": null,
      "outputs": []
    },
    {
      "cell_type": "markdown",
      "metadata": {
        "id": "oGrRcodgsXJf"
      },
      "source": [
        "# Reto 09: Etiquetado "
      ]
    },
    {
      "cell_type": "code",
      "metadata": {
        "id": "LcooB_7zsXJf"
      },
      "source": [
        "# Importación dela librería de SpaCy\n",
        "import spacy\n",
        "\n",
        "# Cargamos núcleo de trabajo (Español)\n",
        "pln_es = spacy.load(\"es_core_news_sm\")"
      ],
      "execution_count": null,
      "outputs": []
    },
    {
      "cell_type": "code",
      "metadata": {
        "id": "DXM7QQvIsXJg",
        "colab": {
          "base_uri": "https://localhost:8080/"
        },
        "outputId": "9ee76f8b-241f-407b-99ae-ca895e6e9335"
      },
      "source": [
        "# Ejemplo de extracción de etiquetas en frases\n",
        "Ejemplo = pln_es(u'Oh, siempre llegarás a alguna parte si caminas lo suficiente')\n",
        "for token in Ejemplo:\n",
        "    print(\"{:15s} {:s}\".format(token.text, token.tag_))"
      ],
      "execution_count": null,
      "outputs": [
        {
          "output_type": "stream",
          "text": [
            "Oh              INTJ___\n",
            ",               PUNCT__PunctType=Comm\n",
            "siempre         ADV___\n",
            "llegarás        VERB__Mood=Ind|Number=Sing|Person=3|Tense=Past|VerbForm=Fin\n",
            "a               ADP__AdpType=Prep\n",
            "alguna          DET__Gender=Fem|Number=Sing|PronType=Ind\n",
            "parte           NOUN__Gender=Fem|Number=Sing\n",
            "si              SCONJ___\n",
            "caminas         VERB__Mood=Ind|Number=Sing|Person=2|Tense=Pres|VerbForm=Fin\n",
            "lo              DET__Definite=Def|Number=Sing|PronType=Art\n",
            "suficiente      ADJ__Number=Sing\n"
          ],
          "name": "stdout"
        }
      ]
    },
    {
      "cell_type": "code",
      "metadata": {
        "id": "_4MoL1FOsXJg"
      },
      "source": [
        "# Frases para identificar\n",
        "Frases = [pln_es(u\"Todos los niños, jugarán futbol durante el recreo\"),\n",
        "          pln_es(u\"La águila, hace su nido sobre la montaña\"),\n",
        "          pln_es(u\"En la conveción habían muchas personas\"),\n",
        "          pln_es(u\"Los hechos que relata el testigo durante el juicio fueron confirmados\"),\n",
        "          pln_es(u\"Todas las personas quedaron asombradas\"),\n",
        "          pln_es(u\"La agua, comenzó a caer\"),\n",
        "          pln_es(u\"La hacha se confirmó encontrada en la cochera\"),\n",
        "          pln_es(u\"Estaban muchas aves volando en el cielo cuando de pronto...\"),\n",
        "          pln_es(u\"Había muchas personas en esa ciudad, sin embargo, nadie...\"),\n",
        "          pln_es(u\"En un día normal yo trabajo, estudio, y me divierto\"),\n",
        "          pln_es(u\"Será necesario que tomemos este asunto muy en serio\"),\n",
        "          pln_es(u\"Las cosas que sabes, fueron tomadas de un libro\")]"
      ],
      "execution_count": null,
      "outputs": []
    },
    {
      "cell_type": "code",
      "metadata": {
        "id": "__S6tqMpsXJg",
        "colab": {
          "base_uri": "https://localhost:8080/"
        },
        "outputId": "64b50291-3e8f-4d09-b2f8-dae07b13de73"
      },
      "source": [
        "# Módulo para identificar Caso 1 (coma entre sujeto y predicado)\n",
        "# Tips:\n",
        "# A) Encontrar en la frase los tokens que sean iguales a ','\n",
        "# B) Verificar que el token anterior a ese sea un Sujeto (NOUN o PRON)\n",
        "# y que el posterior sea un verbo o verbo auxiliar (VERB o AUX)\n",
        "C1 = []\n",
        "for Frase in Frases:\n",
        "    index = []\n",
        "    Tokens = [token.text for token in Frase]\n",
        "    Tags = [token.tag_ for token in Frase]\n",
        "    try:\n",
        "        index.append(Tokens.index(','))\n",
        "        for ind in index:\n",
        "            if(Tags[ind-1].split(\"_\")[0] == 'NOUN' and \n",
        "              (Tags[ind+1].split(\"_\")[0] == 'VERB' or Tags[ind+1].split(\"_\")[0] == 'AUX')):\n",
        "                C1.append(Frase)\n",
        "    except:\n",
        "        True\n",
        "    \n",
        "print(\"Errores de Caso1 encontrados:\\n\")\n",
        "for Error in C1:\n",
        "    print(Error)"
      ],
      "execution_count": null,
      "outputs": [
        {
          "output_type": "stream",
          "text": [
            "Errores de Caso1 encontrados:\n",
            "\n",
            "Todos los niños, jugarán futbol durante el recreo\n",
            "La águila, hace su nido sobre la montaña\n",
            "La agua, comenzó a caer\n"
          ],
          "name": "stdout"
        }
      ]
    },
    {
      "cell_type": "code",
      "metadata": {
        "id": "A6TqfHlksXJg",
        "colab": {
          "base_uri": "https://localhost:8080/"
        },
        "outputId": "da4c3908-53c2-4138-e1de-0aac9d9407d4"
      },
      "source": [
        "# Módulo para identificar Caso 2 (Determinantes de palabras que empiezan con a tónica)\n",
        "# Nota: Identificar la sílaba tónica de una palabra requiere de un proceso\n",
        "# más complejo, simplemente identificar el caso \"la\" + \"á____\",\n",
        "# \"la\" + \"a____\" (<=5 caracteres) o \"la\" + \"ha____\" (<=5 caracteres)\n",
        "# Tips:\n",
        "# A) Encontrar en la frase los tokens que contengan \"la\" o \"La\" (Usar lower())\n",
        "# B) Verificar que el token siguiente tenga en su primer caracter \"á\" o que\n",
        "# en sus dos primeros caracteres tenga \"a_\" o \"ha\" con menos de 6 caracteres totales\n",
        "C2 = []\n",
        "for Frase in Frases:\n",
        "    index = []\n",
        "    Tokens = [token.text.lower() for token in Frase]\n",
        "    try:\n",
        "        index.append(Tokens.index(\"la\"))\n",
        "        for ind in index: \n",
        "            if(Tokens[ind + 1][0] == 'á'\n",
        "               or (Tokens[ind + 1][0] == 'a' and len(Tokens[ind+ 1]) <= 5)\n",
        "               or (Tokens[ind + 1][0:2] == 'ha' and len(Tokens[ind + 1]) <= 5)):\n",
        "                C2.append(Frase) \n",
        "    except:\n",
        "        True\n",
        "\n",
        "print(\"Errores de Caso2 encontrados:\\n\")\n",
        "for Error in C2:\n",
        "    print(Error)"
      ],
      "execution_count": null,
      "outputs": [
        {
          "output_type": "stream",
          "text": [
            "Errores de Caso2 encontrados:\n",
            "\n",
            "La águila, hace su nido sobre la montaña\n",
            "La agua, comenzó a caer\n",
            "La hacha se confirmó encontrada en la cochera\n"
          ],
          "name": "stdout"
        }
      ]
    },
    {
      "cell_type": "code",
      "metadata": {
        "id": "KLiglTa6sXJg",
        "colab": {
          "base_uri": "https://localhost:8080/"
        },
        "outputId": "bbf7dfdf-ce95-4462-ebd5-774cf49d643c"
      },
      "source": [
        "# Módulo para identificar Caso 3 (Verbo + sujeto en plural)\n",
        "# Nota, la combinación incorrecta a econtrar es:\n",
        "# Auxiliar(En plural) + Determinante\n",
        "# (Había mucha gente) (Habían muchas personas)\n",
        "# Tips:\n",
        "# A) Encontrar en la frase los Tags que sean verbos auxiliares (AUX)\n",
        "# B) Verificar que ese verbo auxiliar sea plural (Number=Plur)\n",
        "# C) Verificar que el siguiente Tag corresponda a un determinante (DET)\n",
        "C3 = []\n",
        "for Frase in Frases:\n",
        "    index = []\n",
        "    Tokens = [token.text for token in Frase]\n",
        "    Tags = [token.tag_ for token in Frase]                                                                                                                                                                                                                        \n",
        "    try:\n",
        "        for Tag in Tags:\n",
        "            if((Tag.split(\"_\")[0] == 'AUX' and Tag.count('Plur'))\n",
        "               and (Tags[Tags.index(Tag) + 1].split(\"_\")[0] == 'DET')):\n",
        "                C3.append(Frase)\n",
        "    except:\n",
        "        True\n",
        "    \n",
        "print(\"Errores de Caso3 encontrados:\\n\")\n",
        "for Error in C3:\n",
        "    print(Error)"
      ],
      "execution_count": null,
      "outputs": [
        {
          "output_type": "stream",
          "text": [
            "Errores de Caso3 encontrados:\n",
            "\n",
            "En la conveción habían muchas personas\n"
          ],
          "name": "stdout"
        }
      ]
    },
    {
      "cell_type": "code",
      "metadata": {
        "id": "3o6EBJPesXJg",
        "colab": {
          "base_uri": "https://localhost:8080/"
        },
        "outputId": "128a54ca-2d96-4fcb-ebe2-149fcb942157"
      },
      "source": [
        "#reto 9\n",
        "# Módulo para identificar Caso 4 (Mezclar tiempos gramaticales)\n",
        "# Nota, aplica cuando en la frase, existen dos tiempos gramaticales\n",
        "# distintos, pero no hay ninguna conjunción, conjunción subordinada\n",
        "# conjunción de coordinación, o cualquier tipo de conjunción que\n",
        "# separe la frase en dos ideas distintas.\n",
        "# Tips:\n",
        "# A) Encontrar en la frase los Tags que correspondan a verbos (VERB)\n",
        "# B) Ver si dentro de la misma frase existen verbos con diferentes tiempos gramaticales\n",
        "# C) Revisar si dentro de esa misma frase existe algún tipo de conjunción que\n",
        "# separe las ideas. (De manera simple solo verificar que existen)\n",
        "C4 = []\n",
        "for Frase in Frases:\n",
        "    Tenses = []\n",
        "    Tokens = [token.text for token in Frase]\n",
        "    Tags = [token.tag_ for token in Frase]\n",
        "    try:\n",
        "        for Tag in Tags:\n",
        "            if(Tag.split(\"_\")[0] == 'VERB'):\n",
        "                Tenses.append(Tag[Tag.find('Tense') + 6 : Tag.find('VerbForm') - 1])\n",
        "                if(len(Tenses) > 1):\n",
        "                    Tags2 = [Tag.split(\"_\")[0] for Tag in Tags]\n",
        "                    if(Tags2.count(\"CONJ\")==0 and Tags2.count(\"CCONJ\")==0 and Tags2.countn(\"SCONJ\")==0):\n",
        "                        C4.append(Frase)\n",
        "    except:\n",
        "        True\n",
        "    \n",
        "print(\"Errores de Caso4 encontrados:\\n\")\n",
        "for Error in C4:\n",
        "    print(Error)"
      ],
      "execution_count": null,
      "outputs": [
        {
          "output_type": "stream",
          "text": [
            "Errores de Caso4 encontrados:\n",
            "\n"
          ],
          "name": "stdout"
        }
      ]
    },
    {
      "cell_type": "code",
      "metadata": {
        "id": "111OaUrwCAe-"
      },
      "source": [
        ""
      ],
      "execution_count": null,
      "outputs": []
    },
    {
      "cell_type": "markdown",
      "metadata": {
        "id": "FAzqSYPAB6nr"
      },
      "source": [
        "## Reto 10: Data Augmentation"
      ]
    },
    {
      "cell_type": "code",
      "metadata": {
        "id": "DHaSEvvjB6nr"
      },
      "source": [
        "# Frases para aplicar la técnica de variaciones de escritura\n",
        "# (Frases con herrores de ortografía comunes)\n",
        "Frases_2 = [\"quiero hacer un retiro sin tarjeta\",\n",
        "            \"me puedes por favor mostrar mi saldo\",\n",
        "            \"¿cuales fueron mis gastos de este mes?\",\n",
        "            \"necesito hacer una consulta de movimientos\"]\n",
        "\n",
        "# Frases para aplicar diccionarios de campos semánticos\n",
        "Frases_3 = [\"quiero ver mis gastos de agosto\",\n",
        "            \"quiero transferir 20 pesos\",\n",
        "            \"Dame mis movimientos de septiembre\",\n",
        "            \"quiero enviar $40, por favor\"]\n",
        "\n",
        "# Frases para aplicar uso de N-Gramas\n",
        "Frases_6 = [\"cuantos puntos tengo en mi tarjeta oro\",\n",
        "            \"me puedes ayudar a hacer un retiro sin tarjeta\",\n",
        "            \"hola, me ayudas a ver los gastos de mi tarjeta de crédito\"]"
      ],
      "execution_count": null,
      "outputs": []
    },
    {
      "cell_type": "markdown",
      "metadata": {
        "id": "ReH_ceetB6nr"
      },
      "source": [
        "## Técnica 2.- Variaciones de escritura"
      ]
    },
    {
      "cell_type": "code",
      "metadata": {
        "id": "0Esv2EJUB6nr"
      },
      "source": [
        "Hacer =  {'hacer': ['acer', 'aser', 'haser']}\n",
        "Saldo =  {'saldo': ['zaldo', 'saldó']}\n",
        "Favor =  {'favor': ['fabor']}\n",
        "Quiero = {'quiero': ['kiero', 'qiero']}\n",
        "Gastos = {'gastos': ['gaztos', 'gastoz']}\n",
        "Neces =  {'necesito': ['nesesito', 'necesito']}\n",
        "\n",
        "Errores = [Hacer, Saldo, Favor, Quiero, Gastos, Neces]\n",
        "\n",
        "Frases_Nuevas2 = []\n",
        "for Frase in Frases_2:\n",
        "    for Dic in Errores:\n",
        "        if(Frase.text(list(Dic.keys())[0])>0):\n",
        "            for Palabra in list(Dic._____())[0]:\n",
        "                Frases_Nuevas2._____(Frase.replace(list(Dic.keys())[0], Palabra))\n",
        "                \n",
        "print('Cantidad de frases iniciales: ' + str(len(Frases_2)))\n",
        "print('Frases añadidas: ' + str(len(Frases_Nuevas2)))\n",
        "\n",
        "print('\\nFrases:')\n",
        "for frase in Frases_Nuevas2:\n",
        "    print(frase)"
      ],
      "execution_count": null,
      "outputs": []
    },
    {
      "cell_type": "markdown",
      "metadata": {
        "id": "4o6MYhXDB6nr"
      },
      "source": [
        "## Técnica 3.- Diccionarios de campos semánticos"
      ]
    },
    {
      "cell_type": "code",
      "metadata": {
        "id": "baOZ6duwB6nr"
      },
      "source": [
        "Meses = ['enero', 'febrero', 'marzo', 'abril', 'mayo', 'junio', 'julio', 'agosto', 'septiembre', 'octubre', 'noviembre', 'diciembre']\n",
        "Verbos = ['transferir', 'enviar', 'mandar', 'pasar']\n",
        "\n",
        "Campos_Semanticos = [Meses, Verbos]\n",
        "\n",
        "Frases_Nuevas3 = []\n",
        "for Frase in Frases_3:\n",
        "    for Campo in Campos_Semanticos:\n",
        "        for Palabra in Campo:\n",
        "            if(Frase._____(Palabra)>0):\n",
        "                for Val in Campo:\n",
        "                    # Agregamos la misma frase REEMPLAZANDO por las opciones de la lista\n",
        "                    Frases_Nuevas3._____(Frase._____(Palabra, Val))\n",
        "                    \n",
        "print('Cantidad de frases iniciales: ' + str(len(Frases_3)))\n",
        "print('Frases añadidas: ' + str(len(Frases_Nuevas3) - len(Frases_3)))\n",
        "\n",
        "print('\\nFrases:')\n",
        "for frase in Frases_Nuevas3:\n",
        "    print(frase)"
      ],
      "execution_count": null,
      "outputs": []
    },
    {
      "cell_type": "markdown",
      "metadata": {
        "id": "AO3b4TexB6nr"
      },
      "source": [
        "## Técnica 6.- Fraseado (Uso de N-Gramas)"
      ]
    },
    {
      "cell_type": "code",
      "metadata": {
        "id": "8w7Brmt7B6nr"
      },
      "source": [
        "Oro = ['tarjeta oro', 'tarjeta-oro']\n",
        "Retiro = ['retiro sin tarjeta', 'retiro-sin-tarjeta']\n",
        "Credito = ['tarjeta de crédito', 'tarjeta-de-crédito']\n",
        "\n",
        "Fraseado = [Oro, Retiro, Credito]\n",
        "\n",
        "Frases_Nuevas6 = []\n",
        "for Frase in Frases_6:\n",
        "    for frase in Fraseado:\n",
        "        if(Frase._____(frase[0])>0):\n",
        "            # REEMPLAZAMOS una de las frases encontradas por la otra\n",
        "            # y la AGREGAMOS a la lista de frases nuevas\n",
        "            Frases_Nuevas6._____(Frase._____(frase[0], frase[1]))\n",
        "        \n",
        "print('\\nFrases con fraseado:')\n",
        "for frase in Frases_Nuevas6:\n",
        "    print(frase)"
      ],
      "execution_count": null,
      "outputs": []
    }
  ]
}
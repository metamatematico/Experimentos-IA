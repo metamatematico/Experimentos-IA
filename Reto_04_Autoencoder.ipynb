{
  "nbformat": 4,
  "nbformat_minor": 0,
  "metadata": {
    "colab": {
      "name": "Reto 04 Autoencoder.ipynb",
      "provenance": [],
      "collapsed_sections": [],
      "include_colab_link": true
    },
    "kernelspec": {
      "name": "python3",
      "display_name": "Python 3"
    },
    "accelerator": "GPU"
  },
  "cells": [
    {
      "cell_type": "markdown",
      "metadata": {
        "id": "view-in-github",
        "colab_type": "text"
      },
      "source": [
        "<a href=\"https://colab.research.google.com/github/metamatematico/Experimentos-IA/blob/master/Reto_04_Autoencoder.ipynb\" target=\"_parent\"><img src=\"https://colab.research.google.com/assets/colab-badge.svg\" alt=\"Open In Colab\"/></a>"
      ]
    },
    {
      "cell_type": "markdown",
      "metadata": {
        "id": "kBgV1qiYCjSK"
      },
      "source": [
        "# Definir las librerias"
      ]
    },
    {
      "cell_type": "code",
      "metadata": {
        "id": "XzeirMGZBeGE"
      },
      "source": [
        "from keras.datasets import mnist\n",
        "\n",
        "from keras.layers import Input, Conv2D, Flatten, Dense, Conv2DTranspose, Reshape\n",
        "from keras.models import Model\n",
        "from keras import backend as K\n",
        "from keras.optimizers import Adam\n",
        "from keras.callbacks import ModelCheckpoint \n",
        "\n",
        "import numpy as np\n",
        "import matplotlib.pyplot as plt\n",
        "\n"
      ],
      "execution_count": null,
      "outputs": []
    },
    {
      "cell_type": "markdown",
      "metadata": {
        "id": "h94jlKCILX1H"
      },
      "source": [
        "#Observar los datos a trabajar"
      ]
    },
    {
      "cell_type": "code",
      "metadata": {
        "id": "cSG9YJ1QLK7W",
        "colab": {
          "base_uri": "https://localhost:8080/",
          "height": 340
        },
        "outputId": "bde1beeb-2085-43b3-a6b0-b9be8e31767c"
      },
      "source": [
        "(x_train, y_train), (x_test, y_test) = mnist.load_data()\n",
        "\n",
        "# Visualizar los datos\n",
        "fig = plt.figure()\n",
        "for i in range (0,10):\n",
        "  a = fig.add_subplot(5,2,i+1)\n",
        "  plt.imshow(x_train[i])\n",
        "plt.show()\n",
        "\n",
        "print('Datos de entrenamiento: ', len(x_train))\n",
        "print('Datos de prueba: ', len(x_test))\n",
        "\n",
        "\n",
        "# Reescalar los datos\n",
        "x_train = x_train.reshape(60000,28,28,1)/255\n",
        "x_test = x_test.reshape(10000,28,28,1)/255\n"
      ],
      "execution_count": null,
      "outputs": [
        {
          "output_type": "stream",
          "text": [
            "Downloading data from https://storage.googleapis.com/tensorflow/tf-keras-datasets/mnist.npz\n",
            "11493376/11490434 [==============================] - 0s 0us/step\n"
          ],
          "name": "stdout"
        },
        {
          "output_type": "display_data",
          "data": {
            "image/png": "[encoded data removed]",
            "text/plain": [
              "<Figure size 432x288 with 10 Axes>"
            ]
          },
          "metadata": {
            "tags": [],
            "needs_background": "light"
          }
        },
        {
          "output_type": "stream",
          "text": [
            "Datos de entrenamiento:  60000\n",
            "Datos de prueba:  10000\n"
          ],
          "name": "stdout"
        }
      ]
    },
    {
      "cell_type": "markdown",
      "metadata": {
        "id": "E-QIJCf8NGoI"
      },
      "source": [
        "# Generar el modelo de Autoencoder"
      ]
    },
    {
      "cell_type": "code",
      "metadata": {
        "id": "shNBarNDNJij",
        "colab": {
          "base_uri": "https://localhost:8080/"
        },
        "outputId": "5b251f3c-b656-4881-922a-ae101fac9fbe"
      },
      "source": [
        "# Parametros\n",
        "input_size = (28,28,1)\n",
        "laten_dim= 200\n",
        "\n",
        "#Encoder\n",
        "x = Input(input_size)\n",
        "conv1 = Conv2D(32,3,strides=(2,2),padding='same',activation='relu')(x)\n",
        "conv2 = Conv2D(64,3,strides=(2,2),padding='same',activation='relu')(conv1)\n",
        "conv3 = Conv2D(64,3,strides=(2,2),padding='same',activation='relu')(conv2)\n",
        "f = Flatten()(conv3)\n",
        "d_e = Dense(200)(f)\n",
        "\n",
        "#Decoder\n",
        "x_d = Input(shape=(laten_dim))\n",
        "d = Dense(3136)(x_d)\n",
        "r = Reshape((7,7,64))(d)\n",
        "dec1 = Conv2DTranspose(64,3,strides=(2,2), padding='same', activation='relu')(r)\n",
        "dec2 = Conv2DTranspose(64,3,strides=(2,2), padding='same', activation='relu')(dec1)\n",
        "dec3 = Conv2DTranspose(32,3,strides=(1,1), padding='same', activation='relu')(dec2)\n",
        "dec4 = Conv2DTranspose(1,3,strides=(1,1), padding='same', activation='sigmoid')(dec3)\n",
        "\n",
        "\n",
        "# Construir los modelos\n",
        "encoder = Model(inputs = x, outputs= d_e)\n",
        "decoder = Model(inputs = x_d, outputs = dec4)\n",
        "\n",
        "conexion = decoder(encoder(x))\n",
        "AU = Model(inputs = x, outputs= conexion)\n",
        "AU.summary()\n"
      ],
      "execution_count": null,
      "outputs": [
        {
          "output_type": "stream",
          "text": [
            "Model: \"model_2\"\n",
            "_________________________________________________________________\n",
            "Layer (type)                 Output Shape              Param #   \n",
            "=================================================================\n",
            "input_3 (InputLayer)         [(None, 28, 28, 1)]       0         \n",
            "_________________________________________________________________\n",
            "model (Functional)           (None, 200)               260744    \n",
            "_________________________________________________________________\n",
            "model_1 (Functional)         (None, 28, 28, 1)         722945    \n",
            "=================================================================\n",
            "Total params: 983,689\n",
            "Trainable params: 983,689\n",
            "Non-trainable params: 0\n",
            "_________________________________________________________________\n"
          ],
          "name": "stdout"
        }
      ]
    },
    {
      "cell_type": "markdown",
      "metadata": {
        "id": "adNwLyNpPs-x"
      },
      "source": [
        "# Entrenar el modelo"
      ]
    },
    {
      "cell_type": "code",
      "metadata": {
        "id": "r1ZYvH7NPu_l",
        "colab": {
          "base_uri": "https://localhost:8080/"
        },
        "outputId": "320a8aaa-14c1-4c1a-8432-d681541150ec"
      },
      "source": [
        "AU.compile(optimizer=Adam(lr = 1e-4), loss= 'binary_crossentropy', metrics=['accuracy'])\n",
        "\n",
        "batch_s = 32\n",
        "\n",
        "AU.fit(     \n",
        "    np.array(x_train[:1000])     # Observar los valores a usar para el entrenamiento\n",
        "    , np.array(x_train[:1000])\n",
        "    , batch_size = batch_s\n",
        "    , epochs = 50\n",
        ")"
      ],
      "execution_count": null,
      "outputs": [
        {
          "output_type": "stream",
          "text": [
            "Epoch 1/50\n",
            "32/32 [==============================] - 8s 9ms/step - loss: 0.6878 - accuracy: 0.7810\n",
            "Epoch 2/50\n",
            "32/32 [==============================] - 0s 5ms/step - loss: 0.5161 - accuracy: 0.8088\n",
            "Epoch 3/50\n",
            "32/32 [==============================] - 0s 5ms/step - loss: 0.2935 - accuracy: 0.8106\n",
            "Epoch 4/50\n",
            "32/32 [==============================] - 0s 5ms/step - loss: 0.2717 - accuracy: 0.8133\n",
            "Epoch 5/50\n",
            "32/32 [==============================] - 0s 5ms/step - loss: 0.2684 - accuracy: 0.8098\n",
            "Epoch 6/50\n",
            "32/32 [==============================] - 0s 6ms/step - loss: 0.2624 - accuracy: 0.8092\n",
            "Epoch 7/50\n",
            "32/32 [==============================] - 0s 5ms/step - loss: 0.2587 - accuracy: 0.8109\n",
            "Epoch 8/50\n",
            "32/32 [==============================] - 0s 5ms/step - loss: 0.2530 - accuracy: 0.8107\n",
            "Epoch 9/50\n",
            "32/32 [==============================] - 0s 5ms/step - loss: 0.2472 - accuracy: 0.8097\n",
            "Epoch 10/50\n",
            "32/32 [==============================] - 0s 5ms/step - loss: 0.2350 - accuracy: 0.8117\n",
            "Epoch 11/50\n",
            "32/32 [==============================] - 0s 5ms/step - loss: 0.2275 - accuracy: 0.8071\n",
            "Epoch 12/50\n",
            "32/32 [==============================] - 0s 5ms/step - loss: 0.2106 - accuracy: 0.8006\n",
            "Epoch 13/50\n",
            "32/32 [==============================] - 0s 5ms/step - loss: 0.1872 - accuracy: 0.8004\n",
            "Epoch 14/50\n",
            "32/32 [==============================] - 0s 5ms/step - loss: 0.1690 - accuracy: 0.8033\n",
            "Epoch 15/50\n",
            "32/32 [==============================] - 0s 5ms/step - loss: 0.1549 - accuracy: 0.8038\n",
            "Epoch 16/50\n",
            "32/32 [==============================] - 0s 5ms/step - loss: 0.1442 - accuracy: 0.8067\n",
            "Epoch 17/50\n",
            "32/32 [==============================] - 0s 5ms/step - loss: 0.1360 - accuracy: 0.8085\n",
            "Epoch 18/50\n",
            "32/32 [==============================] - 0s 5ms/step - loss: 0.1271 - accuracy: 0.8083\n",
            "Epoch 19/50\n",
            "32/32 [==============================] - 0s 5ms/step - loss: 0.1220 - accuracy: 0.8092\n",
            "Epoch 20/50\n",
            "32/32 [==============================] - 0s 5ms/step - loss: 0.1186 - accuracy: 0.8095\n",
            "Epoch 21/50\n",
            "32/32 [==============================] - 0s 5ms/step - loss: 0.1133 - accuracy: 0.8103\n",
            "Epoch 22/50\n",
            "32/32 [==============================] - 0s 5ms/step - loss: 0.1093 - accuracy: 0.8116\n",
            "Epoch 23/50\n",
            "32/32 [==============================] - 0s 5ms/step - loss: 0.1064 - accuracy: 0.8119\n",
            "Epoch 24/50\n",
            "32/32 [==============================] - 0s 5ms/step - loss: 0.1037 - accuracy: 0.8121\n",
            "Epoch 25/50\n",
            "32/32 [==============================] - 0s 6ms/step - loss: 0.1014 - accuracy: 0.8119\n",
            "Epoch 26/50\n",
            "32/32 [==============================] - 0s 5ms/step - loss: 0.0998 - accuracy: 0.8149\n",
            "Epoch 27/50\n",
            "32/32 [==============================] - 0s 5ms/step - loss: 0.0994 - accuracy: 0.8116\n",
            "Epoch 28/50\n",
            "32/32 [==============================] - 0s 5ms/step - loss: 0.0967 - accuracy: 0.8105\n",
            "Epoch 29/50\n",
            "32/32 [==============================] - 0s 6ms/step - loss: 0.0942 - accuracy: 0.8160\n",
            "Epoch 30/50\n",
            "32/32 [==============================] - 0s 5ms/step - loss: 0.0931 - accuracy: 0.8145\n",
            "Epoch 31/50\n",
            "32/32 [==============================] - 0s 5ms/step - loss: 0.0912 - accuracy: 0.8137\n",
            "Epoch 32/50\n",
            "32/32 [==============================] - 0s 6ms/step - loss: 0.0907 - accuracy: 0.8142\n",
            "Epoch 33/50\n",
            "32/32 [==============================] - 0s 5ms/step - loss: 0.0896 - accuracy: 0.8134\n",
            "Epoch 34/50\n",
            "32/32 [==============================] - 0s 5ms/step - loss: 0.0891 - accuracy: 0.8148\n",
            "Epoch 35/50\n",
            "32/32 [==============================] - 0s 6ms/step - loss: 0.0883 - accuracy: 0.8149\n",
            "Epoch 36/50\n",
            "32/32 [==============================] - 0s 5ms/step - loss: 0.0870 - accuracy: 0.8147\n",
            "Epoch 37/50\n",
            "32/32 [==============================] - 0s 5ms/step - loss: 0.0861 - accuracy: 0.8139\n",
            "Epoch 38/50\n",
            "32/32 [==============================] - 0s 6ms/step - loss: 0.0850 - accuracy: 0.8155\n",
            "Epoch 39/50\n",
            "32/32 [==============================] - 0s 6ms/step - loss: 0.0867 - accuracy: 0.8117\n",
            "Epoch 40/50\n",
            "32/32 [==============================] - 0s 6ms/step - loss: 0.0839 - accuracy: 0.8152\n",
            "Epoch 41/50\n",
            "32/32 [==============================] - 0s 5ms/step - loss: 0.0854 - accuracy: 0.8104\n",
            "Epoch 42/50\n",
            "32/32 [==============================] - 0s 5ms/step - loss: 0.0841 - accuracy: 0.8115\n",
            "Epoch 43/50\n",
            "32/32 [==============================] - 0s 5ms/step - loss: 0.0826 - accuracy: 0.8159\n",
            "Epoch 44/50\n",
            "32/32 [==============================] - 0s 5ms/step - loss: 0.0823 - accuracy: 0.8150\n",
            "Epoch 45/50\n",
            "32/32 [==============================] - 0s 6ms/step - loss: 0.0812 - accuracy: 0.8151\n",
            "Epoch 46/50\n",
            "32/32 [==============================] - 0s 6ms/step - loss: 0.0802 - accuracy: 0.8179\n",
            "Epoch 47/50\n",
            "32/32 [==============================] - 0s 6ms/step - loss: 0.0797 - accuracy: 0.8172\n",
            "Epoch 48/50\n",
            "32/32 [==============================] - 0s 5ms/step - loss: 0.0797 - accuracy: 0.8158\n",
            "Epoch 49/50\n",
            "32/32 [==============================] - 0s 5ms/step - loss: 0.0799 - accuracy: 0.8149\n",
            "Epoch 50/50\n",
            "32/32 [==============================] - 0s 5ms/step - loss: 0.0793 - accuracy: 0.8144\n"
          ],
          "name": "stdout"
        },
        {
          "output_type": "execute_result",
          "data": {
            "text/plain": [
              "<tensorflow.python.keras.callbacks.History at 0x7f39002d5e48>"
            ]
          },
          "metadata": {
            "tags": []
          },
          "execution_count": 8
        }
      ]
    },
    {
      "cell_type": "markdown",
      "metadata": {
        "id": "sfzEHEVuSEU8"
      },
      "source": [
        "# Observar los resultados"
      ]
    },
    {
      "cell_type": "code",
      "metadata": {
        "id": "MSuGLRV4TgZd",
        "colab": {
          "base_uri": "https://localhost:8080/",
          "height": 227
        },
        "outputId": "11ffcf74-ed77-4ac6-e8d3-ad2d4af7016c"
      },
      "source": [
        "# Crear la figura\n",
        "plt.figure(1)\n",
        "\n",
        "for i in range (0,5):\n",
        "  # Imagenes reales del dataset\n",
        "  ax = plt.subplot(2,5,i+1)\n",
        "  plt.imshow(x_test[i,:,:,0])\n",
        "\n",
        "  # Imagenes recuperadas por el autoencoder\n",
        "  ax = plt.subplot(2,5,i+6)\n",
        "  pred = AU.predict(np.expand_dims(x_test[i],axis=0))\n",
        "  plt.imshow(pred[0,:,:,0])"
      ],
      "execution_count": null,
      "outputs": [
        {
          "output_type": "display_data",
          "data": {
            "image/png": "[encoded data removed]",
            "text/plain": [
              "<Figure size 432x288 with 10 Axes>"
            ]
          },
          "metadata": {
            "tags": [],
            "needs_background": "light"
          }
        }
      ]
    }
  ]
}
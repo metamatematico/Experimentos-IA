{
  "nbformat": 4,
  "nbformat_minor": 0,
  "metadata": {
    "kernelspec": {
      "display_name": "Python 3",
      "language": "python",
      "name": "python3"
    },
    "language_info": {
      "codemirror_mode": {
        "name": "ipython",
        "version": 3
      },
      "file_extension": ".py",
      "mimetype": "text/x-python",
      "name": "python",
      "nbconvert_exporter": "python",
      "pygments_lexer": "ipython3",
      "version": "3.6.10"
    },
    "colab": {
      "name": "Reto 08 WGAN-GP_Rostros.ipynb",
      "provenance": [],
      "collapsed_sections": [],
      "toc_visible": true,
      "include_colab_link": true
    },
    "accelerator": "GPU"
  },
  "cells": [
    {
      "cell_type": "markdown",
      "metadata": {
        "id": "view-in-github",
        "colab_type": "text"
      },
      "source": [
        "<a href=\"https://colab.research.google.com/github/metamatematico/Experimentos-IA/blob/master/Reto_08_WGAN_GP_Rostros.ipynb\" target=\"_parent\"><img src=\"https://colab.research.google.com/assets/colab-badge.svg\" alt=\"Open In Colab\"/></a>"
      ]
    },
    {
      "cell_type": "markdown",
      "metadata": {
        "id": "GRgZw504BF0W"
      },
      "source": [
        "# Librerias a utilizar"
      ]
    },
    {
      "cell_type": "code",
      "metadata": {
        "id": "Yjcvbq_lBF0e"
      },
      "source": [
        "from keras.layers import Input, Conv2D, Flatten, Dense, Conv2DTranspose, Reshape, Lambda, Dropout, BatchNormalization, UpSampling2D, LeakyReLU\n",
        "from keras.models import Model\n",
        "from keras import backend as K\n",
        "from keras.optimizers import RMSprop, Adam\n",
        "from keras.callbacks import ModelCheckpoint \n",
        "\n",
        "from functools import partial\n",
        "\n",
        "import numpy as np\n",
        "import matplotlib.pyplot as plt\n",
        "\n",
        "from PIL import Image\n",
        "import glob"
      ],
      "execution_count": null,
      "outputs": []
    },
    {
      "cell_type": "markdown",
      "metadata": {
        "id": "lu3wetOzBF1h"
      },
      "source": [
        "# Generar el modelo de WGAN-GP"
      ]
    },
    {
      "cell_type": "code",
      "metadata": {
        "id": "VnJnOnu3BF2D"
      },
      "source": [
        "#Discriminador / en este caso tambien llamada funcion critica\n",
        "def build_discriminador():\n",
        "  xx = Input(input_size)\n",
        "  conv1 = Conv2D(64,5,strides=(2,2),padding='same',activation=LeakyReLU(alpha=0.2))(___)\n",
        "  conv2 = Conv2D(64,5,strides=(2,2),padding='same',activation=LeakyReLU(alpha=0.2))(___)\n",
        "  conv3 = Conv2D(128,5,strides=(2,2),padding='same',activation=LeakyReLU(alpha=0.2))(___)\n",
        "  conv4 = Conv2D(128,5,strides=(1,1),padding='same',activation=LeakyReLU(alpha=0.2))(___)\n",
        "  f = Flatten()(conv4)\n",
        "  d1 = Dense(1, activation=None)(f) # La activacion para una GAN es sigmoid\n",
        "  model = Model(xx,d1)\n",
        "\n",
        "  return model\n",
        "\n",
        "\n",
        "#Generador\n",
        "def build_generador ():\n",
        "\n",
        "  g_x = Input(shape=(latent_dim))\n",
        "  d = Dense(4096)(g_x)\n",
        "  d = BatchNormalization()(d)\n",
        "  r = Reshape((8,8,64))(d)\n",
        "\n",
        "  dec1 = UpSampling2D(size=(2,2))(r)\n",
        "  dec1 = Conv2D(128,5,strides=(1,1), padding='same', activation=LeakyReLU(alpha=0.2))(dec1)\n",
        "  dec1 = BatchNormalization(momentum=0.8)(dec1)\n",
        "\n",
        "  dec2 = UpSampling2D(size=(2,2))(dec1)\n",
        "  dec2 = Conv2D(64,5,strides=(1,1), padding='same', activation=LeakyReLU(alpha=0.2))(dec2)\n",
        "  dec2 = BatchNormalization(momentum=0.8)(dec2)\n",
        "\n",
        "  dec3 = Conv2D(64,5,strides=(1,1), padding='same', activation=LeakyReLU(alpha=0.2))(dec2)\n",
        "  dec3 = BatchNormalization(momentum=0.8)(dec3)\n",
        "\n",
        "  dec4 = Conv2D(3,5,strides=(1,1), padding='same', activation='tanh')(dec3)\n",
        "\n",
        "  model = Model(g_x, dec4)\n",
        "\n",
        "  return model"
      ],
      "execution_count": null,
      "outputs": []
    },
    {
      "cell_type": "code",
      "metadata": {
        "id": "QlLvBB9DQjeC"
      },
      "source": [
        "# Wasserstein Loss Function\n",
        "def wasserstein_loss(y_true, y_pred):\n",
        "\treturn K.mean(y_true * y_pred)"
      ],
      "execution_count": null,
      "outputs": []
    },
    {
      "cell_type": "code",
      "metadata": {
        "id": "-aOPUR0BjiHA"
      },
      "source": [
        "# Constriur los modelos\n",
        "import tensorflow as tf\n",
        "tf.compat.v1.disable_eager_execution()\n",
        "\n",
        "def build_WGANgp (generador, discriminador):\n",
        "\n",
        "  # Generador de la imagen falsa\n",
        "  z = Input(shape=(latent_dim,))\n",
        "  f_img = generador(z)\n",
        "  f_out = discriminador(f_img)\n",
        "\n",
        "  # Imagen real\n",
        "  r_img = Input(shape= input_size)\n",
        "  r_out = discriminador(r_img)\n",
        "\n",
        "  # imagen promediada entre la real y la falsa\n",
        "  epsilon = K.placeholder(shape=(None,1,1,1))\n",
        "  a_img = Input(shape=(input_size), tensor= epsilon * r_img + (1-epsilon) * f_img)\n",
        "  a_out = discriminador(a_img)\n",
        "\n",
        "  # Funciones de perdida\n",
        "  r_loss = K.mean(r_out)\n",
        "  f_loss = K.mean(f_out)\n",
        "\n",
        "  # Penalizacion del gradiente   [Parte importante del WGAN-GP]\n",
        "  grad_mixed = K.gradients(a_out, [a_img])[0]\n",
        "  norm_grad_mixed = K.sqrt(K.sum(K.square(grad_mixed), axis=[1,2,3]))\n",
        "  grad_penalty = K.mean(K.square(norm_grad_mixed-1))\n",
        "  penalty = penaltyLambda * grad_penalty\n",
        "\n",
        "  d_loss = f_loss - r_loss + penalty\n",
        "\n",
        "  # Actualizar el discriminador\n",
        "  d_updates = Adam(lr=1e-4, beta_1=0.5, beta_2=0.9). \\\n",
        "              get_updates(params=discriminador.trainable_weights,loss=d_loss)\n",
        "  d_train = K.function([r_img, z, epsilon],\n",
        "                        [r_loss, f_loss, penalty, d_loss],\n",
        "                        d_updates)\n",
        "\n",
        "  # Actualizar el generador\n",
        "  g_loss = -1. * f_loss\n",
        "  g_updates = Adam(lr=1e-4, beta_1=0.5, beta_2=0.9). \\\n",
        "              get_updates(params=generador.trainable_weights,loss=g_loss)\n",
        "  g_train = K.function([z], [g_loss], g_updates)\n",
        "\n",
        "  return g_train, d_train\n",
        "\n"
      ],
      "execution_count": null,
      "outputs": []
    },
    {
      "cell_type": "code",
      "metadata": {
        "id": "-PYXkCIQBF2R"
      },
      "source": [
        "# Se necesita entrenar el modelo en dos secciones, una para el discriminador y otra para el generador\n",
        "# Con ayuda del discriminador se entrena el generador\n",
        "\n",
        "def train(epochs, batch_size=32, sample_interval=50):#\n",
        "  X_train = np.array(datos)\n",
        "  X_train = X_train / 127.5 - 1\n",
        "  X_train = np.clip(X_train, -1, 1)\n",
        "\n",
        "  for epoch in range(epochs):\n",
        "\n",
        "    #------------------------------------------------------------------------------------------\n",
        "    # ENTRENAR EL DISCRIMINADOR (CRITIC)\n",
        "\n",
        "    for _ in range(n_critic):\n",
        "\n",
        "      epsilon = np.random.uniform(size = (batch_size, 1,1,1))\n",
        "      z = np.random.normal(0, 1, (batch_size, latent_dim))\n",
        "      f_imgs = generador.predict(z)\n",
        "\n",
        "      idx = np.random.randint(0, X_train.shape[0], batch_size) # Escoje numero aleatoriamente\n",
        "      r_imgs = X_train[idx]                                      # Toma idx imagenes reales\n",
        "\n",
        "      r_loss, f_loss, penalty, d_loss = D_train([r_imgs,z, epsilon])\n",
        "\n",
        "\n",
        "    # ENTRENAMIENTO DEL GENERADOR\n",
        "    z = np.random.normal(0, 1, (batch_size, latent_dim)) # crea ruidos aleatorios\n",
        "    g_loss = G_train([z])         # Observa la perdida del generador\n",
        "\n",
        "    print ('Epoca: ',epoch, '  D_loss: ', d_loss, '  G_loss: ', g_loss)\n",
        "    if epoch % sample_interval == 0:\n",
        "      sample_images(epoch)\n",
        "\n",
        "def sample_images(epoch):\n",
        "  # Completar la funcion\n",
        "  plt.show()"
      ],
      "execution_count": null,
      "outputs": []
    },
    {
      "cell_type": "markdown",
      "metadata": {
        "id": "xasVy0EzK7hD"
      },
      "source": [
        "# Observar los objetos originales"
      ]
    },
    {
      "cell_type": "code",
      "metadata": {
        "id": "yOqeH74MZxlK",
        "colab": {
          "base_uri": "https://localhost:8080/"
        },
        "outputId": "f2a68eaa-8aa5-4ec3-bd64-fc26e38daa53"
      },
      "source": [
        "# Uso en COLAB\n",
        "from google.colab import drive\n",
        "drive.mount('/content/drive')"
      ],
      "execution_count": null,
      "outputs": [
        {
          "output_type": "stream",
          "text": [
            "Mounted at /content/drive\n"
          ],
          "name": "stdout"
        }
      ]
    },
    {
      "cell_type": "code",
      "metadata": {
        "id": "1WKwoY4Co2vs"
      },
      "source": [
        "# Cargar la base de datos previamente reducida\n",
        "\n",
        "# CelebA 32x32\n",
        "datos = np.load('/content/drive/MyDrive/01 Deep Learning Generativo para IA creativa/Parte 1/Dataset/celeba5000.npy')"
      ],
      "execution_count": null,
      "outputs": []
    },
    {
      "cell_type": "code",
      "metadata": {
        "id": "etFp14xdLkXe",
        "colab": {
          "base_uri": "https://localhost:8080/",
          "height": 484
        },
        "outputId": "e0e691f0-94db-4c5b-9258-149abe8db480"
      },
      "source": [
        "# Visualizar los datos\n",
        "fig = plt.figure(figsize=(8,4))\n",
        "for i in range (0,9):\n",
        "  a = fig.add_subplot(3,5,i+1)\n",
        "  plt.imshow(datos)\n",
        "plt.show()\n",
        "\n"
      ],
      "execution_count": null,
      "outputs": [
        {
          "output_type": "error",
          "ename": "TypeError",
          "evalue": "ignored",
          "traceback": [
            "\u001b[0;31m---------------------------------------------------------------------------\u001b[0m",
            "\u001b[0;31mTypeError\u001b[0m                                 Traceback (most recent call last)",
            "\u001b[0;32m<ipython-input-10-17f46aea8e16>\u001b[0m in \u001b[0;36m<module>\u001b[0;34m()\u001b[0m\n\u001b[1;32m      3\u001b[0m \u001b[0;32mfor\u001b[0m \u001b[0mi\u001b[0m \u001b[0;32min\u001b[0m \u001b[0mrange\u001b[0m \u001b[0;34m(\u001b[0m\u001b[0;36m0\u001b[0m\u001b[0;34m,\u001b[0m\u001b[0;36m9\u001b[0m\u001b[0;34m)\u001b[0m\u001b[0;34m:\u001b[0m\u001b[0;34m\u001b[0m\u001b[0;34m\u001b[0m\u001b[0m\n\u001b[1;32m      4\u001b[0m   \u001b[0ma\u001b[0m \u001b[0;34m=\u001b[0m \u001b[0mfig\u001b[0m\u001b[0;34m.\u001b[0m\u001b[0madd_subplot\u001b[0m\u001b[0;34m(\u001b[0m\u001b[0;36m3\u001b[0m\u001b[0;34m,\u001b[0m\u001b[0;36m5\u001b[0m\u001b[0;34m,\u001b[0m\u001b[0mi\u001b[0m\u001b[0;34m+\u001b[0m\u001b[0;36m1\u001b[0m\u001b[0;34m)\u001b[0m\u001b[0;34m\u001b[0m\u001b[0;34m\u001b[0m\u001b[0m\n\u001b[0;32m----> 5\u001b[0;31m   \u001b[0mplt\u001b[0m\u001b[0;34m.\u001b[0m\u001b[0mimshow\u001b[0m\u001b[0;34m(\u001b[0m\u001b[0mdatos\u001b[0m\u001b[0;34m)\u001b[0m\u001b[0;34m\u001b[0m\u001b[0;34m\u001b[0m\u001b[0m\n\u001b[0m\u001b[1;32m      6\u001b[0m \u001b[0mplt\u001b[0m\u001b[0;34m.\u001b[0m\u001b[0mshow\u001b[0m\u001b[0;34m(\u001b[0m\u001b[0;34m)\u001b[0m\u001b[0;34m\u001b[0m\u001b[0;34m\u001b[0m\u001b[0m\n\u001b[1;32m      7\u001b[0m \u001b[0;34m\u001b[0m\u001b[0m\n",
            "\u001b[0;32m/usr/local/lib/python3.6/dist-packages/matplotlib/pyplot.py\u001b[0m in \u001b[0;36mimshow\u001b[0;34m(X, cmap, norm, aspect, interpolation, alpha, vmin, vmax, origin, extent, shape, filternorm, filterrad, imlim, resample, url, data, **kwargs)\u001b[0m\n\u001b[1;32m   2649\u001b[0m         \u001b[0mfilternorm\u001b[0m\u001b[0;34m=\u001b[0m\u001b[0mfilternorm\u001b[0m\u001b[0;34m,\u001b[0m \u001b[0mfilterrad\u001b[0m\u001b[0;34m=\u001b[0m\u001b[0mfilterrad\u001b[0m\u001b[0;34m,\u001b[0m \u001b[0mimlim\u001b[0m\u001b[0;34m=\u001b[0m\u001b[0mimlim\u001b[0m\u001b[0;34m,\u001b[0m\u001b[0;34m\u001b[0m\u001b[0;34m\u001b[0m\u001b[0m\n\u001b[1;32m   2650\u001b[0m         resample=resample, url=url, **({\"data\": data} if data is not\n\u001b[0;32m-> 2651\u001b[0;31m         None else {}), **kwargs)\n\u001b[0m\u001b[1;32m   2652\u001b[0m     \u001b[0msci\u001b[0m\u001b[0;34m(\u001b[0m\u001b[0m__ret\u001b[0m\u001b[0;34m)\u001b[0m\u001b[0;34m\u001b[0m\u001b[0;34m\u001b[0m\u001b[0m\n\u001b[1;32m   2653\u001b[0m     \u001b[0;32mreturn\u001b[0m \u001b[0m__ret\u001b[0m\u001b[0;34m\u001b[0m\u001b[0;34m\u001b[0m\u001b[0m\n",
            "\u001b[0;32m/usr/local/lib/python3.6/dist-packages/matplotlib/__init__.py\u001b[0m in \u001b[0;36minner\u001b[0;34m(ax, data, *args, **kwargs)\u001b[0m\n\u001b[1;32m   1563\u001b[0m     \u001b[0;32mdef\u001b[0m \u001b[0minner\u001b[0m\u001b[0;34m(\u001b[0m\u001b[0max\u001b[0m\u001b[0;34m,\u001b[0m \u001b[0;34m*\u001b[0m\u001b[0margs\u001b[0m\u001b[0;34m,\u001b[0m \u001b[0mdata\u001b[0m\u001b[0;34m=\u001b[0m\u001b[0;32mNone\u001b[0m\u001b[0;34m,\u001b[0m \u001b[0;34m**\u001b[0m\u001b[0mkwargs\u001b[0m\u001b[0;34m)\u001b[0m\u001b[0;34m:\u001b[0m\u001b[0;34m\u001b[0m\u001b[0;34m\u001b[0m\u001b[0m\n\u001b[1;32m   1564\u001b[0m         \u001b[0;32mif\u001b[0m \u001b[0mdata\u001b[0m \u001b[0;32mis\u001b[0m \u001b[0;32mNone\u001b[0m\u001b[0;34m:\u001b[0m\u001b[0;34m\u001b[0m\u001b[0;34m\u001b[0m\u001b[0m\n\u001b[0;32m-> 1565\u001b[0;31m             \u001b[0;32mreturn\u001b[0m \u001b[0mfunc\u001b[0m\u001b[0;34m(\u001b[0m\u001b[0max\u001b[0m\u001b[0;34m,\u001b[0m \u001b[0;34m*\u001b[0m\u001b[0mmap\u001b[0m\u001b[0;34m(\u001b[0m\u001b[0msanitize_sequence\u001b[0m\u001b[0;34m,\u001b[0m \u001b[0margs\u001b[0m\u001b[0;34m)\u001b[0m\u001b[0;34m,\u001b[0m \u001b[0;34m**\u001b[0m\u001b[0mkwargs\u001b[0m\u001b[0;34m)\u001b[0m\u001b[0;34m\u001b[0m\u001b[0;34m\u001b[0m\u001b[0m\n\u001b[0m\u001b[1;32m   1566\u001b[0m \u001b[0;34m\u001b[0m\u001b[0m\n\u001b[1;32m   1567\u001b[0m         \u001b[0mbound\u001b[0m \u001b[0;34m=\u001b[0m \u001b[0mnew_sig\u001b[0m\u001b[0;34m.\u001b[0m\u001b[0mbind\u001b[0m\u001b[0;34m(\u001b[0m\u001b[0max\u001b[0m\u001b[0;34m,\u001b[0m \u001b[0;34m*\u001b[0m\u001b[0margs\u001b[0m\u001b[0;34m,\u001b[0m \u001b[0;34m**\u001b[0m\u001b[0mkwargs\u001b[0m\u001b[0;34m)\u001b[0m\u001b[0;34m\u001b[0m\u001b[0;34m\u001b[0m\u001b[0m\n",
            "\u001b[0;32m/usr/local/lib/python3.6/dist-packages/matplotlib/cbook/deprecation.py\u001b[0m in \u001b[0;36mwrapper\u001b[0;34m(*args, **kwargs)\u001b[0m\n\u001b[1;32m    356\u001b[0m                 \u001b[0;34mf\"%(removal)s.  If any parameter follows {name!r}, they \"\u001b[0m\u001b[0;34m\u001b[0m\u001b[0;34m\u001b[0m\u001b[0m\n\u001b[1;32m    357\u001b[0m                 f\"should be pass as keyword, not positionally.\")\n\u001b[0;32m--> 358\u001b[0;31m         \u001b[0;32mreturn\u001b[0m \u001b[0mfunc\u001b[0m\u001b[0;34m(\u001b[0m\u001b[0;34m*\u001b[0m\u001b[0margs\u001b[0m\u001b[0;34m,\u001b[0m \u001b[0;34m**\u001b[0m\u001b[0mkwargs\u001b[0m\u001b[0;34m)\u001b[0m\u001b[0;34m\u001b[0m\u001b[0;34m\u001b[0m\u001b[0m\n\u001b[0m\u001b[1;32m    359\u001b[0m \u001b[0;34m\u001b[0m\u001b[0m\n\u001b[1;32m    360\u001b[0m     \u001b[0;32mreturn\u001b[0m \u001b[0mwrapper\u001b[0m\u001b[0;34m\u001b[0m\u001b[0;34m\u001b[0m\u001b[0m\n",
            "\u001b[0;32m/usr/local/lib/python3.6/dist-packages/matplotlib/cbook/deprecation.py\u001b[0m in \u001b[0;36mwrapper\u001b[0;34m(*args, **kwargs)\u001b[0m\n\u001b[1;32m    356\u001b[0m                 \u001b[0;34mf\"%(removal)s.  If any parameter follows {name!r}, they \"\u001b[0m\u001b[0;34m\u001b[0m\u001b[0;34m\u001b[0m\u001b[0m\n\u001b[1;32m    357\u001b[0m                 f\"should be pass as keyword, not positionally.\")\n\u001b[0;32m--> 358\u001b[0;31m         \u001b[0;32mreturn\u001b[0m \u001b[0mfunc\u001b[0m\u001b[0;34m(\u001b[0m\u001b[0;34m*\u001b[0m\u001b[0margs\u001b[0m\u001b[0;34m,\u001b[0m \u001b[0;34m**\u001b[0m\u001b[0mkwargs\u001b[0m\u001b[0;34m)\u001b[0m\u001b[0;34m\u001b[0m\u001b[0;34m\u001b[0m\u001b[0m\n\u001b[0m\u001b[1;32m    359\u001b[0m \u001b[0;34m\u001b[0m\u001b[0m\n\u001b[1;32m    360\u001b[0m     \u001b[0;32mreturn\u001b[0m \u001b[0mwrapper\u001b[0m\u001b[0;34m\u001b[0m\u001b[0;34m\u001b[0m\u001b[0m\n",
            "\u001b[0;32m/usr/local/lib/python3.6/dist-packages/matplotlib/axes/_axes.py\u001b[0m in \u001b[0;36mimshow\u001b[0;34m(self, X, cmap, norm, aspect, interpolation, alpha, vmin, vmax, origin, extent, shape, filternorm, filterrad, imlim, resample, url, **kwargs)\u001b[0m\n\u001b[1;32m   5624\u001b[0m                               resample=resample, **kwargs)\n\u001b[1;32m   5625\u001b[0m \u001b[0;34m\u001b[0m\u001b[0m\n\u001b[0;32m-> 5626\u001b[0;31m         \u001b[0mim\u001b[0m\u001b[0;34m.\u001b[0m\u001b[0mset_data\u001b[0m\u001b[0;34m(\u001b[0m\u001b[0mX\u001b[0m\u001b[0;34m)\u001b[0m\u001b[0;34m\u001b[0m\u001b[0;34m\u001b[0m\u001b[0m\n\u001b[0m\u001b[1;32m   5627\u001b[0m         \u001b[0mim\u001b[0m\u001b[0;34m.\u001b[0m\u001b[0mset_alpha\u001b[0m\u001b[0;34m(\u001b[0m\u001b[0malpha\u001b[0m\u001b[0;34m)\u001b[0m\u001b[0;34m\u001b[0m\u001b[0;34m\u001b[0m\u001b[0m\n\u001b[1;32m   5628\u001b[0m         \u001b[0;32mif\u001b[0m \u001b[0mim\u001b[0m\u001b[0;34m.\u001b[0m\u001b[0mget_clip_path\u001b[0m\u001b[0;34m(\u001b[0m\u001b[0;34m)\u001b[0m \u001b[0;32mis\u001b[0m \u001b[0;32mNone\u001b[0m\u001b[0;34m:\u001b[0m\u001b[0;34m\u001b[0m\u001b[0;34m\u001b[0m\u001b[0m\n",
            "\u001b[0;32m/usr/local/lib/python3.6/dist-packages/matplotlib/image.py\u001b[0m in \u001b[0;36mset_data\u001b[0;34m(self, A)\u001b[0m\n\u001b[1;32m    697\u001b[0m                 or self._A.ndim == 3 and self._A.shape[-1] in [3, 4]):\n\u001b[1;32m    698\u001b[0m             raise TypeError(\"Invalid shape {} for image data\"\n\u001b[0;32m--> 699\u001b[0;31m                             .format(self._A.shape))\n\u001b[0m\u001b[1;32m    700\u001b[0m \u001b[0;34m\u001b[0m\u001b[0m\n\u001b[1;32m    701\u001b[0m         \u001b[0;32mif\u001b[0m \u001b[0mself\u001b[0m\u001b[0;34m.\u001b[0m\u001b[0m_A\u001b[0m\u001b[0;34m.\u001b[0m\u001b[0mndim\u001b[0m \u001b[0;34m==\u001b[0m \u001b[0;36m3\u001b[0m\u001b[0;34m:\u001b[0m\u001b[0;34m\u001b[0m\u001b[0;34m\u001b[0m\u001b[0m\n",
            "\u001b[0;31mTypeError\u001b[0m: Invalid shape (5000, 32, 32, 3) for image data"
          ]
        },
        {
          "output_type": "display_data",
          "data": {
            "image/png": "[encoded data removed]",
            "text/plain": [
              "<Figure size 576x288 with 1 Axes>"
            ]
          },
          "metadata": {
            "tags": [],
            "needs_background": "light"
          }
        }
      ]
    },
    {
      "cell_type": "code",
      "metadata": {
        "id": "ozzygbeppi5m"
      },
      "source": [
        "# Parametros del modelo\n",
        "input_size = (32,32,3)\n",
        "latent_dim = 100\n",
        "d_p = 0.2\n",
        "\n",
        "penaltyLambda = 10\n",
        "\n",
        "generador = build_generador()\n",
        "discriminador = build_discriminador()\n",
        "G_train, D_train = build_WGANgp(generador, discriminador)"
      ],
      "execution_count": null,
      "outputs": []
    },
    {
      "cell_type": "code",
      "metadata": {
        "id": "mxsXejy_mVm1"
      },
      "source": [
        "#generador.___()\n",
        "#discriminador.___()"
      ],
      "execution_count": null,
      "outputs": []
    },
    {
      "cell_type": "code",
      "metadata": {
        "id": "LHYckzoTpAyp"
      },
      "source": [
        "# Entrenar el modelo\n",
        "n_critic = 5 # Numero de entrenamiento de la funcion critica por veces del generador\n",
        "train(epochs=5000, batch_size=32, sample_interval=100)"
      ],
      "execution_count": null,
      "outputs": []
    },
    {
      "cell_type": "code",
      "metadata": {
        "id": "LQB5poPQr1w-"
      },
      "source": [
        "# probar el modelo terminado\n",
        "\n",
        "sample_images(epoch=___)\n"
      ],
      "execution_count": null,
      "outputs": []
    }
  ]
}
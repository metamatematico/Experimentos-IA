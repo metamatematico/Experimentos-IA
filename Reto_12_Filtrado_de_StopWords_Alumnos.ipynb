{
  "nbformat": 4,
  "nbformat_minor": 0,
  "metadata": {
    "kernelspec": {
      "display_name": "Python 3",
      "language": "python",
      "name": "python3"
    },
    "language_info": {
      "codemirror_mode": {
        "name": "ipython",
        "version": 3
      },
      "file_extension": ".py",
      "mimetype": "text/x-python",
      "name": "python",
      "nbconvert_exporter": "python",
      "pygments_lexer": "ipython3",
      "version": "3.7.5"
    },
    "colab": {
      "name": "Reto_12 Filtrado de StopWords Alumnos.ipynb",
      "provenance": [],
      "collapsed_sections": [],
      "include_colab_link": true
    }
  },
  "cells": [
    {
      "cell_type": "markdown",
      "metadata": {
        "id": "view-in-github",
        "colab_type": "text"
      },
      "source": [
        "<a href=\"https://colab.research.google.com/github/metamatematico/hello-world/blob/master/Reto_12_Filtrado_de_StopWords_Alumnos.ipynb\" target=\"_parent\"><img src=\"https://colab.research.google.com/assets/colab-badge.svg\" alt=\"Open In Colab\"/></a>"
      ]
    },
    {
      "cell_type": "markdown",
      "metadata": {
        "id": "GC4JSh43njBM"
      },
      "source": [
        "# Reto 12: Filtrado de StopWords"
      ]
    },
    {
      "cell_type": "code",
      "metadata": {
        "id": "7qZxrTO1njBQ"
      },
      "source": [
        "# Importar librerías de NLTK\n",
        "from nltk._____ import RegexpTokenizer\n",
        "from nltk._____._____ import TreebankWordDetokenizer\n",
        "from nltk._____ import stopwords"
      ],
      "execution_count": null,
      "outputs": []
    },
    {
      "cell_type": "code",
      "metadata": {
        "id": "jsenLaSAnjBe"
      },
      "source": [
        "# Asignación de StopWords predefinidas para idioma Español\n",
        "import nltk\n",
        "stop_words = nltk.corpus.stopwords._____('spanish')\n",
        "print(stop_words)"
      ],
      "execution_count": null,
      "outputs": []
    },
    {
      "cell_type": "code",
      "metadata": {
        "id": "wfn-TAvanjBn"
      },
      "source": [
        "# Creamos un diccionario con el formato\n",
        "# {Veces_que_aparece_la_palabra: [Palabra1, Palbra2, Palabra3, etc..]}\n",
        "from os import listdir\n",
        "Palabras = []\n",
        "\n",
        "path = 'Textos_Stopwords/'\n",
        "\n",
        "for File in listdir(path):\n",
        "    with open(path + _____) as Text:\n",
        "        # LEER el texto y pasar todo a minúsculas y eliminar signos de puntuación \n",
        "        Texto = Text._____().lower()\n",
        "        Texto = Texto.replace('.','').replace(',','').replace(';','').replace('-','')\n",
        "        Texto = Texto.replace('¿','').replace('?','').replace('¡','').replace('!','')\n",
        "        Texto = Texto.replace('(','').replace(')','')\n",
        "        # Solo se agregan las que no sean StopWords\n",
        "        for palabra in Texto.split():\n",
        "            if(palabra not in _____):\n",
        "                Palabras._____(palabra)\n",
        "    \n",
        "# Crear el diccionario con las frecuencias como claves y listas de palabras \n",
        "# correspondientes a cada frecuencia como valores\n",
        "Palabras_unicas = {}\n",
        "for unica in set(Palabras):\n",
        "    Frec = Palabras._____(unica)\n",
        "    if(Palabras_unicas._____(Frec) == None):\n",
        "        Palabras_unicas._____(Frec, [unica])\n",
        "    else:\n",
        "        Palabras_unicas[Frec].append(unica)\n",
        "print(Palabras_unicas)"
      ],
      "execution_count": null,
      "outputs": []
    },
    {
      "cell_type": "code",
      "metadata": {
        "id": "EM1KN9HZnjB3"
      },
      "source": [
        "# Ploteo de la gráfica de palabras para cada frecuencia de repetición\n",
        "# Declarar la librería para plotear y los parámetros de la gráfica\n",
        "import matplotlib._____ as plt\n",
        "plt.rcParams.update({'font.size': 22})\n",
        "plt.figure(figsize=(30,10))\n",
        "\n",
        "# Extraer la cantidad de palabras de cada categoría\n",
        "Frecuencias = []\n",
        "for Lista in Palabras_unicas._____():\n",
        "    Frecuencias.append(len(Lista))\n",
        "\n",
        "# Parámetros de ploteo\n",
        "plt.bar(Palabras_unicas._____(), Frecuencias, color=['cornflowerblue', 'lightblue', 'steelblue'])  \n",
        "plt.ylabel('Palabras distintas')\n",
        "plt.xlabel('Cantidad de repeticiones')\n",
        "plt.title('Cantidad de palabras por cantidad de apariciones')\n",
        "plt.xticks(rotation=80)"
      ],
      "execution_count": null,
      "outputs": []
    },
    {
      "cell_type": "code",
      "metadata": {
        "id": "uM6xhyytnjCJ"
      },
      "source": [
        "# Impresión de las palabras que corresponden a cada frecuencia:\n",
        "# (Se suma +1 porque el primer índice debe ser 1 y no 0)\n",
        "for x in range(max(Palabras_unicas._____())):\n",
        "    print(\"\\nPalabras que se repiten \" + str(x+1) + \" veces:\")\n",
        "    if(Palabras_unicas.get(x+1) != None):\n",
        "        print(set(_____[x+1]))"
      ],
      "execution_count": null,
      "outputs": []
    },
    {
      "cell_type": "code",
      "metadata": {
        "id": "DNGqWxLMnjDi"
      },
      "source": [
        "# Agregar palabras adicionales (Personalizadas) al diccionario de StopWords\n",
        "\n",
        "nuevas_StopWords = ['si','no', 'hola', 'adios', 'a', 'ante', 'bajo', 'cabe', 'con', 'contra', 'de', 'desde']\n",
        "stop_words.extend(_____)"
      ],
      "execution_count": null,
      "outputs": []
    },
    {
      "cell_type": "code",
      "metadata": {
        "id": "ehQoHiqHnjDx"
      },
      "source": [
        "# Ploteo de la nueva gráfica\n",
        "import matplotlib._____ as plt\n",
        "plt.rcParams.update({'font.size': 22})\n",
        "plt.figure(figsize=(30,10))\n",
        "\n",
        "# Extraer la cantidad de palabras de cada categoría\n",
        "Frecuencias = []\n",
        "for Lista in Palabras_unicas._____():\n",
        "    Frecuencias.append(len(Lista))\n",
        "\n",
        "# Parámetros de ploteo\n",
        "plt.bar(Palabras_unicas._____(), Frecuencias, color=['cornflowerblue', 'lightblue', 'steelblue'])  \n",
        "plt.ylabel('Palabras distintas')\n",
        "plt.xlabel('Cantidad de repeticiones')\n",
        "plt.title('Cantidad de palabras por cantidad de apariciones')\n",
        "plt.xticks(rotation=80)"
      ],
      "execution_count": null,
      "outputs": []
    }
  ]
}
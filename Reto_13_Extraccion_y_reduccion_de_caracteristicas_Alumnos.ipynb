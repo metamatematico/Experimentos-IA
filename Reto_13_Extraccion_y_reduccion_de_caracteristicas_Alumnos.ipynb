{
  "nbformat": 4,
  "nbformat_minor": 0,
  "metadata": {
    "colab": {
      "name": "Reto_13 - Extraccion y reduccion de caracteristicas Alumnos.ipynb",
      "provenance": [],
      "collapsed_sections": [],
      "include_colab_link": true
    },
    "kernelspec": {
      "display_name": "Python 3",
      "language": "python",
      "name": "python3"
    },
    "language_info": {
      "codemirror_mode": {
        "name": "ipython",
        "version": 3
      },
      "file_extension": ".py",
      "mimetype": "text/x-python",
      "name": "python",
      "nbconvert_exporter": "python",
      "pygments_lexer": "ipython3",
      "version": "3.7.5"
    }
  },
  "cells": [
    {
      "cell_type": "markdown",
      "metadata": {
        "id": "view-in-github",
        "colab_type": "text"
      },
      "source": [
        "<a href=\"https://colab.research.google.com/github/metamatematico/hello-world/blob/master/Reto_13_Extraccion_y_reduccion_de_caracteristicas_Alumnos.ipynb\" target=\"_parent\"><img src=\"https://colab.research.google.com/assets/colab-badge.svg\" alt=\"Open In Colab\"/></a>"
      ]
    },
    {
      "cell_type": "markdown",
      "metadata": {
        "id": "CEYn3vnCz4he"
      },
      "source": [
        "# Reto 13: Extracción y reducción de características"
      ]
    },
    {
      "cell_type": "code",
      "metadata": {
        "id": "IROcegnET3CT"
      },
      "source": [
        "# Importar el núcleo de trabajo en Español\n",
        "import spacy\n",
        "\n",
        "nlp_es = _____._____('_____')"
      ],
      "execution_count": null,
      "outputs": []
    },
    {
      "cell_type": "code",
      "metadata": {
        "id": "ehdK1RsddhXY"
      },
      "source": [
        "# Frases de películas \n",
        "Frases = {'Frase1': nlp_es(u'Hasta la vista, baby.'),\n",
        "          'Frase2': nlp_es(u'La locura es como la gravedad, solo se necesita un empujoncito.'),\n",
        "          'Frase3': nlp_es(u'Algunos hombres sólo quieren ver el mundo arder.'),\n",
        "          'Frase4': nlp_es(u'¿Por qué caemos Bruce? Para aprender a levantarnos.'),\n",
        "          'Frase5': nlp_es(u'¿De qué sirve confesarme, si no me arrepiento?.'),\n",
        "          'Frase6': nlp_es(u'¡Soy el rey del mundo!'),\n",
        "          'Frase7': nlp_es(u'Todos tenemos el amor que creemos merecer.'),\n",
        "          'Frase8': nlp_es(u'Todos flotan, y tú también flotarás.'),\n",
        "          'Frase9': nlp_es(u'Hay tres maneras de hacer las cosas, la correcta, la incorrecta y la mía.'),\n",
        "          'Frase10': nlp_es(u'No. No lo intentes. Hazlo, o no lo hagas, pero no lo intentes.')}"
      ],
      "execution_count": null,
      "outputs": []
    },
    {
      "cell_type": "code",
      "metadata": {
        "id": "JQ61DijtkfBc"
      },
      "source": [
        "# Construcción del vocabulario (Diccionario de características)\n",
        "# El diccionario \"Vocabulario\" almacena cada uno de los tokens diferentes, con\n",
        "# su respectivo valor de frecuencia o repetición\n",
        "# El arreglo \"Voc\" almacena los nombres de los tokens, permitiendo conocer\n",
        "# la posición de cada uno (index) ya que los diccionarios no soportan el uso\n",
        "# de index\n",
        "Vocabulario = {}\n",
        "Voc = []\n",
        "\n",
        "i = 0\n",
        "for Frase in Frases.values():\n",
        "    for Token in Frase:\n",
        "        if(Token._____.lower() not in Vocabulario):\n",
        "            Vocabulario[Token._____.lower()] = i\n",
        "            Voc.append(Token._____)\n",
        "            i += 1\n",
        "\n",
        "print(\"Vocabulario: \")\n",
        "print(Vocabulario)"
      ],
      "execution_count": null,
      "outputs": []
    },
    {
      "cell_type": "code",
      "metadata": {
        "id": "ecZi6yep_31Q"
      },
      "source": [
        "# Asignación de frecuencia de características en la matriz, e impresión\n",
        "Caract = []\n",
        "\n",
        "for Label in Frases.keys():\n",
        "    Caract._____([Label] + [0]*len(Vocabulario))\n",
        "\n",
        "F = 0\n",
        "# Llenado de la frecuencia de cada elemento del vocabulario por cada frase\n",
        "for Frase in Frases.values():\n",
        "    for token in Frase:\n",
        "        # Lista bidimensional [Frase][Token]\n",
        "        # Añadir el índice de frase y token correspondiente para sumar \"1\" su frecuencia\n",
        "        Caract[F][Vocabulario[token._____.lower()] + 1] += 1\n",
        "    F += 1\n",
        "\n",
        "for Car in Caract:\n",
        "    print(Car)"
      ],
      "execution_count": null,
      "outputs": []
    },
    {
      "cell_type": "code",
      "metadata": {
        "id": "ogxwgRs5THC0"
      },
      "source": [
        "# Conteo de apariciones de cada característica (Global)\n",
        "Repeticiones = []\n",
        "\n",
        "for i in range(len(_____)):\n",
        "    N = 0\n",
        "    for j in range(len(_____)):\n",
        "        if(Caract[j][i+1] != 0):\n",
        "            N += 1\n",
        "      # Agregar en el arreglo el valor obtenido \n",
        "    Repeticiones._____(N)\n",
        "\n",
        "print(Repeticiones)"
      ],
      "execution_count": null,
      "outputs": []
    },
    {
      "cell_type": "code",
      "metadata": {
        "id": "AU6F1JCUbCGv"
      },
      "source": [
        "# Generación del nuevo diccionario e impresión de características rechazadas\n",
        "# Utilizar \"Vocabulario2\" como el nuevo vocabulario de palabras sin repetir\n",
        "# y sus respectivos valores de frecuencia\n",
        "# Voc2 ayuda a conocer la posición de cada token (Index)\n",
        "Vocabulario2 = {}\n",
        "Voc2 = []\n",
        "Eliminadas = []\n",
        "n = 0\n",
        "\n",
        "for r in range(len(Repeticiones)):\n",
        "    # Solo agregar las que aparecen solo una vez\n",
        "    if(Repeticiones[r] == 1):\n",
        "        # Agregar la característica (En minúsculas)\n",
        "        Vocabulario2._____(Voc[r].lower(), n)\n",
        "        Voc2._____(Voc[r])\n",
        "        n += 1\n",
        "    else:\n",
        "        Eliminadas._____(Voc[r].lower())\n",
        "\n",
        "print(\"Nuevo vocabulario:\")\n",
        "print(Vocabulario2)\n",
        "print(\"\\nCaracterísticas rechazadas:\")\n",
        "print(Eliminadas)"
      ],
      "execution_count": null,
      "outputs": []
    },
    {
      "cell_type": "code",
      "metadata": {
        "id": "-hx8vkrdfH0v"
      },
      "source": [
        "# Nueva matriz de características\n",
        "Caract2 = []\n",
        "\n",
        "for Label in Frases.keys():\n",
        "    Caract2._____([Label] + [0]*len(Vocabulario2))\n",
        "\n",
        "F2 = 0\n",
        "for Frase in Frases.values():\n",
        "    for token in Frase:\n",
        "        if(str(token) in Voc2):\n",
        "            # Arreglo bidimensional [Frase][Token]\n",
        "            # Añadir el índice de frase y token correspondiente para sumar \"1\" su frecuencia\n",
        "            Caract2[F2][Vocabulario2[token._____.lower()]+1] += 1\n",
        "    F2 += 1\n",
        "\n",
        "for Car2 in Caract2:\n",
        "    print(Car2)"
      ],
      "execution_count": null,
      "outputs": []
    }
  ]
}